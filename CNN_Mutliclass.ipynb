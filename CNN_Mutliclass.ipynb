{
 "cells": [
  {
   "cell_type": "markdown",
   "source": [
    "# Mise en place du modèle permettant de prédire la catégorie d'une attaque réseau\n",
    "Grace à ce modèle, nous allons pouvoir prédire la catégorie d'une attaque réseau en fonction de ses caractéristiques.\n",
    "Nous allons utilisé le fichier csv précédemment créé dans le script \"prepare_data_CNN\". Les données sont déjà préparées pour être utilisées dans un modèle de réseau de neurones."
   ],
   "metadata": {
    "collapsed": false
   }
  },
  {
   "cell_type": "markdown",
   "source": [
    "## Importation des librairies"
   ],
   "metadata": {
    "collapsed": false
   }
  },
  {
   "cell_type": "code",
   "execution_count": 152,
   "outputs": [
    {
     "name": "stderr",
     "output_type": "stream",
     "text": [
      "UsageError: Line magic function `%tensorflow_version` not found.\n"
     ]
    }
   ],
   "source": [
    "# Forcer l'utilisation de Tensorflow 2.x\n",
    "%tensorflow_version 2.x"
   ],
   "metadata": {
    "collapsed": false
   }
  },
  {
   "cell_type": "code",
   "execution_count": 153,
   "outputs": [
    {
     "name": "stdout",
     "output_type": "stream",
     "text": [
      "Requirement already satisfied: bayesian-optimization in ./venv/lib/python3.11/site-packages (1.4.3)\r\n",
      "Requirement already satisfied: numpy>=1.9.0 in ./venv/lib/python3.11/site-packages (from bayesian-optimization) (1.24.3)\r\n",
      "Requirement already satisfied: scipy>=1.0.0 in ./venv/lib/python3.11/site-packages (from bayesian-optimization) (1.11.1)\r\n",
      "Requirement already satisfied: scikit-learn>=0.18.0 in ./venv/lib/python3.11/site-packages (from bayesian-optimization) (1.3.0)\r\n",
      "Requirement already satisfied: colorama>=0.4.6 in ./venv/lib/python3.11/site-packages (from bayesian-optimization) (0.4.6)\r\n",
      "Requirement already satisfied: joblib>=1.1.1 in ./venv/lib/python3.11/site-packages (from scikit-learn>=0.18.0->bayesian-optimization) (1.3.2)\r\n",
      "Requirement already satisfied: threadpoolctl>=2.0.0 in ./venv/lib/python3.11/site-packages (from scikit-learn>=0.18.0->bayesian-optimization) (3.2.0)\r\n",
      "\r\n",
      "\u001B[1m[\u001B[0m\u001B[34;49mnotice\u001B[0m\u001B[1;39;49m]\u001B[0m\u001B[39;49m A new release of pip is available: \u001B[0m\u001B[31;49m23.1.2\u001B[0m\u001B[39;49m -> \u001B[0m\u001B[32;49m23.2.1\u001B[0m\r\n",
      "\u001B[1m[\u001B[0m\u001B[34;49mnotice\u001B[0m\u001B[1;39;49m]\u001B[0m\u001B[39;49m To update, run: \u001B[0m\u001B[32;49mpip install --upgrade pip\u001B[0m\r\n",
      "Requirement already satisfied: mlxtend in ./venv/lib/python3.11/site-packages (0.22.0)\r\n",
      "\r\n",
      "\u001B[1m[\u001B[0m\u001B[34;49mnotice\u001B[0m\u001B[1;39;49m]\u001B[0m\u001B[39;49m A new release of pip is available: \u001B[0m\u001B[31;49m23.1.2\u001B[0m\u001B[39;49m -> \u001B[0m\u001B[32;49m23.2.1\u001B[0m\r\n",
      "\u001B[1m[\u001B[0m\u001B[34;49mnotice\u001B[0m\u001B[1;39;49m]\u001B[0m\u001B[39;49m To update, run: \u001B[0m\u001B[32;49mpip install --upgrade pip\u001B[0m\r\n"
     ]
    }
   ],
   "source": [
    "# Install les packages nécessaires\n",
    "!pip install bayesian-optimization\n",
    "!pip install mlxtend --upgrade --no-deps"
   ],
   "metadata": {
    "collapsed": false,
    "ExecuteTime": {
     "start_time": "2023-08-14T21:23:03.402892Z",
     "end_time": "2023-08-14T21:23:05.890580Z"
    }
   }
  },
  {
   "cell_type": "code",
   "execution_count": 154,
   "metadata": {
    "collapsed": true,
    "ExecuteTime": {
     "start_time": "2023-08-14T21:23:05.888997Z",
     "end_time": "2023-08-14T21:23:05.895677Z"
    }
   },
   "outputs": [],
   "source": [
    "import matplotlib.pyplot as plt\n",
    "import numpy as np\n",
    "import pandas as pd\n",
    "from keras import Model\n",
    "from keras.layers import Input\n",
    "import seaborn as sns\n",
    "# Ordinateur Local\n",
    "from keras.src.layers import BatchNormalization, ReLU, Conv2D, Flatten, Dense, concatenate, MaxPooling2D, Dropout\n",
    "from sklearn.model_selection import StratifiedShuffleSplit\n",
    "\n",
    "# Google Colab\n",
    "# from google.colab import drive\n",
    "# from tensorflow.keras.layers import BatchNormalization, ReLU, Conv2D, Flatten, Dense, concatenate, MaxPooling2D, Dropout\n"
   ]
  },
  {
   "cell_type": "markdown",
   "source": [
    "## Importation des données"
   ],
   "metadata": {
    "collapsed": false
   }
  },
  {
   "cell_type": "code",
   "execution_count": 155,
   "outputs": [],
   "source": [
    "# Import des données Local\n",
    "data = pd.read_csv('all_data_UNSW-NB15.csv', low_memory=False)"
   ],
   "metadata": {
    "collapsed": false,
    "ExecuteTime": {
     "start_time": "2023-08-14T21:23:05.892203Z",
     "end_time": "2023-08-14T21:23:18.988414Z"
    }
   }
  },
  {
   "cell_type": "code",
   "execution_count": 156,
   "outputs": [],
   "source": [
    "# Import des données sur Google Colab\n",
    "# Récupérer son drive Google\n",
    "# drive.mount('/content/drive')\n",
    "# Path\n",
    "# path_data = \"/content/drive/MyDrive/Data/all_data_UNSW-NB15.csv\"\n",
    "\n",
    "# Import des données\n",
    "# data = pd.read_csv(path_data,dtype='unicode')"
   ],
   "metadata": {
    "collapsed": false,
    "ExecuteTime": {
     "start_time": "2023-08-14T21:23:18.986830Z",
     "end_time": "2023-08-14T21:23:18.990390Z"
    }
   }
  },
  {
   "cell_type": "markdown",
   "source": [
    "## Affichage des données"
   ],
   "metadata": {
    "collapsed": false
   }
  },
  {
   "cell_type": "code",
   "execution_count": 157,
   "outputs": [
    {
     "data": {
      "text/plain": "   proto  state  dur  sbytes  dbytes  sttl  dttl  sloss  dloss  service  ...  \\\n0  120.0    2.0    0       0       0    31    29      0      0      2.0  ...   \n1  120.0    2.0    0       0       0    31    29      0      0      0.0  ...   \n2  120.0    2.0    0       0       0    31    29      0      0      2.0  ...   \n3  120.0    2.0    0       0       0    31    29      0      0      2.0  ...   \n4  120.0    2.0    0       0       0    31    29      0      0      2.0  ...   \n\n   attack_cat_analysis  attack_cat_backdoor  attack_cat_dos  \\\n0                False                False           False   \n1                False                False           False   \n2                False                False           False   \n3                False                False           False   \n4                False                False           False   \n\n   attack_cat_exploits  attack_cat_fuzzers  attack_cat_generic  \\\n0                False               False               False   \n1                False               False               False   \n2                False               False               False   \n3                False               False               False   \n4                False               False               False   \n\n   attack_cat_normal  attack_cat_reconnaissance  attack_cat_shellcode  \\\n0               True                      False                 False   \n1               True                      False                 False   \n2               True                      False                 False   \n3               True                      False                 False   \n4               True                      False                 False   \n\n   attack_cat_worms  \n0             False  \n1             False  \n2             False  \n3             False  \n4             False  \n\n[5 rows x 54 columns]",
      "text/html": "<div>\n<style scoped>\n    .dataframe tbody tr th:only-of-type {\n        vertical-align: middle;\n    }\n\n    .dataframe tbody tr th {\n        vertical-align: top;\n    }\n\n    .dataframe thead th {\n        text-align: right;\n    }\n</style>\n<table border=\"1\" class=\"dataframe\">\n  <thead>\n    <tr style=\"text-align: right;\">\n      <th></th>\n      <th>proto</th>\n      <th>state</th>\n      <th>dur</th>\n      <th>sbytes</th>\n      <th>dbytes</th>\n      <th>sttl</th>\n      <th>dttl</th>\n      <th>sloss</th>\n      <th>dloss</th>\n      <th>service</th>\n      <th>...</th>\n      <th>attack_cat_analysis</th>\n      <th>attack_cat_backdoor</th>\n      <th>attack_cat_dos</th>\n      <th>attack_cat_exploits</th>\n      <th>attack_cat_fuzzers</th>\n      <th>attack_cat_generic</th>\n      <th>attack_cat_normal</th>\n      <th>attack_cat_reconnaissance</th>\n      <th>attack_cat_shellcode</th>\n      <th>attack_cat_worms</th>\n    </tr>\n  </thead>\n  <tbody>\n    <tr>\n      <th>0</th>\n      <td>120.0</td>\n      <td>2.0</td>\n      <td>0</td>\n      <td>0</td>\n      <td>0</td>\n      <td>31</td>\n      <td>29</td>\n      <td>0</td>\n      <td>0</td>\n      <td>2.0</td>\n      <td>...</td>\n      <td>False</td>\n      <td>False</td>\n      <td>False</td>\n      <td>False</td>\n      <td>False</td>\n      <td>False</td>\n      <td>True</td>\n      <td>False</td>\n      <td>False</td>\n      <td>False</td>\n    </tr>\n    <tr>\n      <th>1</th>\n      <td>120.0</td>\n      <td>2.0</td>\n      <td>0</td>\n      <td>0</td>\n      <td>0</td>\n      <td>31</td>\n      <td>29</td>\n      <td>0</td>\n      <td>0</td>\n      <td>0.0</td>\n      <td>...</td>\n      <td>False</td>\n      <td>False</td>\n      <td>False</td>\n      <td>False</td>\n      <td>False</td>\n      <td>False</td>\n      <td>True</td>\n      <td>False</td>\n      <td>False</td>\n      <td>False</td>\n    </tr>\n    <tr>\n      <th>2</th>\n      <td>120.0</td>\n      <td>2.0</td>\n      <td>0</td>\n      <td>0</td>\n      <td>0</td>\n      <td>31</td>\n      <td>29</td>\n      <td>0</td>\n      <td>0</td>\n      <td>2.0</td>\n      <td>...</td>\n      <td>False</td>\n      <td>False</td>\n      <td>False</td>\n      <td>False</td>\n      <td>False</td>\n      <td>False</td>\n      <td>True</td>\n      <td>False</td>\n      <td>False</td>\n      <td>False</td>\n    </tr>\n    <tr>\n      <th>3</th>\n      <td>120.0</td>\n      <td>2.0</td>\n      <td>0</td>\n      <td>0</td>\n      <td>0</td>\n      <td>31</td>\n      <td>29</td>\n      <td>0</td>\n      <td>0</td>\n      <td>2.0</td>\n      <td>...</td>\n      <td>False</td>\n      <td>False</td>\n      <td>False</td>\n      <td>False</td>\n      <td>False</td>\n      <td>False</td>\n      <td>True</td>\n      <td>False</td>\n      <td>False</td>\n      <td>False</td>\n    </tr>\n    <tr>\n      <th>4</th>\n      <td>120.0</td>\n      <td>2.0</td>\n      <td>0</td>\n      <td>0</td>\n      <td>0</td>\n      <td>31</td>\n      <td>29</td>\n      <td>0</td>\n      <td>0</td>\n      <td>2.0</td>\n      <td>...</td>\n      <td>False</td>\n      <td>False</td>\n      <td>False</td>\n      <td>False</td>\n      <td>False</td>\n      <td>False</td>\n      <td>True</td>\n      <td>False</td>\n      <td>False</td>\n      <td>False</td>\n    </tr>\n  </tbody>\n</table>\n<p>5 rows × 54 columns</p>\n</div>"
     },
     "execution_count": 157,
     "metadata": {},
     "output_type": "execute_result"
    }
   ],
   "source": [
    "data.head()"
   ],
   "metadata": {
    "collapsed": false,
    "ExecuteTime": {
     "start_time": "2023-08-14T21:23:18.997764Z",
     "end_time": "2023-08-14T21:23:19.001017Z"
    }
   }
  },
  {
   "cell_type": "markdown",
   "source": [
    "## Récupération de la valeur de la variable cible"
   ],
   "metadata": {
    "collapsed": false
   }
  },
  {
   "cell_type": "code",
   "execution_count": 158,
   "outputs": [],
   "source": [
    "# Définition de 'y' en fonction des colonnes d'encodage one-hot\n",
    "y_cols = ['attack_cat_analysis', 'attack_cat_backdoor', 'attack_cat_dos', 'attack_cat_exploits', 'attack_cat_fuzzers',\n",
    "          'attack_cat_generic', 'attack_cat_normal', 'attack_cat_reconnaissance', 'attack_cat_shellcode',\n",
    "          'attack_cat_worms']\n",
    "\n",
    "y = data[y_cols]\n",
    "\n",
    "# Extraction des colonnes \"attack_cat\" pour les stocker dans 'y'\n",
    "# y = data[y_cols]\n",
    "# Conversion de 'y' en tableau numpy\n",
    "#y_values = y.values\n",
    "# Récupération des noms des colonnes\n",
    "#y_columns = y.columns\n",
    "\n",
    "# Suppression des colonnes d'encodage one-hot après avoir défini 'y'\n",
    "data.drop(y_cols, axis=1, inplace=True)"
   ],
   "metadata": {
    "collapsed": false,
    "ExecuteTime": {
     "start_time": "2023-08-14T21:23:19.201547Z",
     "end_time": "2023-08-14T21:23:19.236494Z"
    }
   }
  },
  {
   "cell_type": "code",
   "execution_count": 159,
   "outputs": [],
   "source": [
    "# suppression de la colonne 'label'\n",
    "data.drop('label', axis=1, inplace=True)"
   ],
   "metadata": {
    "collapsed": false,
    "ExecuteTime": {
     "start_time": "2023-08-14T21:23:19.585952Z",
     "end_time": "2023-08-14T21:23:19.701479Z"
    }
   }
  },
  {
   "cell_type": "markdown",
   "source": [
    "## Affichage des données en images"
   ],
   "metadata": {
    "collapsed": false
   }
  },
  {
   "cell_type": "code",
   "execution_count": 160,
   "outputs": [
    {
     "name": "stdout",
     "output_type": "stream",
     "text": [
      "(2540047, 43)\n"
     ]
    }
   ],
   "source": [
    "# La longueur de notre dataset est de 42 colonnes et de 257673 lignes\n",
    "print(data.shape)"
   ],
   "metadata": {
    "collapsed": false,
    "ExecuteTime": {
     "start_time": "2023-08-14T21:23:19.681745Z",
     "end_time": "2023-08-14T21:23:19.702636Z"
    }
   }
  },
  {
   "cell_type": "code",
   "execution_count": 161,
   "outputs": [
    {
     "name": "stdout",
     "output_type": "stream",
     "text": [
      "(2540047, 64)\n"
     ]
    }
   ],
   "source": [
    "# Chaque ligne aura une longueur de 64 valeurs\n",
    "# Actuellement, chaque ligne est composée de 43 valeurs donc nous ajoutons 21 valeurs pour arriver à 64\n",
    "# (0,0) : 0 ligne ajoutée en haut, 0 ligne ajoutée en bas\n",
    "# (0,22) : 0 colonne ajoutée à gauche, 22 colonnes ajoutées à droite\n",
    "# 'constant' : Les valeurs ajoutées sont des 0\n",
    "byte_images = np.pad(data.to_numpy(), ((0, 0), (0, 21)), 'constant')\n",
    "print(byte_images.shape)"
   ],
   "metadata": {
    "collapsed": false,
    "ExecuteTime": {
     "start_time": "2023-08-14T21:23:19.690730Z",
     "end_time": "2023-08-14T21:23:21.500601Z"
    }
   }
  },
  {
   "cell_type": "code",
   "execution_count": 162,
   "outputs": [
    {
     "name": "stdout",
     "output_type": "stream",
     "text": [
      "Image normale :\n",
      "Normal Output\n"
     ]
    },
    {
     "data": {
      "text/plain": "<Figure size 640x480 with 1 Axes>",
      "image/png": "[encoded data removed]"
     },
     "metadata": {},
     "output_type": "display_data"
    },
    {
     "name": "stdout",
     "output_type": "stream",
     "text": [
      "Generic Output\n"
     ]
    },
    {
     "data": {
      "text/plain": "<Figure size 640x480 with 1 Axes>",
      "image/png": "[encoded data removed]"
     },
     "metadata": {},
     "output_type": "display_data"
    },
    {
     "name": "stdout",
     "output_type": "stream",
     "text": [
      "Exploits Output\n"
     ]
    },
    {
     "data": {
      "text/plain": "<Figure size 640x480 with 1 Axes>",
      "image/png": "[encoded data removed]"
     },
     "metadata": {},
     "output_type": "display_data"
    },
    {
     "name": "stdout",
     "output_type": "stream",
     "text": [
      "Fuzzers Output\n"
     ]
    },
    {
     "data": {
      "text/plain": "<Figure size 640x480 with 1 Axes>",
      "image/png": "[encoded data removed]"
     },
     "metadata": {},
     "output_type": "display_data"
    },
    {
     "name": "stdout",
     "output_type": "stream",
     "text": [
      "DoS Output\n"
     ]
    },
    {
     "data": {
      "text/plain": "<Figure size 640x480 with 1 Axes>",
      "image/png": "[encoded data removed]"
     },
     "metadata": {},
     "output_type": "display_data"
    },
    {
     "name": "stdout",
     "output_type": "stream",
     "text": [
      "Reconnaissance Output\n"
     ]
    },
    {
     "data": {
      "text/plain": "<Figure size 640x480 with 1 Axes>",
      "image/png": "[encoded data removed]"
     },
     "metadata": {},
     "output_type": "display_data"
    },
    {
     "name": "stdout",
     "output_type": "stream",
     "text": [
      "Analysis Output\n"
     ]
    },
    {
     "data": {
      "text/plain": "<Figure size 640x480 with 1 Axes>",
      "image/png": "[encoded data removed]"
     },
     "metadata": {},
     "output_type": "display_data"
    },
    {
     "name": "stdout",
     "output_type": "stream",
     "text": [
      "Backdoor Output\n"
     ]
    },
    {
     "data": {
      "text/plain": "<Figure size 640x480 with 1 Axes>",
      "image/png": "[encoded data removed]"
     },
     "metadata": {},
     "output_type": "display_data"
    },
    {
     "name": "stdout",
     "output_type": "stream",
     "text": [
      "Shellcode Output\n"
     ]
    },
    {
     "data": {
      "text/plain": "<Figure size 640x480 with 1 Axes>",
      "image/png": "[encoded data removed]"
     },
     "metadata": {},
     "output_type": "display_data"
    },
    {
     "name": "stdout",
     "output_type": "stream",
     "text": [
      "Worms Output\n"
     ]
    },
    {
     "data": {
      "text/plain": "<Figure size 640x480 with 1 Axes>",
      "image/png": "[encoded data removed]"
     },
     "metadata": {},
     "output_type": "display_data"
    }
   ],
   "source": [
    "# Plot d'une image\n",
    "def plot_single_image(byte_image):\n",
    "    grayImage = byte_image.reshape(8, 8)  # On redimensionne l'image\n",
    "    plt.imshow(grayImage, cmap=\"gray\")  # On affiche l'image avec une colormap en niveau de gris\n",
    "    plt.show()  # On affiche l'image\n",
    "\n",
    "\n",
    "print(\"Image normale :\")\n",
    "print(\"Normal Output\")\n",
    "plot_single_image(byte_images[0])  # index 0 = Normal\n",
    "print(\"Generic Output\")\n",
    "plot_single_image(byte_images[117204])\n",
    "print(\"Exploits Output\")\n",
    "plot_single_image(byte_images[48932])\n",
    "print(\"Fuzzers Output\")\n",
    "plot_single_image(byte_images[48017])\n",
    "print(\"DoS Output\")\n",
    "plot_single_image(byte_images[48999])\n",
    "print(\"Reconnaissance Output\")\n",
    "plot_single_image(byte_images[48866])\n",
    "print(\"Analysis Output\")\n",
    "plot_single_image(byte_images[47932])\n",
    "print(\"Backdoor Output\")\n",
    "plot_single_image(byte_images[47911])\n",
    "print(\"Shellcode Output\")\n",
    "plot_single_image(byte_images[48813])\n",
    "print(\"Worms Output\")\n",
    "plot_single_image(byte_images[49959])"
   ],
   "metadata": {
    "collapsed": false,
    "ExecuteTime": {
     "start_time": "2023-08-14T21:23:21.502258Z",
     "end_time": "2023-08-14T21:23:22.218012Z"
    }
   }
  },
  {
   "cell_type": "raw",
   "source": [
    "### Transformation des données en images"
   ],
   "metadata": {
    "collapsed": false
   }
  },
  {
   "cell_type": "code",
   "execution_count": 163,
   "outputs": [],
   "source": [
    "# Eventuellement normaliser les données de -0.5 à 0.5"
   ],
   "metadata": {
    "collapsed": false,
    "ExecuteTime": {
     "start_time": "2023-08-14T21:23:22.199751Z",
     "end_time": "2023-08-14T21:23:22.218131Z"
    }
   }
  },
  {
   "cell_type": "code",
   "execution_count": 164,
   "outputs": [
    {
     "data": {
      "text/plain": "(2540047, 64)"
     },
     "execution_count": 164,
     "metadata": {},
     "output_type": "execute_result"
    }
   ],
   "source": [
    "# Récupération des valeurs de 'byte_images' dans 'x'\n",
    "x = np.array(byte_images)\n",
    "x.shape"
   ],
   "metadata": {
    "collapsed": false,
    "ExecuteTime": {
     "start_time": "2023-08-14T21:23:22.202255Z",
     "end_time": "2023-08-14T21:23:23.223249Z"
    }
   }
  },
  {
   "cell_type": "code",
   "execution_count": 165,
   "outputs": [],
   "source": [
    "x = x.reshape(data.shape[0], 8, 8, 1)\n",
    "# Transforme le vecteur x en une matrice 4D de taille (2'540'047, 8, 8, 1)\n",
    "# chaque element de la liste x est un vecteur de taille 64, nous la transformons en un carré donc 8x8x1.\n",
    "# 1 car nous avons une seule couleur (niveau de gris)"
   ],
   "metadata": {
    "collapsed": false,
    "ExecuteTime": {
     "start_time": "2023-08-14T21:23:23.226198Z",
     "end_time": "2023-08-14T21:23:23.227954Z"
    }
   }
  },
  {
   "cell_type": "code",
   "execution_count": 171,
   "outputs": [],
   "source": [
    "def plot_accuracies(nets, history, names, y_accuracy):\n",
    "    \"\"\"\n",
    "    Affiche un graphique des précisions de validation pour différents modèles\n",
    "    sur plusieurs époques d'entraînement.\n",
    "\n",
    "    :param nets: Nombre total de modèles à afficher.\n",
    "    :param history: Liste contenant l'historique d'entraînement pour chaque modèle.\n",
    "    :param names: Liste des noms des modèles.\n",
    "    :param y_accuracy: Limites pour l'axe des ordonnées (précision).\n",
    "    \"\"\"\n",
    "    # Initialisation de la figure\n",
    "    plt.figure(figsize=(15, 5))\n",
    "    # Liste de couleurs pour les différentes courbes\n",
    "    color = ['red', 'green', 'blue', 'orange', 'purple', 'brown', 'pink', 'gray', 'olive', 'cyan']\n",
    "    # Boucle pour tracer la précision de validation pour chaque modèle\n",
    "    for i in range(nets):\n",
    "        plt.plot(history[i].history['val_accuracy'], linestyle='--', color=color[i])\n",
    "    # Titre et étiquettes pour les axes\n",
    "    plt.title('Précision du modèle')\n",
    "    plt.ylabel('Précision')\n",
    "    plt.xlabel('Époque')\n",
    "    # Légende du graphique\n",
    "    plt.legend(names, loc='upper left')\n",
    "    # Configuration de l'axe des ordonnées et activation de la grille\n",
    "    axes = plt.gca()\n",
    "    axes.set_ylim(y_accuracy)\n",
    "    plt.grid(True)\n",
    "    # Affichage du graphique\n",
    "    plt.show()\n"
   ],
   "metadata": {
    "collapsed": false,
    "ExecuteTime": {
     "start_time": "2023-08-14T21:27:43.297658Z",
     "end_time": "2023-08-14T21:27:43.311643Z"
    }
   }
  },
  {
   "cell_type": "markdown",
   "source": [
    "### Séparation des données en train et test (Stratifié pour dataset déséquilibré)\n",
    "Utilisation de la validation stratifiée pour séparer les données en train et test. Car nous avons un dataset déséquilibré.\n",
    "Malheureusement, nous n'allons pas pouvoir utiliser la validation croisée car cela prendrait trop de temps et de ressources."
   ],
   "metadata": {
    "collapsed": false
   }
  },
  {
   "cell_type": "code",
   "execution_count": 168,
   "outputs": [],
   "source": [
    "# Séparation des données en données d'entraînement et données de test\n",
    "# StratifiedShuffleSplit permet de conserver la même proportion de classes dans les données d'entraînement et de test\n",
    "sss = StratifiedShuffleSplit(n_splits=1, test_size=0.3, random_state=42)\n",
    "\n",
    "for train_index, test_index in sss.split(x, y):\n",
    "    x_train, x_test = x[train_index], x[test_index]\n",
    "    y_train, y_test = y.iloc[train_index], y.iloc[test_index]"
   ],
   "metadata": {
    "collapsed": false,
    "ExecuteTime": {
     "start_time": "2023-08-14T21:24:26.821289Z",
     "end_time": "2023-08-14T21:24:40.830570Z"
    }
   }
  },
  {
   "cell_type": "markdown",
   "source": [
    "# Création du modèle\n",
    "## Quel est la structure du modèle idéal ?"
   ],
   "metadata": {
    "collapsed": false
   }
  },
  {
   "cell_type": "code",
   "execution_count": 169,
   "outputs": [
    {
     "name": "stdout",
     "output_type": "stream",
     "text": [
      "10\n"
     ]
    }
   ],
   "source": [
    "nb_classes = y.shape[1]  # Nombre de classes\n",
    "print(nb_classes)"
   ],
   "metadata": {
    "collapsed": false,
    "ExecuteTime": {
     "start_time": "2023-08-14T21:24:45.582399Z",
     "end_time": "2023-08-14T21:24:45.592933Z"
    }
   }
  },
  {
   "cell_type": "code",
   "execution_count": 170,
   "outputs": [
    {
     "name": "stdout",
     "output_type": "stream",
     "text": [
      "Model: \"model_1\"\n",
      "_________________________________________________________________\n",
      " Layer (type)                Output Shape              Param #   \n",
      "=================================================================\n",
      " input_4 (InputLayer)        [(None, 8, 8, 1)]         0         \n",
      "                                                                 \n",
      " conv2d_13 (Conv2D)          (None, 8, 8, 64)          640       \n",
      "                                                                 \n",
      " conv2d_14 (Conv2D)          (None, 8, 8, 64)          36928     \n",
      "                                                                 \n",
      " max_pooling2d_4 (MaxPoolin  (None, 4, 8, 64)          0         \n",
      " g2D)                                                            \n",
      "                                                                 \n",
      " conv2d_15 (Conv2D)          (None, 4, 8, 128)         73856     \n",
      "                                                                 \n",
      " conv2d_16 (Conv2D)          (None, 4, 8, 128)         147584    \n",
      "                                                                 \n",
      " conv2d_17 (Conv2D)          (None, 4, 8, 128)         147584    \n",
      "                                                                 \n",
      " max_pooling2d_5 (MaxPoolin  (None, 2, 8, 128)         0         \n",
      " g2D)                                                            \n",
      "                                                                 \n",
      " conv2d_18 (Conv2D)          (None, 2, 8, 256)         295168    \n",
      "                                                                 \n",
      " conv2d_19 (Conv2D)          (None, 2, 8, 256)         590080    \n",
      "                                                                 \n",
      " conv2d_20 (Conv2D)          (None, 2, 8, 256)         590080    \n",
      "                                                                 \n",
      " max_pooling2d_6 (MaxPoolin  (None, 1, 8, 256)         0         \n",
      " g2D)                                                            \n",
      "                                                                 \n",
      " flatten_1 (Flatten)         (None, 2048)              0         \n",
      "                                                                 \n",
      " dense_3 (Dense)             (None, 100)               204900    \n",
      "                                                                 \n",
      " dropout_1 (Dropout)         (None, 100)               0         \n",
      "                                                                 \n",
      " dense_4 (Dense)             (None, 20)                2020      \n",
      "                                                                 \n",
      " dense_5 (Dense)             (None, 10)                210       \n",
      "                                                                 \n",
      "=================================================================\n",
      "Total params: 2089050 (7.97 MB)\n",
      "Trainable params: 2089050 (7.97 MB)\n",
      "Non-trainable params: 0 (0.00 Byte)\n",
      "_________________________________________________________________\n",
      "Epoch 1/10\n",
      "  588/13891 [>.............................] - ETA: 34:14 - loss: 0.1761 - accuracy: 0.9437"
     ]
    },
    {
     "ename": "KeyboardInterrupt",
     "evalue": "",
     "output_type": "error",
     "traceback": [
      "\u001B[0;31m---------------------------------------------------------------------------\u001B[0m",
      "\u001B[0;31mKeyboardInterrupt\u001B[0m                         Traceback (most recent call last)",
      "Cell \u001B[0;32mIn[170], line 82\u001B[0m\n\u001B[1;32m     80\u001B[0m model[net]\u001B[38;5;241m.\u001B[39msummary()\n\u001B[1;32m     81\u001B[0m model[net]\u001B[38;5;241m.\u001B[39mcompile(optimizer\u001B[38;5;241m=\u001B[39m\u001B[38;5;124m\"\u001B[39m\u001B[38;5;124madam\u001B[39m\u001B[38;5;124m\"\u001B[39m, loss\u001B[38;5;241m=\u001B[39m\u001B[38;5;124m\"\u001B[39m\u001B[38;5;124mcategorical_crossentropy\u001B[39m\u001B[38;5;124m\"\u001B[39m, metrics\u001B[38;5;241m=\u001B[39m[\u001B[38;5;124m\"\u001B[39m\u001B[38;5;124maccuracy\u001B[39m\u001B[38;5;124m\"\u001B[39m])\n\u001B[0;32m---> 82\u001B[0m history[net] \u001B[38;5;241m=\u001B[39m \u001B[43mmodel\u001B[49m\u001B[43m[\u001B[49m\u001B[43mnet\u001B[49m\u001B[43m]\u001B[49m\u001B[38;5;241;43m.\u001B[39;49m\u001B[43mfit\u001B[49m\u001B[43m(\u001B[49m\u001B[43mx_train\u001B[49m\u001B[43m,\u001B[49m\u001B[43m \u001B[49m\u001B[43my_train\u001B[49m\u001B[43m,\u001B[49m\u001B[43m \u001B[49m\u001B[43mvalidation_data\u001B[49m\u001B[38;5;241;43m=\u001B[39;49m\u001B[43m(\u001B[49m\u001B[43mx_test\u001B[49m\u001B[43m,\u001B[49m\u001B[43m \u001B[49m\u001B[43my_test\u001B[49m\u001B[43m)\u001B[49m\u001B[43m,\u001B[49m\u001B[43m \u001B[49m\u001B[43mverbose\u001B[49m\u001B[38;5;241;43m=\u001B[39;49m\u001B[38;5;241;43m1\u001B[39;49m\u001B[43m,\u001B[49m\u001B[43m \u001B[49m\u001B[43mbatch_size\u001B[49m\u001B[38;5;241;43m=\u001B[39;49m\u001B[43mbatch_size\u001B[49m\u001B[43m,\u001B[49m\n\u001B[1;32m     83\u001B[0m \u001B[43m                              \u001B[49m\u001B[43mepochs\u001B[49m\u001B[38;5;241;43m=\u001B[39;49m\u001B[43mepochs\u001B[49m\u001B[43m)\u001B[49m\n\u001B[1;32m     84\u001B[0m score \u001B[38;5;241m=\u001B[39m model[net]\u001B[38;5;241m.\u001B[39mevaluate(x_test, y_test, verbose\u001B[38;5;241m=\u001B[39m\u001B[38;5;241m0\u001B[39m)\n\u001B[1;32m     86\u001B[0m \u001B[38;5;28mprint\u001B[39m(\u001B[38;5;124m\"\u001B[39m\u001B[38;5;130;01m\\n\u001B[39;00m\u001B[38;5;124mCNN: \u001B[39m\u001B[38;5;132;01m{}\u001B[39;00m\u001B[38;5;124m, Epochs=\u001B[39m\u001B[38;5;132;01m{}\u001B[39;00m\u001B[38;5;124m, Batch_size=\u001B[39m\u001B[38;5;132;01m{}\u001B[39;00m\u001B[38;5;124m, Test loss=\u001B[39m\u001B[38;5;132;01m{}\u001B[39;00m\u001B[38;5;124m, Test accuracy=\u001B[39m\u001B[38;5;132;01m{}\u001B[39;00m\u001B[38;5;130;01m\\n\u001B[39;00m\u001B[38;5;124m\"\u001B[39m\u001B[38;5;241m.\u001B[39mformat(names[net], epochs, batch_size,\n\u001B[1;32m     87\u001B[0m                                                                                      score[\u001B[38;5;241m0\u001B[39m], score[\u001B[38;5;241m1\u001B[39m]))\n",
      "File \u001B[0;32m~/PycharmProjects/Network-intrusion-detection-with-machine-learning/venv/lib/python3.11/site-packages/keras/src/utils/traceback_utils.py:65\u001B[0m, in \u001B[0;36mfilter_traceback.<locals>.error_handler\u001B[0;34m(*args, **kwargs)\u001B[0m\n\u001B[1;32m     63\u001B[0m filtered_tb \u001B[38;5;241m=\u001B[39m \u001B[38;5;28;01mNone\u001B[39;00m\n\u001B[1;32m     64\u001B[0m \u001B[38;5;28;01mtry\u001B[39;00m:\n\u001B[0;32m---> 65\u001B[0m     \u001B[38;5;28;01mreturn\u001B[39;00m \u001B[43mfn\u001B[49m\u001B[43m(\u001B[49m\u001B[38;5;241;43m*\u001B[39;49m\u001B[43margs\u001B[49m\u001B[43m,\u001B[49m\u001B[43m \u001B[49m\u001B[38;5;241;43m*\u001B[39;49m\u001B[38;5;241;43m*\u001B[39;49m\u001B[43mkwargs\u001B[49m\u001B[43m)\u001B[49m\n\u001B[1;32m     66\u001B[0m \u001B[38;5;28;01mexcept\u001B[39;00m \u001B[38;5;167;01mException\u001B[39;00m \u001B[38;5;28;01mas\u001B[39;00m e:\n\u001B[1;32m     67\u001B[0m     filtered_tb \u001B[38;5;241m=\u001B[39m _process_traceback_frames(e\u001B[38;5;241m.\u001B[39m__traceback__)\n",
      "File \u001B[0;32m~/PycharmProjects/Network-intrusion-detection-with-machine-learning/venv/lib/python3.11/site-packages/keras/src/engine/training.py:1742\u001B[0m, in \u001B[0;36mModel.fit\u001B[0;34m(self, x, y, batch_size, epochs, verbose, callbacks, validation_split, validation_data, shuffle, class_weight, sample_weight, initial_epoch, steps_per_epoch, validation_steps, validation_batch_size, validation_freq, max_queue_size, workers, use_multiprocessing)\u001B[0m\n\u001B[1;32m   1734\u001B[0m \u001B[38;5;28;01mwith\u001B[39;00m tf\u001B[38;5;241m.\u001B[39mprofiler\u001B[38;5;241m.\u001B[39mexperimental\u001B[38;5;241m.\u001B[39mTrace(\n\u001B[1;32m   1735\u001B[0m     \u001B[38;5;124m\"\u001B[39m\u001B[38;5;124mtrain\u001B[39m\u001B[38;5;124m\"\u001B[39m,\n\u001B[1;32m   1736\u001B[0m     epoch_num\u001B[38;5;241m=\u001B[39mepoch,\n\u001B[0;32m   (...)\u001B[0m\n\u001B[1;32m   1739\u001B[0m     _r\u001B[38;5;241m=\u001B[39m\u001B[38;5;241m1\u001B[39m,\n\u001B[1;32m   1740\u001B[0m ):\n\u001B[1;32m   1741\u001B[0m     callbacks\u001B[38;5;241m.\u001B[39mon_train_batch_begin(step)\n\u001B[0;32m-> 1742\u001B[0m     tmp_logs \u001B[38;5;241m=\u001B[39m \u001B[38;5;28;43mself\u001B[39;49m\u001B[38;5;241;43m.\u001B[39;49m\u001B[43mtrain_function\u001B[49m\u001B[43m(\u001B[49m\u001B[43miterator\u001B[49m\u001B[43m)\u001B[49m\n\u001B[1;32m   1743\u001B[0m     \u001B[38;5;28;01mif\u001B[39;00m data_handler\u001B[38;5;241m.\u001B[39mshould_sync:\n\u001B[1;32m   1744\u001B[0m         context\u001B[38;5;241m.\u001B[39masync_wait()\n",
      "File \u001B[0;32m~/PycharmProjects/Network-intrusion-detection-with-machine-learning/venv/lib/python3.11/site-packages/tensorflow/python/util/traceback_utils.py:150\u001B[0m, in \u001B[0;36mfilter_traceback.<locals>.error_handler\u001B[0;34m(*args, **kwargs)\u001B[0m\n\u001B[1;32m    148\u001B[0m filtered_tb \u001B[38;5;241m=\u001B[39m \u001B[38;5;28;01mNone\u001B[39;00m\n\u001B[1;32m    149\u001B[0m \u001B[38;5;28;01mtry\u001B[39;00m:\n\u001B[0;32m--> 150\u001B[0m   \u001B[38;5;28;01mreturn\u001B[39;00m \u001B[43mfn\u001B[49m\u001B[43m(\u001B[49m\u001B[38;5;241;43m*\u001B[39;49m\u001B[43margs\u001B[49m\u001B[43m,\u001B[49m\u001B[43m \u001B[49m\u001B[38;5;241;43m*\u001B[39;49m\u001B[38;5;241;43m*\u001B[39;49m\u001B[43mkwargs\u001B[49m\u001B[43m)\u001B[49m\n\u001B[1;32m    151\u001B[0m \u001B[38;5;28;01mexcept\u001B[39;00m \u001B[38;5;167;01mException\u001B[39;00m \u001B[38;5;28;01mas\u001B[39;00m e:\n\u001B[1;32m    152\u001B[0m   filtered_tb \u001B[38;5;241m=\u001B[39m _process_traceback_frames(e\u001B[38;5;241m.\u001B[39m__traceback__)\n",
      "File \u001B[0;32m~/PycharmProjects/Network-intrusion-detection-with-machine-learning/venv/lib/python3.11/site-packages/tensorflow/python/eager/polymorphic_function/polymorphic_function.py:825\u001B[0m, in \u001B[0;36mFunction.__call__\u001B[0;34m(self, *args, **kwds)\u001B[0m\n\u001B[1;32m    822\u001B[0m compiler \u001B[38;5;241m=\u001B[39m \u001B[38;5;124m\"\u001B[39m\u001B[38;5;124mxla\u001B[39m\u001B[38;5;124m\"\u001B[39m \u001B[38;5;28;01mif\u001B[39;00m \u001B[38;5;28mself\u001B[39m\u001B[38;5;241m.\u001B[39m_jit_compile \u001B[38;5;28;01melse\u001B[39;00m \u001B[38;5;124m\"\u001B[39m\u001B[38;5;124mnonXla\u001B[39m\u001B[38;5;124m\"\u001B[39m\n\u001B[1;32m    824\u001B[0m \u001B[38;5;28;01mwith\u001B[39;00m OptionalXlaContext(\u001B[38;5;28mself\u001B[39m\u001B[38;5;241m.\u001B[39m_jit_compile):\n\u001B[0;32m--> 825\u001B[0m   result \u001B[38;5;241m=\u001B[39m \u001B[38;5;28;43mself\u001B[39;49m\u001B[38;5;241;43m.\u001B[39;49m\u001B[43m_call\u001B[49m\u001B[43m(\u001B[49m\u001B[38;5;241;43m*\u001B[39;49m\u001B[43margs\u001B[49m\u001B[43m,\u001B[49m\u001B[43m \u001B[49m\u001B[38;5;241;43m*\u001B[39;49m\u001B[38;5;241;43m*\u001B[39;49m\u001B[43mkwds\u001B[49m\u001B[43m)\u001B[49m\n\u001B[1;32m    827\u001B[0m new_tracing_count \u001B[38;5;241m=\u001B[39m \u001B[38;5;28mself\u001B[39m\u001B[38;5;241m.\u001B[39mexperimental_get_tracing_count()\n\u001B[1;32m    828\u001B[0m without_tracing \u001B[38;5;241m=\u001B[39m (tracing_count \u001B[38;5;241m==\u001B[39m new_tracing_count)\n",
      "File \u001B[0;32m~/PycharmProjects/Network-intrusion-detection-with-machine-learning/venv/lib/python3.11/site-packages/tensorflow/python/eager/polymorphic_function/polymorphic_function.py:857\u001B[0m, in \u001B[0;36mFunction._call\u001B[0;34m(self, *args, **kwds)\u001B[0m\n\u001B[1;32m    854\u001B[0m   \u001B[38;5;28mself\u001B[39m\u001B[38;5;241m.\u001B[39m_lock\u001B[38;5;241m.\u001B[39mrelease()\n\u001B[1;32m    855\u001B[0m   \u001B[38;5;66;03m# In this case we have created variables on the first call, so we run the\u001B[39;00m\n\u001B[1;32m    856\u001B[0m   \u001B[38;5;66;03m# defunned version which is guaranteed to never create variables.\u001B[39;00m\n\u001B[0;32m--> 857\u001B[0m   \u001B[38;5;28;01mreturn\u001B[39;00m \u001B[38;5;28;43mself\u001B[39;49m\u001B[38;5;241;43m.\u001B[39;49m\u001B[43m_no_variable_creation_fn\u001B[49m\u001B[43m(\u001B[49m\u001B[38;5;241;43m*\u001B[39;49m\u001B[43margs\u001B[49m\u001B[43m,\u001B[49m\u001B[43m \u001B[49m\u001B[38;5;241;43m*\u001B[39;49m\u001B[38;5;241;43m*\u001B[39;49m\u001B[43mkwds\u001B[49m\u001B[43m)\u001B[49m  \u001B[38;5;66;03m# pylint: disable=not-callable\u001B[39;00m\n\u001B[1;32m    858\u001B[0m \u001B[38;5;28;01melif\u001B[39;00m \u001B[38;5;28mself\u001B[39m\u001B[38;5;241m.\u001B[39m_variable_creation_fn \u001B[38;5;129;01mis\u001B[39;00m \u001B[38;5;129;01mnot\u001B[39;00m \u001B[38;5;28;01mNone\u001B[39;00m:\n\u001B[1;32m    859\u001B[0m   \u001B[38;5;66;03m# Release the lock early so that multiple threads can perform the call\u001B[39;00m\n\u001B[1;32m    860\u001B[0m   \u001B[38;5;66;03m# in parallel.\u001B[39;00m\n\u001B[1;32m    861\u001B[0m   \u001B[38;5;28mself\u001B[39m\u001B[38;5;241m.\u001B[39m_lock\u001B[38;5;241m.\u001B[39mrelease()\n",
      "File \u001B[0;32m~/PycharmProjects/Network-intrusion-detection-with-machine-learning/venv/lib/python3.11/site-packages/tensorflow/python/eager/polymorphic_function/tracing_compiler.py:148\u001B[0m, in \u001B[0;36mTracingCompiler.__call__\u001B[0;34m(self, *args, **kwargs)\u001B[0m\n\u001B[1;32m    145\u001B[0m \u001B[38;5;28;01mwith\u001B[39;00m \u001B[38;5;28mself\u001B[39m\u001B[38;5;241m.\u001B[39m_lock:\n\u001B[1;32m    146\u001B[0m   (concrete_function,\n\u001B[1;32m    147\u001B[0m    filtered_flat_args) \u001B[38;5;241m=\u001B[39m \u001B[38;5;28mself\u001B[39m\u001B[38;5;241m.\u001B[39m_maybe_define_function(args, kwargs)\n\u001B[0;32m--> 148\u001B[0m \u001B[38;5;28;01mreturn\u001B[39;00m \u001B[43mconcrete_function\u001B[49m\u001B[38;5;241;43m.\u001B[39;49m\u001B[43m_call_flat\u001B[49m\u001B[43m(\u001B[49m\n\u001B[1;32m    149\u001B[0m \u001B[43m    \u001B[49m\u001B[43mfiltered_flat_args\u001B[49m\u001B[43m,\u001B[49m\u001B[43m \u001B[49m\u001B[43mcaptured_inputs\u001B[49m\u001B[38;5;241;43m=\u001B[39;49m\u001B[43mconcrete_function\u001B[49m\u001B[38;5;241;43m.\u001B[39;49m\u001B[43mcaptured_inputs\u001B[49m\u001B[43m)\u001B[49m\n",
      "File \u001B[0;32m~/PycharmProjects/Network-intrusion-detection-with-machine-learning/venv/lib/python3.11/site-packages/tensorflow/python/eager/polymorphic_function/monomorphic_function.py:1349\u001B[0m, in \u001B[0;36mConcreteFunction._call_flat\u001B[0;34m(self, args, captured_inputs)\u001B[0m\n\u001B[1;32m   1345\u001B[0m possible_gradient_type \u001B[38;5;241m=\u001B[39m gradients_util\u001B[38;5;241m.\u001B[39mPossibleTapeGradientTypes(args)\n\u001B[1;32m   1346\u001B[0m \u001B[38;5;28;01mif\u001B[39;00m (possible_gradient_type \u001B[38;5;241m==\u001B[39m gradients_util\u001B[38;5;241m.\u001B[39mPOSSIBLE_GRADIENT_TYPES_NONE\n\u001B[1;32m   1347\u001B[0m     \u001B[38;5;129;01mand\u001B[39;00m executing_eagerly):\n\u001B[1;32m   1348\u001B[0m   \u001B[38;5;66;03m# No tape is watching; skip to running the function.\u001B[39;00m\n\u001B[0;32m-> 1349\u001B[0m   \u001B[38;5;28;01mreturn\u001B[39;00m \u001B[38;5;28mself\u001B[39m\u001B[38;5;241m.\u001B[39m_build_call_outputs(\u001B[38;5;28;43mself\u001B[39;49m\u001B[38;5;241;43m.\u001B[39;49m\u001B[43m_inference_function\u001B[49m\u001B[43m(\u001B[49m\u001B[38;5;241;43m*\u001B[39;49m\u001B[43margs\u001B[49m\u001B[43m)\u001B[49m)\n\u001B[1;32m   1350\u001B[0m forward_backward \u001B[38;5;241m=\u001B[39m \u001B[38;5;28mself\u001B[39m\u001B[38;5;241m.\u001B[39m_select_forward_and_backward_functions(\n\u001B[1;32m   1351\u001B[0m     args,\n\u001B[1;32m   1352\u001B[0m     possible_gradient_type,\n\u001B[1;32m   1353\u001B[0m     executing_eagerly)\n\u001B[1;32m   1354\u001B[0m forward_function, args_with_tangents \u001B[38;5;241m=\u001B[39m forward_backward\u001B[38;5;241m.\u001B[39mforward()\n",
      "File \u001B[0;32m~/PycharmProjects/Network-intrusion-detection-with-machine-learning/venv/lib/python3.11/site-packages/tensorflow/python/eager/polymorphic_function/atomic_function.py:196\u001B[0m, in \u001B[0;36mAtomicFunction.__call__\u001B[0;34m(self, *args)\u001B[0m\n\u001B[1;32m    194\u001B[0m \u001B[38;5;28;01mwith\u001B[39;00m record\u001B[38;5;241m.\u001B[39mstop_recording():\n\u001B[1;32m    195\u001B[0m   \u001B[38;5;28;01mif\u001B[39;00m \u001B[38;5;28mself\u001B[39m\u001B[38;5;241m.\u001B[39m_bound_context\u001B[38;5;241m.\u001B[39mexecuting_eagerly():\n\u001B[0;32m--> 196\u001B[0m     outputs \u001B[38;5;241m=\u001B[39m \u001B[38;5;28;43mself\u001B[39;49m\u001B[38;5;241;43m.\u001B[39;49m\u001B[43m_bound_context\u001B[49m\u001B[38;5;241;43m.\u001B[39;49m\u001B[43mcall_function\u001B[49m\u001B[43m(\u001B[49m\n\u001B[1;32m    197\u001B[0m \u001B[43m        \u001B[49m\u001B[38;5;28;43mself\u001B[39;49m\u001B[38;5;241;43m.\u001B[39;49m\u001B[43mname\u001B[49m\u001B[43m,\u001B[49m\n\u001B[1;32m    198\u001B[0m \u001B[43m        \u001B[49m\u001B[38;5;28;43mlist\u001B[39;49m\u001B[43m(\u001B[49m\u001B[43margs\u001B[49m\u001B[43m)\u001B[49m\u001B[43m,\u001B[49m\n\u001B[1;32m    199\u001B[0m \u001B[43m        \u001B[49m\u001B[38;5;28;43mlen\u001B[39;49m\u001B[43m(\u001B[49m\u001B[38;5;28;43mself\u001B[39;49m\u001B[38;5;241;43m.\u001B[39;49m\u001B[43mfunction_type\u001B[49m\u001B[38;5;241;43m.\u001B[39;49m\u001B[43mflat_outputs\u001B[49m\u001B[43m)\u001B[49m\u001B[43m,\u001B[49m\n\u001B[1;32m    200\u001B[0m \u001B[43m    \u001B[49m\u001B[43m)\u001B[49m\n\u001B[1;32m    201\u001B[0m   \u001B[38;5;28;01melse\u001B[39;00m:\n\u001B[1;32m    202\u001B[0m     outputs \u001B[38;5;241m=\u001B[39m make_call_op_in_graph(\u001B[38;5;28mself\u001B[39m, \u001B[38;5;28mlist\u001B[39m(args))\n",
      "File \u001B[0;32m~/PycharmProjects/Network-intrusion-detection-with-machine-learning/venv/lib/python3.11/site-packages/tensorflow/python/eager/context.py:1457\u001B[0m, in \u001B[0;36mContext.call_function\u001B[0;34m(self, name, tensor_inputs, num_outputs)\u001B[0m\n\u001B[1;32m   1455\u001B[0m cancellation_context \u001B[38;5;241m=\u001B[39m cancellation\u001B[38;5;241m.\u001B[39mcontext()\n\u001B[1;32m   1456\u001B[0m \u001B[38;5;28;01mif\u001B[39;00m cancellation_context \u001B[38;5;129;01mis\u001B[39;00m \u001B[38;5;28;01mNone\u001B[39;00m:\n\u001B[0;32m-> 1457\u001B[0m   outputs \u001B[38;5;241m=\u001B[39m \u001B[43mexecute\u001B[49m\u001B[38;5;241;43m.\u001B[39;49m\u001B[43mexecute\u001B[49m\u001B[43m(\u001B[49m\n\u001B[1;32m   1458\u001B[0m \u001B[43m      \u001B[49m\u001B[43mname\u001B[49m\u001B[38;5;241;43m.\u001B[39;49m\u001B[43mdecode\u001B[49m\u001B[43m(\u001B[49m\u001B[38;5;124;43m\"\u001B[39;49m\u001B[38;5;124;43mutf-8\u001B[39;49m\u001B[38;5;124;43m\"\u001B[39;49m\u001B[43m)\u001B[49m\u001B[43m,\u001B[49m\n\u001B[1;32m   1459\u001B[0m \u001B[43m      \u001B[49m\u001B[43mnum_outputs\u001B[49m\u001B[38;5;241;43m=\u001B[39;49m\u001B[43mnum_outputs\u001B[49m\u001B[43m,\u001B[49m\n\u001B[1;32m   1460\u001B[0m \u001B[43m      \u001B[49m\u001B[43minputs\u001B[49m\u001B[38;5;241;43m=\u001B[39;49m\u001B[43mtensor_inputs\u001B[49m\u001B[43m,\u001B[49m\n\u001B[1;32m   1461\u001B[0m \u001B[43m      \u001B[49m\u001B[43mattrs\u001B[49m\u001B[38;5;241;43m=\u001B[39;49m\u001B[43mattrs\u001B[49m\u001B[43m,\u001B[49m\n\u001B[1;32m   1462\u001B[0m \u001B[43m      \u001B[49m\u001B[43mctx\u001B[49m\u001B[38;5;241;43m=\u001B[39;49m\u001B[38;5;28;43mself\u001B[39;49m\u001B[43m,\u001B[49m\n\u001B[1;32m   1463\u001B[0m \u001B[43m  \u001B[49m\u001B[43m)\u001B[49m\n\u001B[1;32m   1464\u001B[0m \u001B[38;5;28;01melse\u001B[39;00m:\n\u001B[1;32m   1465\u001B[0m   outputs \u001B[38;5;241m=\u001B[39m execute\u001B[38;5;241m.\u001B[39mexecute_with_cancellation(\n\u001B[1;32m   1466\u001B[0m       name\u001B[38;5;241m.\u001B[39mdecode(\u001B[38;5;124m\"\u001B[39m\u001B[38;5;124mutf-8\u001B[39m\u001B[38;5;124m\"\u001B[39m),\n\u001B[1;32m   1467\u001B[0m       num_outputs\u001B[38;5;241m=\u001B[39mnum_outputs,\n\u001B[0;32m   (...)\u001B[0m\n\u001B[1;32m   1471\u001B[0m       cancellation_manager\u001B[38;5;241m=\u001B[39mcancellation_context,\n\u001B[1;32m   1472\u001B[0m   )\n",
      "File \u001B[0;32m~/PycharmProjects/Network-intrusion-detection-with-machine-learning/venv/lib/python3.11/site-packages/tensorflow/python/eager/execute.py:53\u001B[0m, in \u001B[0;36mquick_execute\u001B[0;34m(op_name, num_outputs, inputs, attrs, ctx, name)\u001B[0m\n\u001B[1;32m     51\u001B[0m \u001B[38;5;28;01mtry\u001B[39;00m:\n\u001B[1;32m     52\u001B[0m   ctx\u001B[38;5;241m.\u001B[39mensure_initialized()\n\u001B[0;32m---> 53\u001B[0m   tensors \u001B[38;5;241m=\u001B[39m \u001B[43mpywrap_tfe\u001B[49m\u001B[38;5;241;43m.\u001B[39;49m\u001B[43mTFE_Py_Execute\u001B[49m\u001B[43m(\u001B[49m\u001B[43mctx\u001B[49m\u001B[38;5;241;43m.\u001B[39;49m\u001B[43m_handle\u001B[49m\u001B[43m,\u001B[49m\u001B[43m \u001B[49m\u001B[43mdevice_name\u001B[49m\u001B[43m,\u001B[49m\u001B[43m \u001B[49m\u001B[43mop_name\u001B[49m\u001B[43m,\u001B[49m\n\u001B[1;32m     54\u001B[0m \u001B[43m                                      \u001B[49m\u001B[43minputs\u001B[49m\u001B[43m,\u001B[49m\u001B[43m \u001B[49m\u001B[43mattrs\u001B[49m\u001B[43m,\u001B[49m\u001B[43m \u001B[49m\u001B[43mnum_outputs\u001B[49m\u001B[43m)\u001B[49m\n\u001B[1;32m     55\u001B[0m \u001B[38;5;28;01mexcept\u001B[39;00m core\u001B[38;5;241m.\u001B[39m_NotOkStatusException \u001B[38;5;28;01mas\u001B[39;00m e:\n\u001B[1;32m     56\u001B[0m   \u001B[38;5;28;01mif\u001B[39;00m name \u001B[38;5;129;01mis\u001B[39;00m \u001B[38;5;129;01mnot\u001B[39;00m \u001B[38;5;28;01mNone\u001B[39;00m:\n",
      "\u001B[0;31mKeyboardInterrupt\u001B[0m: "
     ]
    }
   ],
   "source": [
    "nets = 5  # Nombre de modèle\n",
    "model = [0] * nets  # Liste des modèles\n",
    "history = [0] * nets  # Liste des historiques d'entraînement pour chaque modèle\n",
    "names = [\"ClassicConvNet\", \"NormedConvNet\", \"MiniVGGNet\", \"GoogleNet\", \"DenseNet\"]  # Noms des modèles\n",
    "\n",
    "epochs = 5  # Nombre d'époques d'entraînement\n",
    "batch_size = 128  # Taille du lot\n",
    "\n",
    "# Stocker les scores pour chaque exécution\n",
    "all_scores = {name: [] for name in names}\n",
    "\n",
    "# Boucle pour créer les modèles\n",
    "for net in range(nets):\n",
    "    input_img = Input(shape=(8, 8, 1))  # Définition de la taille des images en entrée\n",
    "    if net == 0:  # ClassicConvNet\n",
    "        # Bloc 1\n",
    "        block_1 = Conv2D(64, (3, 3), activation='relu', padding='same')(input_img) # Ajout de padding\n",
    "        block_1 = Conv2D(64, (3, 3), activation='relu', padding='same')(block_1)    # Ajout de padding\n",
    "        block_1 = MaxPooling2D(pool_size=(2, 1))(block_1)\n",
    "        block_1 = Conv2D(128, (3, 3), activation='relu', padding='same')(block_1)  # Ajout de padding\n",
    "        block_1 = Conv2D(128, (3, 3), activation='relu', padding='same')(block_1)  # Ajout de padding\n",
    "        block_1 = Conv2D(128, (3, 3), activation='relu', padding='same')(block_1)  # Ajout de padding\n",
    "        block_1 = MaxPooling2D(pool_size=(2, 1))(block_1)\n",
    "        block_1 = Conv2D(256, (3, 3), activation='relu', padding='same')(block_1)  # Ajout de padding\n",
    "        block_1 = Conv2D(256, (3, 3), activation='relu', padding='same')(block_1)  # Ajout de padding\n",
    "        block_1 = Conv2D(256, (3, 3), activation='relu', padding='same')(block_1)  # Ajout de padding\n",
    "        block_1 = MaxPooling2D(pool_size=(2, 1))(block_1)\n",
    "        output = Flatten()(block_1)\n",
    "        # Bloc 2\n",
    "        output = Dense(100, kernel_initializer='normal', activation='relu')(output)\n",
    "        output = Dropout(0.5)(output)\n",
    "        output = Dense(20, kernel_initializer='normal', activation='relu')(output)\n",
    "        out = Dense(nb_classes, kernel_initializer='normal', activation='softmax')(output)\n",
    "    elif net == 1:  # NormedConvNet\n",
    "        block_1 = BatchNormalization()(input_img)\n",
    "        block_1 = ReLU()(block_1)\n",
    "        block_1 = Conv2D(32, (3, 3), padding='same')(block_1)\n",
    "        block_1 = BatchNormalization()(block_1)\n",
    "        block_1 = ReLU()(block_1)\n",
    "        block_1 = Conv2D(32, (3, 3), padding='same')(block_1)\n",
    "        output = Flatten()(block_1)\n",
    "        output = Dense(128, activation='relu')(output)\n",
    "        out = Dense(nb_classes, activation='softmax')(output)\n",
    "    elif net == 2:\n",
    "        # MiniVGGNet\n",
    "        block_1 = Conv2D(32, (3, 3), padding=\"same\", activation=\"relu\", input_shape=(8, 8, 1))(input_img)\n",
    "        block_1 = BatchNormalization()(block_1)\n",
    "        block_1 = Conv2D(32, (3, 3), padding=\"same\", activation=\"relu\")(block_1)\n",
    "        block_1 = BatchNormalization()(block_1)\n",
    "        block_1 = MaxPooling2D(pool_size=(2, 2))(block_1)\n",
    "        block_1 = Dropout(0.25)(block_1)\n",
    "        output = Flatten()(block_1)\n",
    "        output = Dense(512, activation=\"relu\")(output)\n",
    "        output = BatchNormalization()(output)\n",
    "        output = Dropout(0.5)(output)\n",
    "        out = Dense(nb_classes, activation=\"softmax\")(output)\n",
    "    elif net == 3:\n",
    "        # GoogleNet (Inception simplifié) (Pas adapté aux petites images)\n",
    "        tower_1 = Conv2D(64, (1, 1), padding='same', activation='relu')(input_img)\n",
    "        tower_1 = Conv2D(64, (3, 3), padding='same', activation='relu')(tower_1)\n",
    "        tower_2 = Conv2D(64, (1, 1), padding='same', activation='relu')(input_img)\n",
    "        tower_2 = Conv2D(64, (5, 5), padding='same', activation='relu')(tower_2)\n",
    "        tower_3 = MaxPooling2D((3, 3), strides=(1, 1), padding='same')(input_img)\n",
    "        tower_3 = Conv2D(64, (1, 1), padding='same', activation='relu')(tower_3)\n",
    "        output = concatenate([tower_1, tower_2, tower_3], axis=1)\n",
    "        output = Flatten()(output)\n",
    "        out = Dense(nb_classes, activation='softmax')(output)\n",
    "\n",
    "    elif net == 4:\n",
    "        # DenseNet simplifié\n",
    "        x = Conv2D(32, (3, 3), padding='same', activation='relu')(input_img)\n",
    "        x = BatchNormalization()(x)\n",
    "        x1 = Conv2D(32, (3, 3), padding='same', activation='relu')(x)\n",
    "        x1 = BatchNormalization()(x1)\n",
    "        x = concatenate([x, x1])\n",
    "        x2 = Conv2D(32, (3, 3), padding='same', activation='relu')(x)\n",
    "        x2 = BatchNormalization()(x2)\n",
    "        x = concatenate([x, x2])\n",
    "        output = Flatten()(x)\n",
    "        out = Dense(nb_classes, activation='softmax')(x)\n",
    "\n",
    "    model[net] = Model(inputs=input_img, outputs=out)\n",
    "    model[net].summary()\n",
    "    model[net].compile(optimizer=\"adam\", loss=\"categorical_crossentropy\", metrics=[\"accuracy\"])\n",
    "    history[net] = model[net].fit(x_train, y_train, validation_data=(x_test, y_test), verbose=1, batch_size=batch_size,\n",
    "                                  epochs=epochs)\n",
    "    score = model[net].evaluate(x_test, y_test, verbose=0)\n",
    "\n",
    "    print(\"\\nCNN: {}, Epochs={}, Batch_size={}, Test loss={}, Test accuracy={}\\n\".format(names[net], epochs, batch_size,\n",
    "                                                                                         score[0], score[1]))\n",
    "\n",
    "# Après toutes les exécutions, afficher la moyenne et l'écart-type de la précision pour chaque architecture\n",
    "for name, scores in all_scores.items():\n",
    "    print(f\"{name} - Average Accuracy: {np.mean(scores):.4f}, Std: {np.std(scores):.4f}\")\n"
   ],
   "metadata": {
    "collapsed": false,
    "ExecuteTime": {
     "start_time": "2023-08-14T19:51:09.555879Z",
     "end_time": "2023-08-14T19:51:09.558874Z"
    }
   }
  },
  {
   "cell_type": "code",
   "execution_count": null,
   "outputs": [],
   "source": [
    "plot_accuracies (nets,history,names,[0.3,1])"
   ],
   "metadata": {
    "collapsed": false
   }
  },
  {
   "cell_type": "markdown",
   "source": [
    "L'accuracy est très élevé car, la plus grande partie des paquets sont classés comme normaux. Il faut donc regarder la matrice de confusion pour voir si les autres classes sont bien classées."
   ],
   "metadata": {
    "collapsed": false
   }
  },
  {
   "cell_type": "code",
   "execution_count": null,
   "outputs": [],
   "source": [
    "from sklearn.metrics import confusion_matrix\n",
    "\n",
    "\n",
    "def plot_confusion_matrix (nets,names):\n",
    "    for net in nets:\n",
    "        y_pred = model[net].predict(x_test)\n",
    "        y_pred = np.argmax(y_pred, axis=1)\n",
    "        y_test_cm = np.argmax(y_test, axis=1)\n",
    "        cm = confusion_matrix(y_test_cm, y_pred)\n",
    "        df_cm = pd.DataFrame(cm, index=y_cols, columns=y_cols)\n",
    "        plt.figure(figsize=(10, 7))\n",
    "        sns.heatmap(df_cm, annot=True, cmap=plt.cm.Blues)\n",
    "        plt.title(\"Matrice de confusion pour le modèle \" + names[net])\n",
    "        plt.ylabel('True label')\n",
    "        plt.xlabel('Predicted label')\n",
    "        plt.show()"
   ],
   "metadata": {
    "collapsed": false
   }
  },
  {
   "cell_type": "code",
   "execution_count": null,
   "outputs": [],
   "source": [
    "plot_confusion_matrix (nets,names)"
   ],
   "metadata": {
    "collapsed": false
   }
  },
  {
   "cell_type": "code",
   "execution_count": null,
   "outputs": [],
   "source": [],
   "metadata": {
    "collapsed": false
   }
  }
 ],
 "metadata": {
  "kernelspec": {
   "display_name": "Python 3",
   "language": "python",
   "name": "python3"
  },
  "language_info": {
   "codemirror_mode": {
    "name": "ipython",
    "version": 2
   },
   "file_extension": ".py",
   "mimetype": "text/x-python",
   "name": "python",
   "nbconvert_exporter": "python",
   "pygments_lexer": "ipython2",
   "version": "2.7.6"
  }
 },
 "nbformat": 4,
 "nbformat_minor": 0
}
