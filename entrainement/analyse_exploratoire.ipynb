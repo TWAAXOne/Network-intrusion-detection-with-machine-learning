{
 "cells": [
  {
   "cell_type": "code",
   "execution_count": 2,
   "outputs": [],
   "source": [
    "import pandas as pd\n",
    "from sklearn.model_selection import train_test_split"
   ],
   "metadata": {
    "collapsed": false,
    "ExecuteTime": {
     "start_time": "2023-08-07T08:34:53.851113Z",
     "end_time": "2023-08-07T08:34:53.931861Z"
    }
   },
   "id": "9dc91cacd011b9b8"
  },
  {
   "cell_type": "markdown",
   "source": [
    "## Chargement des données du Dataset UNSW-NB15"
   ],
   "metadata": {
    "collapsed": false
   },
   "id": "661d4792c054a918"
  },
  {
   "cell_type": "code",
   "execution_count": 3,
   "outputs": [],
   "source": [
    "df = []  # list to store the dataframes\n",
    "for i in range(1, 5):  # loop to load the 4 csv files\n",
    "    df.append(pd.read_csv('Data/UNSW-NB15 - CSV Files/UNSW-NB15_' + str(i) + '.csv', header=None, low_memory=False))\n",
    "all_df = pd.concat(df).reset_index(drop=True)"
   ],
   "metadata": {
    "collapsed": false,
    "ExecuteTime": {
     "start_time": "2023-08-07T08:34:53.869123Z",
     "end_time": "2023-08-07T08:35:06.144032Z"
    }
   },
   "id": "cc802e3d92b74c50"
  },
  {
   "cell_type": "code",
   "execution_count": 4,
   "outputs": [],
   "source": [
    "## Récupération des noms des colonnes"
   ],
   "metadata": {
    "collapsed": false,
    "ExecuteTime": {
     "start_time": "2023-08-07T08:35:06.143608Z",
     "end_time": "2023-08-07T08:35:06.145746Z"
    }
   },
   "id": "bd4f21104b27a882"
  },
  {
   "cell_type": "code",
   "execution_count": 5,
   "outputs": [],
   "source": [
    "df_col = pd.read_csv('Data/UNSW-NB15 - CSV Files/NUSW-NB15_features.csv', encoding='ISO-8859-1')\n",
    "# Making column names lower case, removing spaces\n",
    "df_col['Name'] = df_col['Name'].apply(lambda x: x.strip().replace(' ', '').lower())\n",
    "# Renaming our dataframe with proper column names\n",
    "all_df.columns = df_col['Name']"
   ],
   "metadata": {
    "collapsed": false,
    "ExecuteTime": {
     "start_time": "2023-08-07T08:35:06.145809Z",
     "end_time": "2023-08-07T08:35:06.153008Z"
    }
   },
   "id": "dce10cc6ad8ce464"
  },
  {
   "cell_type": "code",
   "execution_count": 6,
   "outputs": [],
   "source": [
    "## Affichage de différentes informations sur le Dataset"
   ],
   "metadata": {
    "collapsed": false,
    "ExecuteTime": {
     "start_time": "2023-08-07T08:35:06.153307Z",
     "end_time": "2023-08-07T08:35:06.154775Z"
    }
   },
   "id": "96570bddce675bc6"
  },
  {
   "cell_type": "code",
   "execution_count": 7,
   "outputs": [
    {
     "name": "stdout",
     "output_type": "stream",
     "text": [
      "Shape of dataset:\n",
      "(2540047, 49)\n",
      "\n",
      "Head of dataset:\n",
      "Name       srcip  sport          dstip dsport proto state       dur  sbytes  \\\n",
      "0     59.166.0.0   1390  149.171.126.6     53   udp   CON  0.001055     132   \n",
      "1     59.166.0.0  33661  149.171.126.9   1024   udp   CON  0.036133     528   \n",
      "2     59.166.0.6   1464  149.171.126.7     53   udp   CON  0.001119     146   \n",
      "3     59.166.0.5   3593  149.171.126.5     53   udp   CON  0.001209     132   \n",
      "4     59.166.0.3  49664  149.171.126.0     53   udp   CON  0.001169     146   \n",
      "\n",
      "Name  dbytes  sttl  ...  ct_ftp_cmd  ct_srv_src  ct_srv_dst ct_dst_ltm  \\\n",
      "0        164    31  ...           0           3           7          1   \n",
      "1        304    31  ...           0           2           4          2   \n",
      "2        178    31  ...           0          12           8          1   \n",
      "3        164    31  ...           0           6           9          1   \n",
      "4        178    31  ...           0           7           9          1   \n",
      "\n",
      "Name  ct_src_ltm  ct_src_dport_ltm  ct_dst_sport_ltm  ct_dst_src_ltm  \\\n",
      "0              3                 1                 1               1   \n",
      "1              3                 1                 1               2   \n",
      "2              2                 2                 1               1   \n",
      "3              1                 1                 1               1   \n",
      "4              1                 1                 1               1   \n",
      "\n",
      "Name  attack_cat  label  \n",
      "0            NaN      0  \n",
      "1            NaN      0  \n",
      "2            NaN      0  \n",
      "3            NaN      0  \n",
      "4            NaN      0  \n",
      "\n",
      "[5 rows x 49 columns]\n",
      "\n",
      "Descriptive Statistics:\n",
      "Name         srcip      sport          dstip   dsport    proto    state  \\\n",
      "count      2540047  2540047.0        2540047  2540047  2540047  2540047   \n",
      "unique          43   129124.0             47    64630      135       16   \n",
      "top     59.166.0.4     1043.0  149.171.126.3       53      tcp      FIN   \n",
      "freq        197959   214363.0         197771   798968  1495074  1478689   \n",
      "mean           NaN        NaN            NaN      NaN      NaN      NaN   \n",
      "std            NaN        NaN            NaN      NaN      NaN      NaN   \n",
      "min            NaN        NaN            NaN      NaN      NaN      NaN   \n",
      "25%            NaN        NaN            NaN      NaN      NaN      NaN   \n",
      "50%            NaN        NaN            NaN      NaN      NaN      NaN   \n",
      "75%            NaN        NaN            NaN      NaN      NaN      NaN   \n",
      "max            NaN        NaN            NaN      NaN      NaN      NaN   \n",
      "\n",
      "Name             dur        sbytes        dbytes          sttl  ...  \\\n",
      "count   2.540047e+06  2.540047e+06  2.540047e+06  2.540047e+06  ...   \n",
      "unique           NaN           NaN           NaN           NaN  ...   \n",
      "top              NaN           NaN           NaN           NaN  ...   \n",
      "freq             NaN           NaN           NaN           NaN  ...   \n",
      "mean    6.587916e-01  4.339600e+03  3.642759e+04  6.278197e+01  ...   \n",
      "std     1.392493e+01  5.640599e+04  1.610960e+05  7.462277e+01  ...   \n",
      "min     0.000000e+00  0.000000e+00  0.000000e+00  0.000000e+00  ...   \n",
      "25%     1.037000e-03  2.000000e+02  1.780000e+02  3.100000e+01  ...   \n",
      "50%     1.586100e-02  1.470000e+03  1.820000e+03  3.100000e+01  ...   \n",
      "75%     2.145545e-01  3.182000e+03  1.489400e+04  3.100000e+01  ...   \n",
      "max     8.786638e+03  1.435577e+07  1.465753e+07  2.550000e+02  ...   \n",
      "\n",
      "Name    ct_ftp_cmd    ct_srv_src    ct_srv_dst    ct_dst_ltm    ct_src_ltm  \\\n",
      "count      2540047  2.540047e+06  2.540047e+06  2.540047e+06  2.540047e+06   \n",
      "unique          13           NaN           NaN           NaN           NaN   \n",
      "top                          NaN           NaN           NaN           NaN   \n",
      "freq       1429879           NaN           NaN           NaN           NaN   \n",
      "mean           NaN  9.206988e+00  8.988958e+00  6.439103e+00  6.900986e+00   \n",
      "std            NaN  1.083676e+01  1.082249e+01  8.162034e+00  8.205062e+00   \n",
      "min            NaN  1.000000e+00  1.000000e+00  1.000000e+00  1.000000e+00   \n",
      "25%            NaN  2.000000e+00  2.000000e+00  2.000000e+00  2.000000e+00   \n",
      "50%            NaN  5.000000e+00  5.000000e+00  3.000000e+00  4.000000e+00   \n",
      "75%            NaN  1.000000e+01  1.000000e+01  6.000000e+00  7.000000e+00   \n",
      "max            NaN  6.700000e+01  6.700000e+01  6.700000e+01  6.700000e+01   \n",
      "\n",
      "Name    ct_src_dport_ltm  ct_dst_sport_ltm  ct_dst_src_ltm  attack_cat  \\\n",
      "count       2.540047e+06      2.540047e+06    2.540047e+06      321283   \n",
      "unique               NaN               NaN             NaN          13   \n",
      "top                  NaN               NaN             NaN     Generic   \n",
      "freq                 NaN               NaN             NaN      215481   \n",
      "mean        4.642139e+00      3.592729e+00    6.845886e+00         NaN   \n",
      "std         8.477579e+00      6.174445e+00    1.125828e+01         NaN   \n",
      "min         1.000000e+00      1.000000e+00    1.000000e+00         NaN   \n",
      "25%         1.000000e+00      1.000000e+00    1.000000e+00         NaN   \n",
      "50%         1.000000e+00      1.000000e+00    2.000000e+00         NaN   \n",
      "75%         2.000000e+00      1.000000e+00    5.000000e+00         NaN   \n",
      "max         6.700000e+01      6.000000e+01    6.700000e+01         NaN   \n",
      "\n",
      "Name           label  \n",
      "count   2.540047e+06  \n",
      "unique           NaN  \n",
      "top              NaN  \n",
      "freq             NaN  \n",
      "mean    1.264870e-01  \n",
      "std     3.323975e-01  \n",
      "min     0.000000e+00  \n",
      "25%     0.000000e+00  \n",
      "50%     0.000000e+00  \n",
      "75%     0.000000e+00  \n",
      "max     1.000000e+00  \n",
      "\n",
      "[11 rows x 49 columns]\n",
      "\n",
      "Missing Values:\n",
      "Name\n",
      "srcip                     0\n",
      "sport                     0\n",
      "dstip                     0\n",
      "dsport                    0\n",
      "proto                     0\n",
      "state                     0\n",
      "dur                       0\n",
      "sbytes                    0\n",
      "dbytes                    0\n",
      "sttl                      0\n",
      "dttl                      0\n",
      "sloss                     0\n",
      "dloss                     0\n",
      "service                   0\n",
      "sload                     0\n",
      "dload                     0\n",
      "spkts                     0\n",
      "dpkts                     0\n",
      "swin                      0\n",
      "dwin                      0\n",
      "stcpb                     0\n",
      "dtcpb                     0\n",
      "smeansz                   0\n",
      "dmeansz                   0\n",
      "trans_depth               0\n",
      "res_bdy_len               0\n",
      "sjit                      0\n",
      "djit                      0\n",
      "stime                     0\n",
      "ltime                     0\n",
      "sintpkt                   0\n",
      "dintpkt                   0\n",
      "tcprtt                    0\n",
      "synack                    0\n",
      "ackdat                    0\n",
      "is_sm_ips_ports           0\n",
      "ct_state_ttl              0\n",
      "ct_flw_http_mthd    1348145\n",
      "is_ftp_login        1429879\n",
      "ct_ftp_cmd                0\n",
      "ct_srv_src                0\n",
      "ct_srv_dst                0\n",
      "ct_dst_ltm                0\n",
      "ct_src_ltm                0\n",
      "ct_src_dport_ltm          0\n",
      "ct_dst_sport_ltm          0\n",
      "ct_dst_src_ltm            0\n",
      "attack_cat          2218764\n",
      "label                     0\n",
      "dtype: int64\n"
     ]
    }
   ],
   "source": [
    "# Displaying the shape of the dataset\n",
    "print(\"Shape of dataset:\")\n",
    "print(all_df.shape)\n",
    "\n",
    "# Display the first few rows of the DataFrame\n",
    "print(\"\\nHead of dataset:\")\n",
    "print(all_df.head())\n",
    "\n",
    "# Displaying basic statistics of the DataFrame\n",
    "print(\"\\nDescriptive Statistics:\")\n",
    "print(all_df.describe(include='all'))\n",
    "\n",
    "# Checking for missing values\n",
    "print(\"\\nMissing Values:\")\n",
    "print(all_df.isnull().sum())"
   ],
   "metadata": {
    "collapsed": false,
    "ExecuteTime": {
     "start_time": "2023-08-07T08:35:06.159304Z",
     "end_time": "2023-08-07T08:35:09.354652Z"
    }
   },
   "id": "43bdef79004ff0b4"
  },
  {
   "cell_type": "markdown",
   "source": [
    "## Traitement des données\n",
    "### Valeurs manquantes\n",
    "Nous pouvons observé que le Dataset contient 49 colonnes et 2540047 lignes alors que sur les csv nous avons que 2'540’044.\n",
    "Nous avons 3 colonnes qui contiennent des valeurs manquantes. ct_flw_http_mthd, is_ftp_login et attack_cat. Nous allons donc effectuer un traitement sur ces colonnes. Car les algorithmes de machine learning ne peuvent pas fonctionner avec des valeurs manquantes."
   ],
   "metadata": {
    "collapsed": false
   },
   "id": "6d8f1bff5849c71"
  },
  {
   "cell_type": "code",
   "execution_count": 8,
   "outputs": [
    {
     "data": {
      "text/plain": "attack_cat\nGeneric             215481\nExploits             44525\n Fuzzers             19195\nDoS                  16353\n Reconnaissance      12228\n Fuzzers              5051\nAnalysis              2677\nBackdoor              1795\nReconnaissance        1759\n Shellcode            1288\nBackdoors              534\nShellcode              223\nWorms                  174\nName: count, dtype: int64"
     },
     "execution_count": 8,
     "metadata": {},
     "output_type": "execute_result"
    }
   ],
   "source": [
    "all_df['attack_cat'].value_counts()"
   ],
   "metadata": {
    "collapsed": false,
    "ExecuteTime": {
     "start_time": "2023-08-07T08:35:09.381147Z",
     "end_time": "2023-08-07T08:35:09.394452Z"
    }
   },
   "id": "52c33271a9d333d8"
  },
  {
   "cell_type": "raw",
   "source": [
    "De plus, nous pouvons observer que la valeur \"attack_cat\" contient 2218761 valeurs manquantes ce qui veut dire qu'elle contient seulement les attaques et pas les valeur \"normal\".\n",
    "Nous allons donc remplacer toutes les valeurs null de \"attack_cat\" par \"normal\"."
   ],
   "metadata": {
    "collapsed": false
   },
   "id": "d4464a72c05a1062"
  },
  {
   "cell_type": "code",
   "execution_count": 9,
   "outputs": [
    {
     "data": {
      "text/plain": "attack_cat\nnormal              2218764\nGeneric              215481\nExploits              44525\n Fuzzers              19195\nDoS                   16353\n Reconnaissance       12228\n Fuzzers               5051\nAnalysis               2677\nBackdoor               1795\nReconnaissance         1759\n Shellcode             1288\nBackdoors               534\nShellcode               223\nWorms                   174\nName: count, dtype: int64"
     },
     "execution_count": 9,
     "metadata": {},
     "output_type": "execute_result"
    }
   ],
   "source": [
    "all_df['attack_cat'].fillna('normal', inplace=True)\n",
    "all_df['attack_cat'].value_counts()"
   ],
   "metadata": {
    "collapsed": false,
    "ExecuteTime": {
     "start_time": "2023-08-07T08:35:09.410287Z",
     "end_time": "2023-08-07T08:35:09.499603Z"
    }
   },
   "id": "ef2e157cf187c544"
  },
  {
   "cell_type": "code",
   "execution_count": 10,
   "outputs": [
    {
     "data": {
      "text/plain": "is_ftp_login\n0.0    1066593\n1.0      43389\n4.0        156\n2.0         30\nName: count, dtype: int64"
     },
     "execution_count": 10,
     "metadata": {},
     "output_type": "execute_result"
    }
   ],
   "source": [
    "all_df['is_ftp_login'].value_counts()"
   ],
   "metadata": {
    "collapsed": false,
    "ExecuteTime": {
     "start_time": "2023-08-07T08:35:09.507374Z",
     "end_time": "2023-08-07T08:35:09.509910Z"
    }
   },
   "id": "7773b7c6ffb33fed"
  },
  {
   "cell_type": "raw",
   "source": [
    "Nous avons des valeurs null dans \"is_ftp_logiN\", nous allons supposé que si la valeur est null alors c'est que la valeur est à 0.\n",
    "De plus, is_ftp_login est une colonne binaire, nous allons les laisser comme tel. Nous allons retravailler cette colonne plus tard."
   ],
   "metadata": {
    "collapsed": false
   },
   "id": "ffedc32b0b83b8b4"
  },
  {
   "cell_type": "code",
   "execution_count": 11,
   "outputs": [
    {
     "data": {
      "text/plain": "is_ftp_login\n0.0    2496472\n1.0      43389\n4.0        156\n2.0         30\nName: count, dtype: int64"
     },
     "execution_count": 11,
     "metadata": {},
     "output_type": "execute_result"
    }
   ],
   "source": [
    "all_df['is_ftp_login'].fillna(0, inplace=True)\n",
    "all_df['is_ftp_login'].value_counts()"
   ],
   "metadata": {
    "collapsed": false,
    "ExecuteTime": {
     "start_time": "2023-08-07T08:35:09.511226Z",
     "end_time": "2023-08-07T08:35:09.532713Z"
    }
   },
   "id": "7b664306b195cd9b"
  },
  {
   "cell_type": "code",
   "execution_count": 12,
   "outputs": [
    {
     "data": {
      "text/plain": "ct_flw_http_mthd\n0.0     986791\n1.0     188008\n6.0       7902\n4.0       6564\n3.0        738\n2.0        588\n5.0        430\n9.0        270\n14.0       224\n12.0       132\n30.0        60\n8.0         56\n16.0        48\n36.0        36\n10.0        30\n25.0        25\nName: count, dtype: int64"
     },
     "execution_count": 12,
     "metadata": {},
     "output_type": "execute_result"
    }
   ],
   "source": [
    "all_df['ct_flw_http_mthd'].value_counts()"
   ],
   "metadata": {
    "collapsed": false,
    "ExecuteTime": {
     "start_time": "2023-08-07T08:35:09.533681Z",
     "end_time": "2023-08-07T08:35:09.538194Z"
    }
   },
   "id": "77cb79382ebe817d"
  },
  {
   "cell_type": "code",
   "execution_count": 13,
   "outputs": [],
   "source": [
    "all_df['ct_flw_http_mthd'].fillna(0, inplace=True)"
   ],
   "metadata": {
    "collapsed": false,
    "ExecuteTime": {
     "start_time": "2023-08-07T08:35:09.536525Z",
     "end_time": "2023-08-07T08:35:09.542304Z"
    }
   },
   "id": "91c668933690d6c2"
  },
  {
   "cell_type": "code",
   "execution_count": 14,
   "outputs": [
    {
     "data": {
      "text/plain": "ct_flw_http_mthd\n0.0     2334936\n1.0      188008\n6.0        7902\n4.0        6564\n3.0         738\n2.0         588\n5.0         430\n9.0         270\n14.0        224\n12.0        132\n30.0         60\n8.0          56\n16.0         48\n36.0         36\n10.0         30\n25.0         25\nName: count, dtype: int64"
     },
     "execution_count": 14,
     "metadata": {},
     "output_type": "execute_result"
    }
   ],
   "source": [
    "all_df['ct_flw_http_mthd'].value_counts()"
   ],
   "metadata": {
    "collapsed": false,
    "ExecuteTime": {
     "start_time": "2023-08-07T08:35:09.552953Z",
     "end_time": "2023-08-07T08:35:09.567146Z"
    }
   },
   "id": "6f31f6e1cede6e13"
  },
  {
   "cell_type": "code",
   "execution_count": 15,
   "outputs": [
    {
     "name": "stdout",
     "output_type": "stream",
     "text": [
      "\n",
      "Missing Values: 0\n"
     ]
    }
   ],
   "source": [
    "# Checking for missing values\n",
    "print(\"\\nMissing Values:\", all_df.isnull().sum().sum())"
   ],
   "metadata": {
    "collapsed": false,
    "ExecuteTime": {
     "start_time": "2023-08-07T08:35:09.557341Z",
     "end_time": "2023-08-07T08:35:09.985476Z"
    }
   },
   "id": "a0e2945615157282"
  },
  {
   "cell_type": "markdown",
   "source": [
    "### Types de données"
   ],
   "metadata": {
    "collapsed": false
   },
   "id": "95e2bd1126d988d7"
  },
  {
   "cell_type": "code",
   "execution_count": 16,
   "outputs": [
    {
     "data": {
      "text/plain": "Name\nsrcip                object\nsport                object\ndstip                object\ndsport               object\nproto                object\nstate                object\ndur                 float64\nsbytes                int64\ndbytes                int64\nsttl                  int64\ndttl                  int64\nsloss                 int64\ndloss                 int64\nservice              object\nsload               float64\ndload               float64\nspkts                 int64\ndpkts                 int64\nswin                  int64\ndwin                  int64\nstcpb                 int64\ndtcpb                 int64\nsmeansz               int64\ndmeansz               int64\ntrans_depth           int64\nres_bdy_len           int64\nsjit                float64\ndjit                float64\nstime                 int64\nltime                 int64\nsintpkt             float64\ndintpkt             float64\ntcprtt              float64\nsynack              float64\nackdat              float64\nis_sm_ips_ports       int64\nct_state_ttl          int64\nct_flw_http_mthd    float64\nis_ftp_login        float64\nct_ftp_cmd           object\nct_srv_src            int64\nct_srv_dst            int64\nct_dst_ltm            int64\nct_src_ltm            int64\nct_src_dport_ltm      int64\nct_dst_sport_ltm      int64\nct_dst_src_ltm        int64\nattack_cat           object\nlabel                 int64\ndtype: object"
     },
     "execution_count": 16,
     "metadata": {},
     "output_type": "execute_result"
    }
   ],
   "source": [
    "all_df.dtypes # Vérification des types de données"
   ],
   "metadata": {
    "collapsed": false,
    "ExecuteTime": {
     "start_time": "2023-08-07T08:35:09.989828Z",
     "end_time": "2023-08-07T08:35:09.992579Z"
    }
   },
   "id": "edfb47d15cdad8c5"
  },
  {
   "cell_type": "code",
   "execution_count": 17,
   "outputs": [
    {
     "data": {
      "text/plain": "Index(['srcip', 'sport', 'dstip', 'dsport', 'proto', 'state', 'service',\n       'ct_ftp_cmd', 'attack_cat'],\n      dtype='object', name='Name')"
     },
     "execution_count": 17,
     "metadata": {},
     "output_type": "execute_result"
    }
   ],
   "source": [
    "all_df.select_dtypes(include=['object']).columns # Vérification des types de données"
   ],
   "metadata": {
    "collapsed": false,
    "ExecuteTime": {
     "start_time": "2023-08-07T08:35:10.186037Z",
     "end_time": "2023-08-07T08:35:10.189319Z"
    }
   },
   "id": "13ca2159d058e8fe"
  },
  {
   "cell_type": "markdown",
   "source": [
    "Les types de données \"object\" sont des données catégoriques. Nous pouvons observer que la colonne \"ct_ftp_cmd\" est de type \"object\" alors que c'est une colonne numérique (fichier NUSW-NB15_features.csv)."
   ],
   "metadata": {
    "collapsed": false
   },
   "id": "c64784f69069fbe7"
  },
  {
   "cell_type": "code",
   "execution_count": 18,
   "outputs": [
    {
     "data": {
      "text/plain": "ct_ftp_cmd\n     1429879\n0     686192\n0     380306\n1      29605\n1      10472\n2       1168\n4        800\n3        729\n6        332\n5        290\n4        160\n2         96\n8         18\nName: count, dtype: int64"
     },
     "execution_count": 18,
     "metadata": {},
     "output_type": "execute_result"
    }
   ],
   "source": [
    "all_df['ct_ftp_cmd'].value_counts()"
   ],
   "metadata": {
    "collapsed": false,
    "ExecuteTime": {
     "start_time": "2023-08-07T08:35:10.213453Z",
     "end_time": "2023-08-07T08:35:10.233676Z"
    }
   },
   "id": "cf1f009512202ced"
  },
  {
   "cell_type": "markdown",
   "source": [
    "Nous pouvons observer que nous avons une ligne qui contient une valeur \" \". Nous allons donc remplacer cette valeur par 0.\n",
    "\n",
    "De plus, nous avons deux fois la valeur \"0\" et la valeur \"1\". Nous allons convertir les données en numérique."
   ],
   "metadata": {
    "collapsed": false
   },
   "id": "cd82975c40d441a2"
  },
  {
   "cell_type": "code",
   "execution_count": 19,
   "outputs": [
    {
     "data": {
      "text/plain": "ct_ftp_cmd\n0    2496377\n1      40077\n2       1264\n4        960\n3        729\n6        332\n5        290\n8         18\nName: count, dtype: int64"
     },
     "execution_count": 19,
     "metadata": {},
     "output_type": "execute_result"
    }
   ],
   "source": [
    "all_df['ct_ftp_cmd'].replace(' ', 0, inplace=True)  # remplacer les valeurs \" \" par 0\n",
    "all_df['ct_ftp_cmd'] = pd.to_numeric(all_df['ct_ftp_cmd'], errors='coerce')  # convertir les données en numérique\n",
    "\n",
    "all_df['ct_ftp_cmd'].value_counts()"
   ],
   "metadata": {
    "collapsed": false,
    "ExecuteTime": {
     "start_time": "2023-08-07T08:35:10.256983Z",
     "end_time": "2023-08-07T08:35:10.726308Z"
    }
   },
   "id": "20d079569899b511"
  },
  {
   "cell_type": "markdown",
   "source": [
    "## Valeurs binaires\n",
    "Les valeurs binaires de ce dataset sont les colonnes \"is_ftp_login\" et \"is_sm_ips_ports\" et \"label\".\n",
    "Nous allons vérifier si les valeurs sont bien binaires."
   ],
   "metadata": {
    "collapsed": false
   },
   "id": "dfde42c8d997ab13"
  },
  {
   "cell_type": "code",
   "execution_count": 20,
   "outputs": [
    {
     "data": {
      "text/plain": "is_ftp_login\n0.0    2496472\n1.0      43389\n4.0        156\n2.0         30\nName: count, dtype: int64"
     },
     "execution_count": 20,
     "metadata": {},
     "output_type": "execute_result"
    }
   ],
   "source": [
    "all_df['is_ftp_login'].value_counts()\n"
   ],
   "metadata": {
    "collapsed": false,
    "ExecuteTime": {
     "start_time": "2023-08-07T08:35:10.734447Z",
     "end_time": "2023-08-07T08:35:10.736544Z"
    }
   },
   "id": "b4bde891ff892b7d"
  },
  {
   "cell_type": "code",
   "execution_count": 21,
   "outputs": [
    {
     "data": {
      "text/plain": "is_sm_ips_ports\n0    2535852\n1       4195\nName: count, dtype: int64"
     },
     "execution_count": 21,
     "metadata": {},
     "output_type": "execute_result"
    }
   ],
   "source": [
    "all_df['is_sm_ips_ports'].value_counts()\n"
   ],
   "metadata": {
    "collapsed": false,
    "ExecuteTime": {
     "start_time": "2023-08-07T08:35:10.745031Z",
     "end_time": "2023-08-07T08:35:10.753727Z"
    }
   },
   "id": "967a1f3b0b0f59ba"
  },
  {
   "cell_type": "code",
   "execution_count": 22,
   "outputs": [
    {
     "data": {
      "text/plain": "label\n0    2218764\n1     321283\nName: count, dtype: int64"
     },
     "execution_count": 22,
     "metadata": {},
     "output_type": "execute_result"
    }
   ],
   "source": [
    "all_df['label'].value_counts()"
   ],
   "metadata": {
    "collapsed": false,
    "ExecuteTime": {
     "start_time": "2023-08-07T08:35:10.755000Z",
     "end_time": "2023-08-07T08:35:10.758492Z"
    }
   },
   "id": "e68de7b7a58ec785"
  },
  {
   "cell_type": "markdown",
   "source": [
    "\"is_ftp_login\" ne contient pas que des valeurs binaires. Nous allons donc convertir les valeurs en binaire.\n",
    "Tous ce qui est supérieur à 1 sera remplacé par 1."
   ],
   "metadata": {
    "collapsed": false
   },
   "id": "24626a00b7356aef"
  },
  {
   "cell_type": "code",
   "execution_count": 23,
   "outputs": [],
   "source": [
    "all_df['is_ftp_login'].replace([2, 4], 1, inplace=True)  # Remplacer le 2 et le 4 par 1 sur le même dataframe"
   ],
   "metadata": {
    "collapsed": false,
    "ExecuteTime": {
     "start_time": "2023-08-07T08:35:10.759135Z",
     "end_time": "2023-08-07T08:35:10.764945Z"
    }
   },
   "id": "5639059a73c437d"
  },
  {
   "cell_type": "code",
   "execution_count": 24,
   "outputs": [
    {
     "data": {
      "text/plain": "is_ftp_login\n0.0    2496472\n1.0      43575\nName: count, dtype: int64"
     },
     "execution_count": 24,
     "metadata": {},
     "output_type": "execute_result"
    }
   ],
   "source": [
    "all_df['is_ftp_login'].value_counts()"
   ],
   "metadata": {
    "collapsed": false,
    "ExecuteTime": {
     "start_time": "2023-08-07T08:35:10.773521Z",
     "end_time": "2023-08-07T08:35:10.782677Z"
    }
   },
   "id": "5bf748400982040c"
  },
  {
   "cell_type": "markdown",
   "source": [
    "## Valeurs catégoriques\n",
    "Nous avons vu précédemment que la colonne \"attack_cat\" contient deux fois la valeur backdoor \"backdoors\" et \"backdoor\" et deux fois la colonne Shellcode"
   ],
   "metadata": {
    "collapsed": false
   },
   "id": "839b6048a9a60a2c"
  },
  {
   "cell_type": "code",
   "execution_count": 25,
   "outputs": [
    {
     "data": {
      "text/plain": "attack_cat\nnormal              2218764\nGeneric              215481\nExploits              44525\n Fuzzers              19195\nDoS                   16353\n Reconnaissance       12228\n Fuzzers               5051\nAnalysis               2677\nBackdoor               2329\nReconnaissance         1759\n Shellcode             1288\nShellcode               223\nWorms                   174\nName: count, dtype: int64"
     },
     "execution_count": 25,
     "metadata": {},
     "output_type": "execute_result"
    }
   ],
   "source": [
    "# Remplacer les valeurs \"backdoors\" par \"backdoor\"\n",
    "all_df['attack_cat'].replace('Backdoors', 'Backdoor', inplace=True)\n",
    "all_df['attack_cat'].value_counts()"
   ],
   "metadata": {
    "collapsed": false,
    "ExecuteTime": {
     "start_time": "2023-08-07T08:35:10.817032Z",
     "end_time": "2023-08-07T08:35:10.908430Z"
    }
   },
   "id": "82af460958d3e492"
  },
  {
   "cell_type": "code",
   "execution_count": 25,
   "outputs": [],
   "source": [],
   "metadata": {
    "collapsed": false,
    "ExecuteTime": {
     "start_time": "2023-08-07T08:35:10.908806Z",
     "end_time": "2023-08-07T08:35:10.912601Z"
    }
   },
   "id": "b654e74f7128cc77"
  },
  {
   "cell_type": "code",
   "execution_count": 26,
   "outputs": [
    {
     "data": {
      "text/plain": "attack_cat\nnormal            2218764\ngeneric            215481\nexploits            44525\nfuzzers             24246\ndos                 16353\nreconnaissance      13987\nanalysis             2677\nbackdoor             2329\nshellcode            1511\nworms                 174\nName: count, dtype: int64"
     },
     "execution_count": 26,
     "metadata": {},
     "output_type": "execute_result"
    }
   ],
   "source": [
    "# Remplacer les valeurs \"Shellcode\" par \"Shellcode\"\n",
    "all_df[\"attack_cat\"] = all_df[\"attack_cat\"].str.lower().str.strip()\n",
    "all_df['attack_cat'].value_counts()"
   ],
   "metadata": {
    "collapsed": false,
    "ExecuteTime": {
     "start_time": "2023-08-07T08:35:10.962499Z",
     "end_time": "2023-08-07T08:35:11.423171Z"
    }
   },
   "id": "4ebfd35291b5c21d"
  },
  {
   "cell_type": "markdown",
   "source": [
    "## Création du fichier Train et Test avec la validation croisée\n",
    "Nous allons créer un fichier train et test avec la validation croisée."
   ],
   "metadata": {
    "collapsed": false
   },
   "id": "ece5ea0b8b54f75e"
  },
  {
   "cell_type": "markdown",
   "source": [
    "### Séparation des données"
   ],
   "metadata": {
    "collapsed": false
   },
   "id": "829c0ce3693147e1"
  },
  {
   "cell_type": "code",
   "execution_count": 27,
   "outputs": [],
   "source": [
    "### Séparation des caractéristiques et des cibles\n",
    "X = all_df.drop(\"label\", axis=1)  # x = toutes les colonnes sauf la colonne \"label\"\n",
    "y = all_df[\"label\"]               # y = la colonne \"label\"\n",
    "\n",
    "### Diviser les données en ensembles d'entraînement et de test\n",
    "# test_size = 0.3 signifie que 30% des données seront utilisées pour les tests et 70% pour l'entraînement\n",
    "# random_state = 42 signifie que les données seront divisées de la même manière à chaque fois\n",
    "X_train, X_test, y_train, y_test = train_test_split(X, y, test_size=0.3, random_state=42)\n",
    "\n",
    "# Concaténer les caractéristiques et les cibles pour obtenir les ensembles d'entraînement et de test complets\n",
    "train_data = pd.concat([X_train, y_train], axis=1)\n",
    "test_data = pd.concat([X_test, y_test], axis=1)\n",
    "\n",
    "# Sauvegarder les ensembles d'entraînement et de test en fichiers CSV\n",
    "train_data.to_csv(\"train_data.csv\", index=False)  # index=False pour ne pas avoir la colonne index\n",
    "test_data.to_csv(\"test_data.csv\", index=False)  \n"
   ],
   "metadata": {
    "collapsed": false,
    "ExecuteTime": {
     "start_time": "2023-08-07T08:35:11.631928Z",
     "end_time": "2023-08-07T08:35:35.020493Z"
    }
   },
   "id": "7aa6119d82950f6c"
  }
 ],
 "metadata": {
  "kernelspec": {
   "display_name": "Python 3",
   "language": "python",
   "name": "python3"
  },
  "language_info": {
   "codemirror_mode": {
    "name": "ipython",
    "version": 2
   },
   "file_extension": ".py",
   "mimetype": "text/x-python",
   "name": "python",
   "nbconvert_exporter": "python",
   "pygments_lexer": "ipython2",
   "version": "2.7.6"
  }
 },
 "nbformat": 4,
 "nbformat_minor": 5
}
