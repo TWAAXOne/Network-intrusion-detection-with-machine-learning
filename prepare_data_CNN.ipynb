{
 "cells": [
  {
   "cell_type": "markdown",
   "source": [
    "## Imports"
   ],
   "metadata": {
    "collapsed": false
   }
  },
  {
   "cell_type": "code",
   "execution_count": 138,
   "outputs": [],
   "source": [
    "import pandas as pd\n",
    "from sklearn import preprocessing\n",
    "from sklearn.preprocessing import LabelEncoder"
   ],
   "metadata": {
    "collapsed": false,
    "ExecuteTime": {
     "start_time": "2023-08-15T16:05:01.651846Z",
     "end_time": "2023-08-15T16:05:01.659539Z"
    }
   }
  },
  {
   "cell_type": "raw",
   "source": [
    "## Chargement des données du Dataset UNSW-NB15"
   ],
   "metadata": {
    "collapsed": false
   }
  },
  {
   "cell_type": "code",
   "execution_count": 139,
   "outputs": [],
   "source": [
    "df = []  # List avec les 4 csv files\n",
    "for i in range(1, 5):\n",
    "    df.append(pd.read_csv('Data/UNSW-NB15 - CSV Files/UNSW-NB15_' + str(i) + '.csv', header=None, low_memory=False))\n",
    "all_df = pd.concat(df).reset_index(drop=True)"
   ],
   "metadata": {
    "collapsed": false,
    "ExecuteTime": {
     "start_time": "2023-08-15T16:05:02.187238Z",
     "end_time": "2023-08-15T16:05:15.233734Z"
    }
   }
  },
  {
   "cell_type": "code",
   "execution_count": 140,
   "outputs": [],
   "source": [
    "## Récupération des noms des colonnes\n",
    "df_col = pd.read_csv('Data/UNSW-NB15 - CSV Files/NUSW-NB15_features.csv', encoding='ISO-8859-1')\n",
    "# Transformation des noms de colonnes en minuscule et suppression des espaces\n",
    "df_col['Name'] = df_col['Name'].apply(lambda x: x.strip().replace(' ', '').lower())\n",
    "# Renommage des colonnes du dataset\n",
    "all_df.columns = df_col['Name']"
   ],
   "metadata": {
    "collapsed": false,
    "ExecuteTime": {
     "start_time": "2023-08-15T16:05:15.234746Z",
     "end_time": "2023-08-15T16:05:15.240219Z"
    }
   }
  },
  {
   "cell_type": "code",
   "execution_count": 141,
   "outputs": [],
   "source": [
    "## Affichage de différentes informations sur le Dataset"
   ],
   "metadata": {
    "collapsed": false,
    "ExecuteTime": {
     "start_time": "2023-08-15T16:05:15.241157Z",
     "end_time": "2023-08-15T16:05:15.243032Z"
    }
   }
  },
  {
   "cell_type": "code",
   "execution_count": 142,
   "outputs": [
    {
     "name": "stdout",
     "output_type": "stream",
     "text": [
      "Shape of dataset:\n",
      "(2540047, 49)\n",
      "\n",
      "Head of dataset:\n",
      "Name       srcip  sport          dstip dsport proto state       dur  sbytes  \\\n",
      "0     59.166.0.0   1390  149.171.126.6     53   udp   CON  0.001055     132   \n",
      "1     59.166.0.0  33661  149.171.126.9   1024   udp   CON  0.036133     528   \n",
      "2     59.166.0.6   1464  149.171.126.7     53   udp   CON  0.001119     146   \n",
      "3     59.166.0.5   3593  149.171.126.5     53   udp   CON  0.001209     132   \n",
      "4     59.166.0.3  49664  149.171.126.0     53   udp   CON  0.001169     146   \n",
      "\n",
      "Name  dbytes  sttl  ...  ct_ftp_cmd  ct_srv_src  ct_srv_dst ct_dst_ltm  \\\n",
      "0        164    31  ...           0           3           7          1   \n",
      "1        304    31  ...           0           2           4          2   \n",
      "2        178    31  ...           0          12           8          1   \n",
      "3        164    31  ...           0           6           9          1   \n",
      "4        178    31  ...           0           7           9          1   \n",
      "\n",
      "Name  ct_src_ltm  ct_src_dport_ltm  ct_dst_sport_ltm  ct_dst_src_ltm  \\\n",
      "0              3                 1                 1               1   \n",
      "1              3                 1                 1               2   \n",
      "2              2                 2                 1               1   \n",
      "3              1                 1                 1               1   \n",
      "4              1                 1                 1               1   \n",
      "\n",
      "Name  attack_cat  label  \n",
      "0            NaN      0  \n",
      "1            NaN      0  \n",
      "2            NaN      0  \n",
      "3            NaN      0  \n",
      "4            NaN      0  \n",
      "\n",
      "[5 rows x 49 columns]\n",
      "\n",
      "Descriptive Statistics:\n",
      "Name         srcip      sport          dstip   dsport    proto    state  \\\n",
      "count      2540047  2540047.0        2540047  2540047  2540047  2540047   \n",
      "unique          43   129124.0             47    64630      135       16   \n",
      "top     59.166.0.4     1043.0  149.171.126.3       53      tcp      FIN   \n",
      "freq        197959   214363.0         197771   798968  1495074  1478689   \n",
      "mean           NaN        NaN            NaN      NaN      NaN      NaN   \n",
      "std            NaN        NaN            NaN      NaN      NaN      NaN   \n",
      "min            NaN        NaN            NaN      NaN      NaN      NaN   \n",
      "25%            NaN        NaN            NaN      NaN      NaN      NaN   \n",
      "50%            NaN        NaN            NaN      NaN      NaN      NaN   \n",
      "75%            NaN        NaN            NaN      NaN      NaN      NaN   \n",
      "max            NaN        NaN            NaN      NaN      NaN      NaN   \n",
      "\n",
      "Name             dur        sbytes        dbytes          sttl  ...  \\\n",
      "count   2.540047e+06  2.540047e+06  2.540047e+06  2.540047e+06  ...   \n",
      "unique           NaN           NaN           NaN           NaN  ...   \n",
      "top              NaN           NaN           NaN           NaN  ...   \n",
      "freq             NaN           NaN           NaN           NaN  ...   \n",
      "mean    6.587916e-01  4.339600e+03  3.642759e+04  6.278197e+01  ...   \n",
      "std     1.392493e+01  5.640599e+04  1.610960e+05  7.462277e+01  ...   \n",
      "min     0.000000e+00  0.000000e+00  0.000000e+00  0.000000e+00  ...   \n",
      "25%     1.037000e-03  2.000000e+02  1.780000e+02  3.100000e+01  ...   \n",
      "50%     1.586100e-02  1.470000e+03  1.820000e+03  3.100000e+01  ...   \n",
      "75%     2.145545e-01  3.182000e+03  1.489400e+04  3.100000e+01  ...   \n",
      "max     8.786638e+03  1.435577e+07  1.465753e+07  2.550000e+02  ...   \n",
      "\n",
      "Name    ct_ftp_cmd    ct_srv_src    ct_srv_dst    ct_dst_ltm    ct_src_ltm  \\\n",
      "count      2540047  2.540047e+06  2.540047e+06  2.540047e+06  2.540047e+06   \n",
      "unique          13           NaN           NaN           NaN           NaN   \n",
      "top                          NaN           NaN           NaN           NaN   \n",
      "freq       1429879           NaN           NaN           NaN           NaN   \n",
      "mean           NaN  9.206988e+00  8.988958e+00  6.439103e+00  6.900986e+00   \n",
      "std            NaN  1.083676e+01  1.082249e+01  8.162034e+00  8.205062e+00   \n",
      "min            NaN  1.000000e+00  1.000000e+00  1.000000e+00  1.000000e+00   \n",
      "25%            NaN  2.000000e+00  2.000000e+00  2.000000e+00  2.000000e+00   \n",
      "50%            NaN  5.000000e+00  5.000000e+00  3.000000e+00  4.000000e+00   \n",
      "75%            NaN  1.000000e+01  1.000000e+01  6.000000e+00  7.000000e+00   \n",
      "max            NaN  6.700000e+01  6.700000e+01  6.700000e+01  6.700000e+01   \n",
      "\n",
      "Name    ct_src_dport_ltm  ct_dst_sport_ltm  ct_dst_src_ltm  attack_cat  \\\n",
      "count       2.540047e+06      2.540047e+06    2.540047e+06      321283   \n",
      "unique               NaN               NaN             NaN          13   \n",
      "top                  NaN               NaN             NaN     Generic   \n",
      "freq                 NaN               NaN             NaN      215481   \n",
      "mean        4.642139e+00      3.592729e+00    6.845886e+00         NaN   \n",
      "std         8.477579e+00      6.174445e+00    1.125828e+01         NaN   \n",
      "min         1.000000e+00      1.000000e+00    1.000000e+00         NaN   \n",
      "25%         1.000000e+00      1.000000e+00    1.000000e+00         NaN   \n",
      "50%         1.000000e+00      1.000000e+00    2.000000e+00         NaN   \n",
      "75%         2.000000e+00      1.000000e+00    5.000000e+00         NaN   \n",
      "max         6.700000e+01      6.000000e+01    6.700000e+01         NaN   \n",
      "\n",
      "Name           label  \n",
      "count   2.540047e+06  \n",
      "unique           NaN  \n",
      "top              NaN  \n",
      "freq             NaN  \n",
      "mean    1.264870e-01  \n",
      "std     3.323975e-01  \n",
      "min     0.000000e+00  \n",
      "25%     0.000000e+00  \n",
      "50%     0.000000e+00  \n",
      "75%     0.000000e+00  \n",
      "max     1.000000e+00  \n",
      "\n",
      "[11 rows x 49 columns]\n",
      "\n",
      "Missing Values:\n",
      "Name\n",
      "srcip                     0\n",
      "sport                     0\n",
      "dstip                     0\n",
      "dsport                    0\n",
      "proto                     0\n",
      "state                     0\n",
      "dur                       0\n",
      "sbytes                    0\n",
      "dbytes                    0\n",
      "sttl                      0\n",
      "dttl                      0\n",
      "sloss                     0\n",
      "dloss                     0\n",
      "service                   0\n",
      "sload                     0\n",
      "dload                     0\n",
      "spkts                     0\n",
      "dpkts                     0\n",
      "swin                      0\n",
      "dwin                      0\n",
      "stcpb                     0\n",
      "dtcpb                     0\n",
      "smeansz                   0\n",
      "dmeansz                   0\n",
      "trans_depth               0\n",
      "res_bdy_len               0\n",
      "sjit                      0\n",
      "djit                      0\n",
      "stime                     0\n",
      "ltime                     0\n",
      "sintpkt                   0\n",
      "dintpkt                   0\n",
      "tcprtt                    0\n",
      "synack                    0\n",
      "ackdat                    0\n",
      "is_sm_ips_ports           0\n",
      "ct_state_ttl              0\n",
      "ct_flw_http_mthd    1348145\n",
      "is_ftp_login        1429879\n",
      "ct_ftp_cmd                0\n",
      "ct_srv_src                0\n",
      "ct_srv_dst                0\n",
      "ct_dst_ltm                0\n",
      "ct_src_ltm                0\n",
      "ct_src_dport_ltm          0\n",
      "ct_dst_sport_ltm          0\n",
      "ct_dst_src_ltm            0\n",
      "attack_cat          2218764\n",
      "label                     0\n",
      "dtype: int64\n"
     ]
    }
   ],
   "source": [
    "# Displaying the shape of the dataset\n",
    "print(\"Shape of dataset:\")\n",
    "print(all_df.shape)\n",
    "\n",
    "# Display the first few rows of the DataFrame\n",
    "print(\"\\nHead of dataset:\")\n",
    "print(all_df.head())\n",
    "\n",
    "# Displaying basic statistics of the DataFrame\n",
    "print(\"\\nDescriptive Statistics:\")\n",
    "print(all_df.describe(include='all'))\n",
    "\n",
    "# Checking for missing values\n",
    "print(\"\\nMissing Values:\")\n",
    "print(all_df.isnull().sum())"
   ],
   "metadata": {
    "collapsed": false,
    "ExecuteTime": {
     "start_time": "2023-08-15T16:05:15.365353Z",
     "end_time": "2023-08-15T16:05:18.483938Z"
    }
   }
  },
  {
   "cell_type": "markdown",
   "source": [
    "Nous allons maintenant supprimer les colonnes qui ne sont pas utiles pour notre étude."
   ],
   "metadata": {
    "collapsed": false
   }
  },
  {
   "cell_type": "code",
   "execution_count": 143,
   "outputs": [],
   "source": [
    "## Suppression des colonnes inutiles\n",
    "# srcip, sport, dstip, dsport\n",
    "all_df.drop(['srcip', 'sport', 'dstip', 'dsport'], axis=1, inplace=True)"
   ],
   "metadata": {
    "collapsed": false,
    "ExecuteTime": {
     "start_time": "2023-08-15T16:05:18.484875Z",
     "end_time": "2023-08-15T16:05:18.739346Z"
    }
   }
  },
  {
   "cell_type": "markdown",
   "source": [
    "## Traitement des valeurs manquantes"
   ],
   "metadata": {
    "collapsed": false
   }
  },
  {
   "cell_type": "markdown",
   "source": [
    "Nous avons plusieurs colonnes avec des valeurs manquantes. Nous allons les traiter une par une."
   ],
   "metadata": {
    "collapsed": false
   }
  },
  {
   "cell_type": "code",
   "execution_count": 144,
   "outputs": [
    {
     "data": {
      "text/plain": "is_ftp_login\n0.0    1066593\n1.0      43389\n4.0        156\n2.0         30\nName: count, dtype: int64"
     },
     "execution_count": 144,
     "metadata": {},
     "output_type": "execute_result"
    }
   ],
   "source": [
    "# is_ftp_login\n",
    "all_df['is_ftp_login'].value_counts()"
   ],
   "metadata": {
    "collapsed": false,
    "ExecuteTime": {
     "start_time": "2023-08-15T16:05:18.747260Z",
     "end_time": "2023-08-15T16:05:18.749980Z"
    }
   }
  },
  {
   "cell_type": "markdown",
   "source": [
    "Cette colonne est normalement binaire. Elle devrait être uniquement composé de 0 et de 1. Nous allons donc remplacer toutes les valeurs supérieures à 1 par 1."
   ],
   "metadata": {
    "collapsed": false
   }
  },
  {
   "cell_type": "code",
   "execution_count": 145,
   "outputs": [],
   "source": [
    "# Remplacement des valeurs supérieures à 1 par 1\n",
    "all_df['is_ftp_login'] = all_df['is_ftp_login'].apply(lambda x: 1 if x > 1 else x)"
   ],
   "metadata": {
    "collapsed": false,
    "ExecuteTime": {
     "start_time": "2023-08-15T16:05:18.750074Z",
     "end_time": "2023-08-15T16:05:19.010961Z"
    }
   }
  },
  {
   "cell_type": "code",
   "execution_count": 146,
   "outputs": [],
   "source": [
    "# Suppression des valeurs manquantes en remplaçant par 0\n",
    "all_df['is_ftp_login'].replace(' ', 0, inplace=True)  # remplacer les valeurs \" \" par 0"
   ],
   "metadata": {
    "collapsed": false,
    "ExecuteTime": {
     "start_time": "2023-08-15T16:05:19.011475Z",
     "end_time": "2023-08-15T16:05:19.013685Z"
    }
   }
  },
  {
   "cell_type": "code",
   "execution_count": 147,
   "outputs": [
    {
     "data": {
      "text/plain": "ct_flw_http_mthd\n0.0     986791\n1.0     188008\n6.0       7902\n4.0       6564\n3.0        738\n2.0        588\n5.0        430\n9.0        270\n14.0       224\n12.0       132\n30.0        60\n8.0         56\n16.0        48\n36.0        36\n10.0        30\n25.0        25\nName: count, dtype: int64"
     },
     "execution_count": 147,
     "metadata": {},
     "output_type": "execute_result"
    }
   ],
   "source": [
    "all_df['ct_flw_http_mthd'].value_counts()"
   ],
   "metadata": {
    "collapsed": false,
    "ExecuteTime": {
     "start_time": "2023-08-15T16:05:19.024662Z",
     "end_time": "2023-08-15T16:05:19.027086Z"
    }
   }
  },
  {
   "cell_type": "markdown",
   "source": [
    "Remplacé les valeurs manquantes par 0"
   ],
   "metadata": {
    "collapsed": false
   }
  },
  {
   "cell_type": "code",
   "execution_count": 148,
   "outputs": [],
   "source": [
    "all_df['ct_flw_http_mthd'].fillna(0, inplace=True)"
   ],
   "metadata": {
    "collapsed": false,
    "ExecuteTime": {
     "start_time": "2023-08-15T16:05:19.027269Z",
     "end_time": "2023-08-15T16:05:19.037372Z"
    }
   }
  },
  {
   "cell_type": "markdown",
   "source": [
    "Affichons les valeurs de la colonne 'attack_cat'"
   ],
   "metadata": {
    "collapsed": false
   }
  },
  {
   "cell_type": "code",
   "execution_count": 149,
   "outputs": [
    {
     "data": {
      "text/plain": "attack_cat\nGeneric             215481\nExploits             44525\n Fuzzers             19195\nDoS                  16353\n Reconnaissance      12228\n Fuzzers              5051\nAnalysis              2677\nBackdoor              1795\nReconnaissance        1759\n Shellcode            1288\nBackdoors              534\nShellcode              223\nWorms                  174\nName: count, dtype: int64"
     },
     "execution_count": 149,
     "metadata": {},
     "output_type": "execute_result"
    }
   ],
   "source": [
    "all_df['attack_cat'].value_counts()"
   ],
   "metadata": {
    "collapsed": false,
    "ExecuteTime": {
     "start_time": "2023-08-15T16:05:19.061032Z",
     "end_time": "2023-08-15T16:05:19.069839Z"
    }
   }
  },
  {
   "cell_type": "markdown",
   "source": [
    "Nous pouvons constater que la colonne 'attack_cat' contient des doublons.\n",
    "- Backdoor et Backdoors\n",
    "- Reconnaissance et Reconnaissance\n",
    "- Fuzzers et Fuzzers\n",
    "- Shellcode et Shellcode\n",
    "\n",
    "\n",
    "Nous pouvons également constater que la colonne 'attack_cat' ne contient pas de valeurs de type 'normal'. Ces valeurs sont égale à Null. Nous allons donc remplacer les valeurs Null par 'normal'."
   ],
   "metadata": {
    "collapsed": false
   }
  },
  {
   "cell_type": "code",
   "execution_count": 150,
   "outputs": [],
   "source": [
    "all_df['attack_cat'].replace('Backdoors', 'backdoor', inplace=True)\n",
    "all_df[\"attack_cat\"] = all_df[\"attack_cat\"].str.lower().str.strip()\n",
    "all_df['attack_cat'].fillna(\"normal\", inplace=True)"
   ],
   "metadata": {
    "collapsed": false,
    "ExecuteTime": {
     "start_time": "2023-08-15T16:05:19.090722Z",
     "end_time": "2023-08-15T16:05:19.387124Z"
    }
   }
  },
  {
   "cell_type": "code",
   "execution_count": 151,
   "outputs": [
    {
     "name": "stdout",
     "output_type": "stream",
     "text": [
      "Taille du dataset :  (2540047, 45)\n",
      "Nom des colonnes :  Index(['proto', 'state', 'dur', 'sbytes', 'dbytes', 'sttl', 'dttl', 'sloss',\n",
      "       'dloss', 'service', 'sload', 'dload', 'spkts', 'dpkts', 'swin', 'dwin',\n",
      "       'stcpb', 'dtcpb', 'smeansz', 'dmeansz', 'trans_depth', 'res_bdy_len',\n",
      "       'sjit', 'djit', 'stime', 'ltime', 'sintpkt', 'dintpkt', 'tcprtt',\n",
      "       'synack', 'ackdat', 'is_sm_ips_ports', 'ct_state_ttl',\n",
      "       'ct_flw_http_mthd', 'is_ftp_login', 'ct_ftp_cmd', 'ct_srv_src',\n",
      "       'ct_srv_dst', 'ct_dst_ltm', 'ct_src_ltm', 'ct_src_dport_ltm',\n",
      "       'ct_dst_sport_ltm', 'ct_dst_src_ltm', 'attack_cat', 'label'],\n",
      "      dtype='object', name='Name')\n",
      "Nombre de valeurs nulles :  1429879\n"
     ]
    },
    {
     "data": {
      "text/plain": "Index(['proto', 'state', 'service', 'ct_ftp_cmd', 'attack_cat'], dtype='object', name='Name')"
     },
     "execution_count": 151,
     "metadata": {},
     "output_type": "execute_result"
    }
   ],
   "source": [
    "# Taille du dataset\n",
    "print(\"Taille du dataset : \", all_df.shape)\n",
    "print(\"Nom des colonnes : \", all_df.columns)\n",
    "print(\"Nombre de valeurs nulles : \", all_df.isnull().sum().sum())\n",
    "all_df.select_dtypes(include=['object']).columns # Vérification des types de données\n"
   ],
   "metadata": {
    "collapsed": false,
    "ExecuteTime": {
     "start_time": "2023-08-15T16:05:19.548529Z",
     "end_time": "2023-08-15T16:05:19.883571Z"
    }
   }
  },
  {
   "cell_type": "markdown",
   "source": [
    "Le type object est égale à des variables catégorique. Le problème c'est que \"ct_ftp_cmd\" est une valeur numérique."
   ],
   "metadata": {
    "collapsed": false
   }
  },
  {
   "cell_type": "code",
   "execution_count": 152,
   "outputs": [
    {
     "data": {
      "text/plain": "ct_ftp_cmd\n     1429879\n0     686192\n0     380306\n1      29605\n1      10472\n2       1168\n4        800\n3        729\n6        332\n5        290\n4        160\n2         96\n8         18\nName: count, dtype: int64"
     },
     "execution_count": 152,
     "metadata": {},
     "output_type": "execute_result"
    }
   ],
   "source": [
    "all_df['ct_ftp_cmd'].value_counts()"
   ],
   "metadata": {
    "collapsed": false,
    "ExecuteTime": {
     "start_time": "2023-08-15T16:05:19.932919Z",
     "end_time": "2023-08-15T16:05:19.935034Z"
    }
   }
  },
  {
   "cell_type": "code",
   "execution_count": 153,
   "outputs": [
    {
     "data": {
      "text/plain": "ct_ftp_cmd\n0    2496377\n1      40077\n2       1264\n4        960\n3        729\n6        332\n5        290\n8         18\nName: count, dtype: int64"
     },
     "execution_count": 153,
     "metadata": {},
     "output_type": "execute_result"
    }
   ],
   "source": [
    "# transformation des valeur \" \" en 0\n",
    "all_df['ct_ftp_cmd'].replace(' ', 0, inplace=True)  # remplacer les valeurs \" \" par 0\n",
    "# transformations des valeurs en valeurs numérique afin de fusionner les 0 et les 1\n",
    "all_df['ct_ftp_cmd'] = pd.to_numeric(all_df['ct_ftp_cmd'], errors='coerce')  # convertir les données en numérique\n",
    "all_df['ct_ftp_cmd'].value_counts()"
   ],
   "metadata": {
    "collapsed": false,
    "ExecuteTime": {
     "start_time": "2023-08-15T16:05:19.973921Z",
     "end_time": "2023-08-15T16:05:20.455962Z"
    }
   }
  },
  {
   "cell_type": "markdown",
   "source": [
    "## Afficher la répartition des valeurs de la colonne 'attack_cat'"
   ],
   "metadata": {
    "collapsed": false
   }
  },
  {
   "cell_type": "code",
   "execution_count": 154,
   "outputs": [
    {
     "data": {
      "text/plain": "attack_cat\nnormal            2218764\ngeneric            215481\nexploits            44525\nfuzzers             24246\ndos                 16353\nreconnaissance      13987\nanalysis             2677\nbackdoor             2329\nshellcode            1511\nworms                 174\nName: count, dtype: int64"
     },
     "metadata": {},
     "output_type": "display_data"
    },
    {
     "data": {
      "text/plain": "<Figure size 640x480 with 1 Axes>",
      "image/png": "[encoded data removed]"
     },
     "metadata": {},
     "output_type": "display_data"
    }
   ],
   "source": [
    "# Visualisation des données\n",
    "display(all_df['attack_cat'].value_counts())\n",
    "data_plot = all_df['attack_cat'].value_counts().plot(kind='bar', title=\"Nombre d'occurences par catégorie d'attaque\")"
   ],
   "metadata": {
    "collapsed": false,
    "ExecuteTime": {
     "start_time": "2023-08-15T16:05:20.516668Z",
     "end_time": "2023-08-15T16:05:20.673930Z"
    }
   }
  },
  {
   "cell_type": "markdown",
   "source": [
    "### Suppression de certaines lignes de catégorie d'attaque normal\n",
    "Nous allons supprimer certaines lignes des catégories d'attaques normales, car elles sont beaucoup trop présente dans le jeu de donnée. Ce qui permettra d'avoir un jeu de donnée plus équilibré"
   ],
   "metadata": {
    "collapsed": false
   }
  },
  {
   "cell_type": "code",
   "execution_count": 155,
   "outputs": [
    {
     "data": {
      "text/plain": "attack_cat\ngeneric           215481\nnormal            143654\nexploits           44525\nfuzzers            24246\ndos                16353\nreconnaissance     13987\nanalysis            2677\nbackdoor            2329\nshellcode           1511\nworms                174\nName: count, dtype: int64"
     },
     "metadata": {},
     "output_type": "display_data"
    },
    {
     "data": {
      "text/plain": "<Axes: title={'center': \"Nombre d'occurences par catégorie d'attaque\"}, xlabel='attack_cat'>"
     },
     "execution_count": 155,
     "metadata": {},
     "output_type": "execute_result"
    },
    {
     "data": {
      "text/plain": "<Figure size 640x480 with 1 Axes>",
      "image/png": "[encoded data removed]"
     },
     "metadata": {},
     "output_type": "display_data"
    }
   ],
   "source": [
    "# suppression de 500 lignes de la catégorie normal\n",
    "nb_generic_attack = int(all_df[all_df['attack_cat'] == 'generic'].shape[0])\n",
    "nb_normal_attack = int(all_df[all_df['attack_cat'] == 'normal'].shape[0])\n",
    "rows_to_drop_count = int(nb_normal_attack - (nb_generic_attack * 2 / 3))\n",
    "rows_to_drop = all_df[all_df['attack_cat'] == 'normal'].head(rows_to_drop_count).index\n",
    "all_df.drop(rows_to_drop, inplace=True)\n",
    "\n",
    "# Visualisation des données\n",
    "display(all_df['attack_cat'].value_counts())\n",
    "all_df['attack_cat'].value_counts().plot(kind='bar', title=\"Nombre d'occurences par catégorie d'attaque\")"
   ],
   "metadata": {
    "collapsed": false,
    "ExecuteTime": {
     "start_time": "2023-08-15T16:05:20.749498Z",
     "end_time": "2023-08-15T16:05:21.622128Z"
    }
   }
  },
  {
   "cell_type": "markdown",
   "source": [
    "## Encodage des variables catégorielles"
   ],
   "metadata": {
    "collapsed": false
   }
  },
  {
   "cell_type": "code",
   "execution_count": 156,
   "outputs": [],
   "source": [
    "# Transformations des valeurs catégorielles en valeurs numériques\n",
    "def encode_string_byte(df, col_name):\n",
    "    encoder = LabelEncoder()  # Outils pour encoder les valeurs catégorielles\n",
    "    # fit → permet d'apprendre les différentes valeurs possibles\n",
    "    # transform → permet de remplacer les valeurs par les valeurs numériques\n",
    "    df[col_name] = encoder.fit_transform(df[col_name])\n"
   ],
   "metadata": {
    "collapsed": false,
    "ExecuteTime": {
     "start_time": "2023-08-15T16:05:21.622524Z",
     "end_time": "2023-08-15T16:05:21.624664Z"
    }
   }
  },
  {
   "cell_type": "code",
   "execution_count": 157,
   "outputs": [
    {
     "name": "stdout",
     "output_type": "stream",
     "text": [
      "Colonne 'Proto' --> Valeur max : 132 Valeur min : 0\n",
      "Colonne 'State' --> Valeur max : 13 Valeur min : 0\n",
      "Colonne 'Service' --> Valeur max : 12 Valeur min : 0\n"
     ]
    }
   ],
   "source": [
    "# 3 colonnes catégorielles contenant des valeurs textuelles\n",
    "encode_string_byte(all_df, 'proto')\n",
    "encode_string_byte(all_df, 'state')\n",
    "encode_string_byte(all_df, 'service')\n",
    "\n",
    "print(\"Colonne 'Proto' --> Valeur max : {} Valeur min : {}\".format(max(all_df['proto']), min(all_df['proto'])))\n",
    "print(\"Colonne 'State' --> Valeur max : {} Valeur min : {}\".format(max(all_df['state']), min(all_df['state'])))\n",
    "print(\"Colonne 'Service' --> Valeur max : {} Valeur min : {}\".format(max(all_df['service']), min(all_df['service'])))\n"
   ],
   "metadata": {
    "collapsed": false,
    "ExecuteTime": {
     "start_time": "2023-08-15T16:05:21.631697Z",
     "end_time": "2023-08-15T16:05:21.846946Z"
    }
   }
  },
  {
   "cell_type": "code",
   "execution_count": 158,
   "outputs": [
    {
     "name": "stdout",
     "output_type": "stream",
     "text": [
      "Aucune chaîne vide trouvée.\n"
     ]
    },
    {
     "data": {
      "text/plain": "(None, None)"
     },
     "execution_count": 158,
     "metadata": {},
     "output_type": "execute_result"
    }
   ],
   "source": [
    "def find_empty_string(df):\n",
    "    for col in df.columns:\n",
    "        if df[col].dtype == 'O':  # 'O' signifie object, donc nous vérifions les colonnes de type string\n",
    "            empty_string_rows = df[df[col] == ' ']\n",
    "            if not empty_string_rows.empty:\n",
    "                return col, empty_string_rows.index\n",
    "    return None, None\n",
    "\n",
    "col_with_issue, row_indices_with_issue = find_empty_string(all_df)\n",
    "if col_with_issue:\n",
    "    print(f\"La colonne '{col_with_issue}' contient des chaînes vides aux indices {row_indices_with_issue}.\")\n",
    "else:\n",
    "    print(\"Aucune chaîne vide trouvée.\")\n",
    "\n",
    "find_empty_string(all_df)"
   ],
   "metadata": {
    "collapsed": false,
    "ExecuteTime": {
     "start_time": "2023-08-15T16:05:21.876120Z",
     "end_time": "2023-08-15T16:05:21.895962Z"
    }
   }
  },
  {
   "cell_type": "code",
   "execution_count": 159,
   "outputs": [],
   "source": [
    "# Transformation de toutes les colonnes en float excepté la colonne 'attack_cat'\n",
    "for col in all_df.columns:\n",
    "    if col != 'attack_cat':\n",
    "        all_df[col] = all_df[col].astype(float)"
   ],
   "metadata": {
    "collapsed": false,
    "ExecuteTime": {
     "start_time": "2023-08-15T16:05:21.879490Z",
     "end_time": "2023-08-15T16:05:21.928087Z"
    }
   }
  },
  {
   "cell_type": "markdown",
   "source": [
    "## Normalisation des données\n",
    "Certaines données ont des valeurs très élevées comme la colonne 'sbytes' qui a une valeur max de 14'355'774. Nous allons donc normaliser les données. On va mettre les données à l'échelle entre 0 et 1."
   ],
   "metadata": {
    "collapsed": false
   }
  },
  {
   "cell_type": "code",
   "execution_count": 160,
   "outputs": [],
   "source": [
    "# Normalisation des données\n",
    "# Permet de ramener les valeurs entre 0 et 1, pour éviter que certaines valeurs aient plus d'importance que d'autres\n",
    "def normalize(df, col_name):\n",
    "    x = df[col_name].values.astype(float)  # On récupère les valeurs de la colonne, et on les convertit en float\n",
    "    min_max_scaler = preprocessing.MinMaxScaler()  # Outils pour normaliser les valeurs\n",
    "    x_scaled = min_max_scaler.fit_transform(x.reshape(-1, 1))  # On normalise les valeurs\n",
    "    # x.reshape(-1, 1) permet de convertir un vecteur en matrice\n",
    "    df[col_name] = x_scaled"
   ],
   "metadata": {
    "collapsed": false,
    "ExecuteTime": {
     "start_time": "2023-08-15T16:05:21.913494Z",
     "end_time": "2023-08-15T16:05:21.928342Z"
    }
   }
  },
  {
   "cell_type": "code",
   "execution_count": 161,
   "outputs": [
    {
     "data": {
      "text/plain": "Name     proto  state       dur  sbytes    dbytes   sttl   dttl  sloss  dloss  \\\n20       119.0    6.0  0.000021   728.0       0.0  254.0    0.0    0.0    0.0   \n21       113.0    5.0  0.240139   918.0   25552.0   62.0  252.0    2.0   10.0   \n22       113.0    5.0  2.390390  1362.0     268.0  254.0  252.0    6.0    1.0   \n39       113.0    5.0  0.175190  8168.0     268.0  254.0  252.0    4.0    1.0   \n40       113.0    5.0  0.190600   844.0     268.0  254.0  252.0    2.0    1.0   \n...        ...    ...       ...     ...       ...    ...    ...    ...    ...   \n2540042  113.0    5.0  0.087306   320.0    1828.0   31.0   29.0    1.0    2.0   \n2540043  113.0    2.0  0.365058   456.0     346.0   31.0   29.0    2.0    2.0   \n2540044  113.0    2.0  6.335154  1802.0    2088.0   31.0   29.0    7.0    9.0   \n2540045  113.0    2.0  2.200934  3498.0  166054.0   31.0   29.0    2.0   57.0   \n2540046  113.0    2.0  0.942984   574.0     676.0   62.0  252.0    5.0    6.0   \n\nName     service  ...  ct_ftp_cmd  ct_srv_src  ct_srv_dst  ct_dst_ltm  \\\n20           0.0  ...         0.0         1.0         1.0         1.0   \n21           5.0  ...         0.0         3.0         2.0         2.0   \n22           5.0  ...         0.0         5.0         2.0         2.0   \n39           0.0  ...         0.0         1.0         1.0         1.0   \n40           5.0  ...         0.0         3.0         1.0         1.0   \n...          ...  ...         ...         ...         ...         ...   \n2540042      4.0  ...         0.0         1.0         2.0         3.0   \n2540043      3.0  ...         2.0         2.0         2.0         2.0   \n2540044      3.0  ...         2.0         2.0         2.0         4.0   \n2540045      5.0  ...         0.0         1.0         1.0         2.0   \n2540046      7.0  ...         0.0         1.0         1.0         2.0   \n\nName     ct_src_ltm  ct_src_dport_ltm  ct_dst_sport_ltm  ct_dst_src_ltm  \\\n20              1.0               1.0               1.0             1.0   \n21              1.0               1.0               1.0             1.0   \n22              1.0               1.0               1.0             1.0   \n39              1.0               1.0               1.0             1.0   \n40              1.0               1.0               1.0             1.0   \n...             ...               ...               ...             ...   \n2540042         3.0               1.0               1.0             3.0   \n2540043         2.0               2.0               2.0             2.0   \n2540044         2.0               2.0               2.0             2.0   \n2540045         4.0               2.0               2.0             2.0   \n2540046         4.0               2.0               2.0             2.0   \n\nName         attack_cat  label  \n20             exploits    1.0  \n21             exploits    1.0  \n22       reconnaissance    1.0  \n39             exploits    1.0  \n40             exploits    1.0  \n...                 ...    ...  \n2540042          normal    0.0  \n2540043          normal    0.0  \n2540044          normal    0.0  \n2540045          normal    0.0  \n2540046        exploits    1.0  \n\n[464937 rows x 45 columns]",
      "text/html": "<div>\n<style scoped>\n    .dataframe tbody tr th:only-of-type {\n        vertical-align: middle;\n    }\n\n    .dataframe tbody tr th {\n        vertical-align: top;\n    }\n\n    .dataframe thead th {\n        text-align: right;\n    }\n</style>\n<table border=\"1\" class=\"dataframe\">\n  <thead>\n    <tr style=\"text-align: right;\">\n      <th>Name</th>\n      <th>proto</th>\n      <th>state</th>\n      <th>dur</th>\n      <th>sbytes</th>\n      <th>dbytes</th>\n      <th>sttl</th>\n      <th>dttl</th>\n      <th>sloss</th>\n      <th>dloss</th>\n      <th>service</th>\n      <th>...</th>\n      <th>ct_ftp_cmd</th>\n      <th>ct_srv_src</th>\n      <th>ct_srv_dst</th>\n      <th>ct_dst_ltm</th>\n      <th>ct_src_ltm</th>\n      <th>ct_src_dport_ltm</th>\n      <th>ct_dst_sport_ltm</th>\n      <th>ct_dst_src_ltm</th>\n      <th>attack_cat</th>\n      <th>label</th>\n    </tr>\n  </thead>\n  <tbody>\n    <tr>\n      <th>20</th>\n      <td>119.0</td>\n      <td>6.0</td>\n      <td>0.000021</td>\n      <td>728.0</td>\n      <td>0.0</td>\n      <td>254.0</td>\n      <td>0.0</td>\n      <td>0.0</td>\n      <td>0.0</td>\n      <td>0.0</td>\n      <td>...</td>\n      <td>0.0</td>\n      <td>1.0</td>\n      <td>1.0</td>\n      <td>1.0</td>\n      <td>1.0</td>\n      <td>1.0</td>\n      <td>1.0</td>\n      <td>1.0</td>\n      <td>exploits</td>\n      <td>1.0</td>\n    </tr>\n    <tr>\n      <th>21</th>\n      <td>113.0</td>\n      <td>5.0</td>\n      <td>0.240139</td>\n      <td>918.0</td>\n      <td>25552.0</td>\n      <td>62.0</td>\n      <td>252.0</td>\n      <td>2.0</td>\n      <td>10.0</td>\n      <td>5.0</td>\n      <td>...</td>\n      <td>0.0</td>\n      <td>3.0</td>\n      <td>2.0</td>\n      <td>2.0</td>\n      <td>1.0</td>\n      <td>1.0</td>\n      <td>1.0</td>\n      <td>1.0</td>\n      <td>exploits</td>\n      <td>1.0</td>\n    </tr>\n    <tr>\n      <th>22</th>\n      <td>113.0</td>\n      <td>5.0</td>\n      <td>2.390390</td>\n      <td>1362.0</td>\n      <td>268.0</td>\n      <td>254.0</td>\n      <td>252.0</td>\n      <td>6.0</td>\n      <td>1.0</td>\n      <td>5.0</td>\n      <td>...</td>\n      <td>0.0</td>\n      <td>5.0</td>\n      <td>2.0</td>\n      <td>2.0</td>\n      <td>1.0</td>\n      <td>1.0</td>\n      <td>1.0</td>\n      <td>1.0</td>\n      <td>reconnaissance</td>\n      <td>1.0</td>\n    </tr>\n    <tr>\n      <th>39</th>\n      <td>113.0</td>\n      <td>5.0</td>\n      <td>0.175190</td>\n      <td>8168.0</td>\n      <td>268.0</td>\n      <td>254.0</td>\n      <td>252.0</td>\n      <td>4.0</td>\n      <td>1.0</td>\n      <td>0.0</td>\n      <td>...</td>\n      <td>0.0</td>\n      <td>1.0</td>\n      <td>1.0</td>\n      <td>1.0</td>\n      <td>1.0</td>\n      <td>1.0</td>\n      <td>1.0</td>\n      <td>1.0</td>\n      <td>exploits</td>\n      <td>1.0</td>\n    </tr>\n    <tr>\n      <th>40</th>\n      <td>113.0</td>\n      <td>5.0</td>\n      <td>0.190600</td>\n      <td>844.0</td>\n      <td>268.0</td>\n      <td>254.0</td>\n      <td>252.0</td>\n      <td>2.0</td>\n      <td>1.0</td>\n      <td>5.0</td>\n      <td>...</td>\n      <td>0.0</td>\n      <td>3.0</td>\n      <td>1.0</td>\n      <td>1.0</td>\n      <td>1.0</td>\n      <td>1.0</td>\n      <td>1.0</td>\n      <td>1.0</td>\n      <td>exploits</td>\n      <td>1.0</td>\n    </tr>\n    <tr>\n      <th>...</th>\n      <td>...</td>\n      <td>...</td>\n      <td>...</td>\n      <td>...</td>\n      <td>...</td>\n      <td>...</td>\n      <td>...</td>\n      <td>...</td>\n      <td>...</td>\n      <td>...</td>\n      <td>...</td>\n      <td>...</td>\n      <td>...</td>\n      <td>...</td>\n      <td>...</td>\n      <td>...</td>\n      <td>...</td>\n      <td>...</td>\n      <td>...</td>\n      <td>...</td>\n      <td>...</td>\n    </tr>\n    <tr>\n      <th>2540042</th>\n      <td>113.0</td>\n      <td>5.0</td>\n      <td>0.087306</td>\n      <td>320.0</td>\n      <td>1828.0</td>\n      <td>31.0</td>\n      <td>29.0</td>\n      <td>1.0</td>\n      <td>2.0</td>\n      <td>4.0</td>\n      <td>...</td>\n      <td>0.0</td>\n      <td>1.0</td>\n      <td>2.0</td>\n      <td>3.0</td>\n      <td>3.0</td>\n      <td>1.0</td>\n      <td>1.0</td>\n      <td>3.0</td>\n      <td>normal</td>\n      <td>0.0</td>\n    </tr>\n    <tr>\n      <th>2540043</th>\n      <td>113.0</td>\n      <td>2.0</td>\n      <td>0.365058</td>\n      <td>456.0</td>\n      <td>346.0</td>\n      <td>31.0</td>\n      <td>29.0</td>\n      <td>2.0</td>\n      <td>2.0</td>\n      <td>3.0</td>\n      <td>...</td>\n      <td>2.0</td>\n      <td>2.0</td>\n      <td>2.0</td>\n      <td>2.0</td>\n      <td>2.0</td>\n      <td>2.0</td>\n      <td>2.0</td>\n      <td>2.0</td>\n      <td>normal</td>\n      <td>0.0</td>\n    </tr>\n    <tr>\n      <th>2540044</th>\n      <td>113.0</td>\n      <td>2.0</td>\n      <td>6.335154</td>\n      <td>1802.0</td>\n      <td>2088.0</td>\n      <td>31.0</td>\n      <td>29.0</td>\n      <td>7.0</td>\n      <td>9.0</td>\n      <td>3.0</td>\n      <td>...</td>\n      <td>2.0</td>\n      <td>2.0</td>\n      <td>2.0</td>\n      <td>4.0</td>\n      <td>2.0</td>\n      <td>2.0</td>\n      <td>2.0</td>\n      <td>2.0</td>\n      <td>normal</td>\n      <td>0.0</td>\n    </tr>\n    <tr>\n      <th>2540045</th>\n      <td>113.0</td>\n      <td>2.0</td>\n      <td>2.200934</td>\n      <td>3498.0</td>\n      <td>166054.0</td>\n      <td>31.0</td>\n      <td>29.0</td>\n      <td>2.0</td>\n      <td>57.0</td>\n      <td>5.0</td>\n      <td>...</td>\n      <td>0.0</td>\n      <td>1.0</td>\n      <td>1.0</td>\n      <td>2.0</td>\n      <td>4.0</td>\n      <td>2.0</td>\n      <td>2.0</td>\n      <td>2.0</td>\n      <td>normal</td>\n      <td>0.0</td>\n    </tr>\n    <tr>\n      <th>2540046</th>\n      <td>113.0</td>\n      <td>2.0</td>\n      <td>0.942984</td>\n      <td>574.0</td>\n      <td>676.0</td>\n      <td>62.0</td>\n      <td>252.0</td>\n      <td>5.0</td>\n      <td>6.0</td>\n      <td>7.0</td>\n      <td>...</td>\n      <td>0.0</td>\n      <td>1.0</td>\n      <td>1.0</td>\n      <td>2.0</td>\n      <td>4.0</td>\n      <td>2.0</td>\n      <td>2.0</td>\n      <td>2.0</td>\n      <td>exploits</td>\n      <td>1.0</td>\n    </tr>\n  </tbody>\n</table>\n<p>464937 rows × 45 columns</p>\n</div>"
     },
     "execution_count": 161,
     "metadata": {},
     "output_type": "execute_result"
    }
   ],
   "source": [
    "all_df"
   ],
   "metadata": {
    "collapsed": false,
    "ExecuteTime": {
     "start_time": "2023-08-15T16:05:21.936465Z",
     "end_time": "2023-08-15T16:05:21.996676Z"
    }
   }
  },
  {
   "cell_type": "code",
   "execution_count": 162,
   "outputs": [],
   "source": [
    "# Normalisation des données excepté les colonnes catégorielles\n",
    "normalize(all_df, 'dur')\n",
    "normalize(all_df, 'sbytes')\n",
    "normalize(all_df, 'dbytes')\n",
    "normalize(all_df, 'sttl')\n",
    "normalize(all_df, 'dttl')\n",
    "normalize(all_df, 'sloss')\n",
    "normalize(all_df, 'dloss')\n",
    "normalize(all_df, 'sload')\n",
    "normalize(all_df, 'dload')\n",
    "normalize(all_df, 'spkts')\n",
    "normalize(all_df, 'dpkts')\n",
    "normalize(all_df, 'swin')\n",
    "normalize(all_df, 'dwin')\n",
    "normalize(all_df, 'stcpb')\n",
    "normalize(all_df, 'dtcpb')\n",
    "normalize(all_df, 'smeansz')\n",
    "normalize(all_df, 'dmeansz')\n",
    "normalize(all_df, 'trans_depth')\n",
    "normalize(all_df, 'res_bdy_len')\n",
    "normalize(all_df, 'sjit')\n",
    "normalize(all_df, 'djit')\n",
    "normalize(all_df, 'stime')\n",
    "normalize(all_df, 'ltime')\n",
    "normalize(all_df, 'sintpkt')\n",
    "normalize(all_df, 'dintpkt')\n",
    "normalize(all_df, 'tcprtt')\n",
    "normalize(all_df, 'synack')\n",
    "normalize(all_df, 'ackdat')\n",
    "normalize(all_df, 'is_sm_ips_ports')\n",
    "normalize(all_df, 'ct_state_ttl')\n",
    "normalize(all_df, 'ct_flw_http_mthd')\n",
    "normalize(all_df, 'is_ftp_login')\n",
    "normalize(all_df, 'ct_ftp_cmd')\n",
    "normalize(all_df, 'ct_srv_src')\n",
    "normalize(all_df, 'ct_srv_dst')\n",
    "normalize(all_df, 'ct_dst_ltm')\n",
    "normalize(all_df, 'ct_src_ltm')\n",
    "normalize(all_df, 'ct_src_dport_ltm')\n",
    "normalize(all_df, 'ct_dst_sport_ltm')\n",
    "normalize(all_df, 'ct_dst_src_ltm')\n",
    "normalize(all_df, 'is_sm_ips_ports')"
   ],
   "metadata": {
    "collapsed": false,
    "ExecuteTime": {
     "start_time": "2023-08-15T16:05:21.999097Z",
     "end_time": "2023-08-15T16:05:22.118030Z"
    }
   }
  },
  {
   "cell_type": "markdown",
   "source": [
    "## Quantification\n",
    "Après la normalisation, une quantification est utilisée pour ramener les valeurs entre 0 et 255. Cela permet de réduire la taille des données. Ce sera utile car nous allons \"fabriquer\" des images à partir de ces données. Ainsi chaque pixel d'une image est représenté en nuance de noir 0 (noir) et 255 (blanc). Ainsi, les données seront prête à traitées par un réseau de neurones convolutif."
   ],
   "metadata": {
    "collapsed": false
   }
  },
  {
   "cell_type": "code",
   "execution_count": 163,
   "outputs": [],
   "source": [
    "def quantification_0_255(df, col_name):\n",
    "    x = df[col_name].values.astype(float)\n",
    "    min_max_scaler = preprocessing.MinMaxScaler((0, 255))\n",
    "    x_0_255 = min_max_scaler.fit_transform(x.reshape(-1, 1)).astype(int)\n",
    "    df[col_name] = x_0_255"
   ],
   "metadata": {
    "collapsed": false,
    "ExecuteTime": {
     "start_time": "2023-08-15T16:05:22.065638Z",
     "end_time": "2023-08-15T16:05:22.118184Z"
    }
   }
  },
  {
   "cell_type": "code",
   "execution_count": 164,
   "outputs": [
    {
     "name": "stderr",
     "output_type": "stream",
     "text": [
      "/var/folders/r8/yp7fppw121z87d8zsbh06g0h0000gn/T/ipykernel_63253/2702598143.py:4: RuntimeWarning: invalid value encountered in cast\n",
      "  x_0_255 = min_max_scaler.fit_transform(x.reshape(-1, 1)).astype(int)\n"
     ]
    }
   ],
   "source": [
    "# Normalisation des données excepté les colonnes catégorielles\n",
    "quantification_0_255(all_df, 'dur')\n",
    "quantification_0_255(all_df, 'sbytes')\n",
    "quantification_0_255(all_df, 'dbytes')\n",
    "quantification_0_255(all_df, 'sttl')\n",
    "quantification_0_255(all_df, 'dttl')\n",
    "quantification_0_255(all_df, 'sloss')\n",
    "quantification_0_255(all_df, 'dloss')\n",
    "quantification_0_255(all_df, 'sload')\n",
    "quantification_0_255(all_df, 'dload')\n",
    "quantification_0_255(all_df, 'spkts')\n",
    "quantification_0_255(all_df, 'dpkts')\n",
    "quantification_0_255(all_df, 'swin')\n",
    "quantification_0_255(all_df, 'dwin')\n",
    "quantification_0_255(all_df, 'stcpb')\n",
    "quantification_0_255(all_df, 'dtcpb')\n",
    "quantification_0_255(all_df, 'smeansz')\n",
    "quantification_0_255(all_df, 'dmeansz')\n",
    "quantification_0_255(all_df, 'trans_depth')\n",
    "quantification_0_255(all_df, 'res_bdy_len')\n",
    "quantification_0_255(all_df, 'sjit')\n",
    "quantification_0_255(all_df, 'djit')\n",
    "quantification_0_255(all_df, 'stime')\n",
    "quantification_0_255(all_df, 'ltime')\n",
    "quantification_0_255(all_df, 'sintpkt')\n",
    "quantification_0_255(all_df, 'dintpkt')\n",
    "quantification_0_255(all_df, 'tcprtt')\n",
    "quantification_0_255(all_df, 'synack')\n",
    "quantification_0_255(all_df, 'ackdat')\n",
    "quantification_0_255(all_df, 'is_sm_ips_ports')\n",
    "quantification_0_255(all_df, 'ct_state_ttl')\n",
    "quantification_0_255(all_df, 'ct_flw_http_mthd')\n",
    "quantification_0_255(all_df, 'is_ftp_login')\n",
    "quantification_0_255(all_df, 'ct_ftp_cmd')\n",
    "quantification_0_255(all_df, 'ct_srv_src')\n",
    "quantification_0_255(all_df, 'ct_srv_dst')\n",
    "quantification_0_255(all_df, 'ct_dst_ltm')\n",
    "quantification_0_255(all_df, 'ct_src_ltm')\n",
    "quantification_0_255(all_df, 'ct_src_dport_ltm')\n",
    "quantification_0_255(all_df, 'ct_dst_sport_ltm')\n",
    "quantification_0_255(all_df, 'ct_dst_src_ltm')\n",
    "quantification_0_255(all_df, 'is_sm_ips_ports')"
   ],
   "metadata": {
    "collapsed": false,
    "ExecuteTime": {
     "start_time": "2023-08-15T16:05:22.069449Z",
     "end_time": "2023-08-15T16:05:22.182164Z"
    }
   }
  },
  {
   "cell_type": "markdown",
   "source": [
    "## Transformation de la colonne \"attack_cat\" en effectuant un OneHotEncoding"
   ],
   "metadata": {
    "collapsed": false
   }
  },
  {
   "cell_type": "code",
   "execution_count": 165,
   "outputs": [],
   "source": [
    "# Effectue l'encodage one-hot sur la colonne 'attack_cat'\n",
    "dummies = pd.get_dummies(all_df['attack_cat'], prefix='attack_cat')\n",
    "\n",
    "# Ajoute les colonnes d'encodage one-hot au dataframe\n",
    "all_df = pd.concat([all_df, dummies], axis=1)\n",
    "\n",
    "# Supprime la colonne originale 'attack_cat'\n",
    "all_df.drop('attack_cat', axis=1, inplace=True)"
   ],
   "metadata": {
    "collapsed": false,
    "ExecuteTime": {
     "start_time": "2023-08-15T16:05:22.151971Z",
     "end_time": "2023-08-15T16:05:22.237339Z"
    }
   }
  },
  {
   "cell_type": "code",
   "execution_count": 166,
   "outputs": [],
   "source": [
    "## Fin de la préparation des données, on affiche le résultat"
   ],
   "metadata": {
    "collapsed": false,
    "ExecuteTime": {
     "start_time": "2023-08-15T16:05:22.236659Z",
     "end_time": "2023-08-15T16:05:22.238582Z"
    }
   }
  },
  {
   "cell_type": "code",
   "execution_count": 167,
   "outputs": [
    {
     "data": {
      "text/plain": "         proto  state  dur  sbytes  dbytes  sttl  dttl  sloss  dloss  service  \\\n20       119.0    6.0    0       0       0   254     0      0      0      0.0   \n21       113.0    5.0    1       0       0    62   252      0      0      5.0   \n22       113.0    5.0   10       0       0   254   252      0      0      5.0   \n39       113.0    5.0    0       0       0   254   252      0      0      0.0   \n40       113.0    5.0    0       0       0   254   252      0      0      5.0   \n...        ...    ...  ...     ...     ...   ...   ...    ...    ...      ...   \n2540042  113.0    5.0    0       0       0    31    29      0      0      4.0   \n2540043  113.0    2.0    1       0       0    31    29      0      0      3.0   \n2540044  113.0    2.0   26       0       0    31    29      0      0      3.0   \n2540045  113.0    2.0    9       0       2    31    29      0      2      5.0   \n2540046  113.0    2.0    4       0       0    62   252      0      0      7.0   \n\n         ...  attack_cat_analysis  attack_cat_backdoor  attack_cat_dos  \\\n20       ...                False                False           False   \n21       ...                False                False           False   \n22       ...                False                False           False   \n39       ...                False                False           False   \n40       ...                False                False           False   \n...      ...                  ...                  ...             ...   \n2540042  ...                False                False           False   \n2540043  ...                False                False           False   \n2540044  ...                False                False           False   \n2540045  ...                False                False           False   \n2540046  ...                False                False           False   \n\n         attack_cat_exploits  attack_cat_fuzzers  attack_cat_generic  \\\n20                      True               False               False   \n21                      True               False               False   \n22                     False               False               False   \n39                      True               False               False   \n40                      True               False               False   \n...                      ...                 ...                 ...   \n2540042                False               False               False   \n2540043                False               False               False   \n2540044                False               False               False   \n2540045                False               False               False   \n2540046                 True               False               False   \n\n         attack_cat_normal  attack_cat_reconnaissance  attack_cat_shellcode  \\\n20                   False                      False                 False   \n21                   False                      False                 False   \n22                   False                       True                 False   \n39                   False                      False                 False   \n40                   False                      False                 False   \n...                    ...                        ...                   ...   \n2540042               True                      False                 False   \n2540043               True                      False                 False   \n2540044               True                      False                 False   \n2540045               True                      False                 False   \n2540046              False                      False                 False   \n\n         attack_cat_worms  \n20                  False  \n21                  False  \n22                  False  \n39                  False  \n40                  False  \n...                   ...  \n2540042             False  \n2540043             False  \n2540044             False  \n2540045             False  \n2540046             False  \n\n[464937 rows x 54 columns]",
      "text/html": "<div>\n<style scoped>\n    .dataframe tbody tr th:only-of-type {\n        vertical-align: middle;\n    }\n\n    .dataframe tbody tr th {\n        vertical-align: top;\n    }\n\n    .dataframe thead th {\n        text-align: right;\n    }\n</style>\n<table border=\"1\" class=\"dataframe\">\n  <thead>\n    <tr style=\"text-align: right;\">\n      <th></th>\n      <th>proto</th>\n      <th>state</th>\n      <th>dur</th>\n      <th>sbytes</th>\n      <th>dbytes</th>\n      <th>sttl</th>\n      <th>dttl</th>\n      <th>sloss</th>\n      <th>dloss</th>\n      <th>service</th>\n      <th>...</th>\n      <th>attack_cat_analysis</th>\n      <th>attack_cat_backdoor</th>\n      <th>attack_cat_dos</th>\n      <th>attack_cat_exploits</th>\n      <th>attack_cat_fuzzers</th>\n      <th>attack_cat_generic</th>\n      <th>attack_cat_normal</th>\n      <th>attack_cat_reconnaissance</th>\n      <th>attack_cat_shellcode</th>\n      <th>attack_cat_worms</th>\n    </tr>\n  </thead>\n  <tbody>\n    <tr>\n      <th>20</th>\n      <td>119.0</td>\n      <td>6.0</td>\n      <td>0</td>\n      <td>0</td>\n      <td>0</td>\n      <td>254</td>\n      <td>0</td>\n      <td>0</td>\n      <td>0</td>\n      <td>0.0</td>\n      <td>...</td>\n      <td>False</td>\n      <td>False</td>\n      <td>False</td>\n      <td>True</td>\n      <td>False</td>\n      <td>False</td>\n      <td>False</td>\n      <td>False</td>\n      <td>False</td>\n      <td>False</td>\n    </tr>\n    <tr>\n      <th>21</th>\n      <td>113.0</td>\n      <td>5.0</td>\n      <td>1</td>\n      <td>0</td>\n      <td>0</td>\n      <td>62</td>\n      <td>252</td>\n      <td>0</td>\n      <td>0</td>\n      <td>5.0</td>\n      <td>...</td>\n      <td>False</td>\n      <td>False</td>\n      <td>False</td>\n      <td>True</td>\n      <td>False</td>\n      <td>False</td>\n      <td>False</td>\n      <td>False</td>\n      <td>False</td>\n      <td>False</td>\n    </tr>\n    <tr>\n      <th>22</th>\n      <td>113.0</td>\n      <td>5.0</td>\n      <td>10</td>\n      <td>0</td>\n      <td>0</td>\n      <td>254</td>\n      <td>252</td>\n      <td>0</td>\n      <td>0</td>\n      <td>5.0</td>\n      <td>...</td>\n      <td>False</td>\n      <td>False</td>\n      <td>False</td>\n      <td>False</td>\n      <td>False</td>\n      <td>False</td>\n      <td>False</td>\n      <td>True</td>\n      <td>False</td>\n      <td>False</td>\n    </tr>\n    <tr>\n      <th>39</th>\n      <td>113.0</td>\n      <td>5.0</td>\n      <td>0</td>\n      <td>0</td>\n      <td>0</td>\n      <td>254</td>\n      <td>252</td>\n      <td>0</td>\n      <td>0</td>\n      <td>0.0</td>\n      <td>...</td>\n      <td>False</td>\n      <td>False</td>\n      <td>False</td>\n      <td>True</td>\n      <td>False</td>\n      <td>False</td>\n      <td>False</td>\n      <td>False</td>\n      <td>False</td>\n      <td>False</td>\n    </tr>\n    <tr>\n      <th>40</th>\n      <td>113.0</td>\n      <td>5.0</td>\n      <td>0</td>\n      <td>0</td>\n      <td>0</td>\n      <td>254</td>\n      <td>252</td>\n      <td>0</td>\n      <td>0</td>\n      <td>5.0</td>\n      <td>...</td>\n      <td>False</td>\n      <td>False</td>\n      <td>False</td>\n      <td>True</td>\n      <td>False</td>\n      <td>False</td>\n      <td>False</td>\n      <td>False</td>\n      <td>False</td>\n      <td>False</td>\n    </tr>\n    <tr>\n      <th>...</th>\n      <td>...</td>\n      <td>...</td>\n      <td>...</td>\n      <td>...</td>\n      <td>...</td>\n      <td>...</td>\n      <td>...</td>\n      <td>...</td>\n      <td>...</td>\n      <td>...</td>\n      <td>...</td>\n      <td>...</td>\n      <td>...</td>\n      <td>...</td>\n      <td>...</td>\n      <td>...</td>\n      <td>...</td>\n      <td>...</td>\n      <td>...</td>\n      <td>...</td>\n      <td>...</td>\n    </tr>\n    <tr>\n      <th>2540042</th>\n      <td>113.0</td>\n      <td>5.0</td>\n      <td>0</td>\n      <td>0</td>\n      <td>0</td>\n      <td>31</td>\n      <td>29</td>\n      <td>0</td>\n      <td>0</td>\n      <td>4.0</td>\n      <td>...</td>\n      <td>False</td>\n      <td>False</td>\n      <td>False</td>\n      <td>False</td>\n      <td>False</td>\n      <td>False</td>\n      <td>True</td>\n      <td>False</td>\n      <td>False</td>\n      <td>False</td>\n    </tr>\n    <tr>\n      <th>2540043</th>\n      <td>113.0</td>\n      <td>2.0</td>\n      <td>1</td>\n      <td>0</td>\n      <td>0</td>\n      <td>31</td>\n      <td>29</td>\n      <td>0</td>\n      <td>0</td>\n      <td>3.0</td>\n      <td>...</td>\n      <td>False</td>\n      <td>False</td>\n      <td>False</td>\n      <td>False</td>\n      <td>False</td>\n      <td>False</td>\n      <td>True</td>\n      <td>False</td>\n      <td>False</td>\n      <td>False</td>\n    </tr>\n    <tr>\n      <th>2540044</th>\n      <td>113.0</td>\n      <td>2.0</td>\n      <td>26</td>\n      <td>0</td>\n      <td>0</td>\n      <td>31</td>\n      <td>29</td>\n      <td>0</td>\n      <td>0</td>\n      <td>3.0</td>\n      <td>...</td>\n      <td>False</td>\n      <td>False</td>\n      <td>False</td>\n      <td>False</td>\n      <td>False</td>\n      <td>False</td>\n      <td>True</td>\n      <td>False</td>\n      <td>False</td>\n      <td>False</td>\n    </tr>\n    <tr>\n      <th>2540045</th>\n      <td>113.0</td>\n      <td>2.0</td>\n      <td>9</td>\n      <td>0</td>\n      <td>2</td>\n      <td>31</td>\n      <td>29</td>\n      <td>0</td>\n      <td>2</td>\n      <td>5.0</td>\n      <td>...</td>\n      <td>False</td>\n      <td>False</td>\n      <td>False</td>\n      <td>False</td>\n      <td>False</td>\n      <td>False</td>\n      <td>True</td>\n      <td>False</td>\n      <td>False</td>\n      <td>False</td>\n    </tr>\n    <tr>\n      <th>2540046</th>\n      <td>113.0</td>\n      <td>2.0</td>\n      <td>4</td>\n      <td>0</td>\n      <td>0</td>\n      <td>62</td>\n      <td>252</td>\n      <td>0</td>\n      <td>0</td>\n      <td>7.0</td>\n      <td>...</td>\n      <td>False</td>\n      <td>False</td>\n      <td>False</td>\n      <td>True</td>\n      <td>False</td>\n      <td>False</td>\n      <td>False</td>\n      <td>False</td>\n      <td>False</td>\n      <td>False</td>\n    </tr>\n  </tbody>\n</table>\n<p>464937 rows × 54 columns</p>\n</div>"
     },
     "metadata": {},
     "output_type": "display_data"
    }
   ],
   "source": [
    "display(all_df)"
   ],
   "metadata": {
    "collapsed": false,
    "ExecuteTime": {
     "start_time": "2023-08-15T16:05:22.246778Z",
     "end_time": "2023-08-15T16:05:22.272795Z"
    }
   }
  },
  {
   "cell_type": "markdown",
   "source": [
    "## Sauvegarde des données dans un fichier CSV"
   ],
   "metadata": {
    "collapsed": false
   }
  },
  {
   "cell_type": "code",
   "execution_count": 168,
   "outputs": [],
   "source": [
    "all_df.to_csv('all_data_UNSW-NB15.csv', index=False)"
   ],
   "metadata": {
    "collapsed": false,
    "ExecuteTime": {
     "start_time": "2023-08-15T16:05:22.271100Z",
     "end_time": "2023-08-15T16:05:24.813629Z"
    }
   }
  },
  {
   "cell_type": "code",
   "execution_count": 169,
   "outputs": [
    {
     "data": {
      "text/plain": "    proto  state  dur  sbytes  dbytes  sttl  dttl  sloss  dloss  service  ...  \\\n20  119.0    6.0    0       0       0   254     0      0      0      0.0  ...   \n21  113.0    5.0    1       0       0    62   252      0      0      5.0  ...   \n22  113.0    5.0   10       0       0   254   252      0      0      5.0  ...   \n39  113.0    5.0    0       0       0   254   252      0      0      0.0  ...   \n40  113.0    5.0    0       0       0   254   252      0      0      5.0  ...   \n\n    attack_cat_analysis  attack_cat_backdoor  attack_cat_dos  \\\n20                False                False           False   \n21                False                False           False   \n22                False                False           False   \n39                False                False           False   \n40                False                False           False   \n\n    attack_cat_exploits  attack_cat_fuzzers  attack_cat_generic  \\\n20                 True               False               False   \n21                 True               False               False   \n22                False               False               False   \n39                 True               False               False   \n40                 True               False               False   \n\n    attack_cat_normal  attack_cat_reconnaissance  attack_cat_shellcode  \\\n20              False                      False                 False   \n21              False                      False                 False   \n22              False                       True                 False   \n39              False                      False                 False   \n40              False                      False                 False   \n\n    attack_cat_worms  \n20             False  \n21             False  \n22             False  \n39             False  \n40             False  \n\n[5 rows x 54 columns]",
      "text/html": "<div>\n<style scoped>\n    .dataframe tbody tr th:only-of-type {\n        vertical-align: middle;\n    }\n\n    .dataframe tbody tr th {\n        vertical-align: top;\n    }\n\n    .dataframe thead th {\n        text-align: right;\n    }\n</style>\n<table border=\"1\" class=\"dataframe\">\n  <thead>\n    <tr style=\"text-align: right;\">\n      <th></th>\n      <th>proto</th>\n      <th>state</th>\n      <th>dur</th>\n      <th>sbytes</th>\n      <th>dbytes</th>\n      <th>sttl</th>\n      <th>dttl</th>\n      <th>sloss</th>\n      <th>dloss</th>\n      <th>service</th>\n      <th>...</th>\n      <th>attack_cat_analysis</th>\n      <th>attack_cat_backdoor</th>\n      <th>attack_cat_dos</th>\n      <th>attack_cat_exploits</th>\n      <th>attack_cat_fuzzers</th>\n      <th>attack_cat_generic</th>\n      <th>attack_cat_normal</th>\n      <th>attack_cat_reconnaissance</th>\n      <th>attack_cat_shellcode</th>\n      <th>attack_cat_worms</th>\n    </tr>\n  </thead>\n  <tbody>\n    <tr>\n      <th>20</th>\n      <td>119.0</td>\n      <td>6.0</td>\n      <td>0</td>\n      <td>0</td>\n      <td>0</td>\n      <td>254</td>\n      <td>0</td>\n      <td>0</td>\n      <td>0</td>\n      <td>0.0</td>\n      <td>...</td>\n      <td>False</td>\n      <td>False</td>\n      <td>False</td>\n      <td>True</td>\n      <td>False</td>\n      <td>False</td>\n      <td>False</td>\n      <td>False</td>\n      <td>False</td>\n      <td>False</td>\n    </tr>\n    <tr>\n      <th>21</th>\n      <td>113.0</td>\n      <td>5.0</td>\n      <td>1</td>\n      <td>0</td>\n      <td>0</td>\n      <td>62</td>\n      <td>252</td>\n      <td>0</td>\n      <td>0</td>\n      <td>5.0</td>\n      <td>...</td>\n      <td>False</td>\n      <td>False</td>\n      <td>False</td>\n      <td>True</td>\n      <td>False</td>\n      <td>False</td>\n      <td>False</td>\n      <td>False</td>\n      <td>False</td>\n      <td>False</td>\n    </tr>\n    <tr>\n      <th>22</th>\n      <td>113.0</td>\n      <td>5.0</td>\n      <td>10</td>\n      <td>0</td>\n      <td>0</td>\n      <td>254</td>\n      <td>252</td>\n      <td>0</td>\n      <td>0</td>\n      <td>5.0</td>\n      <td>...</td>\n      <td>False</td>\n      <td>False</td>\n      <td>False</td>\n      <td>False</td>\n      <td>False</td>\n      <td>False</td>\n      <td>False</td>\n      <td>True</td>\n      <td>False</td>\n      <td>False</td>\n    </tr>\n    <tr>\n      <th>39</th>\n      <td>113.0</td>\n      <td>5.0</td>\n      <td>0</td>\n      <td>0</td>\n      <td>0</td>\n      <td>254</td>\n      <td>252</td>\n      <td>0</td>\n      <td>0</td>\n      <td>0.0</td>\n      <td>...</td>\n      <td>False</td>\n      <td>False</td>\n      <td>False</td>\n      <td>True</td>\n      <td>False</td>\n      <td>False</td>\n      <td>False</td>\n      <td>False</td>\n      <td>False</td>\n      <td>False</td>\n    </tr>\n    <tr>\n      <th>40</th>\n      <td>113.0</td>\n      <td>5.0</td>\n      <td>0</td>\n      <td>0</td>\n      <td>0</td>\n      <td>254</td>\n      <td>252</td>\n      <td>0</td>\n      <td>0</td>\n      <td>5.0</td>\n      <td>...</td>\n      <td>False</td>\n      <td>False</td>\n      <td>False</td>\n      <td>True</td>\n      <td>False</td>\n      <td>False</td>\n      <td>False</td>\n      <td>False</td>\n      <td>False</td>\n      <td>False</td>\n    </tr>\n  </tbody>\n</table>\n<p>5 rows × 54 columns</p>\n</div>"
     },
     "execution_count": 169,
     "metadata": {},
     "output_type": "execute_result"
    }
   ],
   "source": [
    "all_df.head()"
   ],
   "metadata": {
    "collapsed": false,
    "ExecuteTime": {
     "start_time": "2023-08-15T16:05:24.817851Z",
     "end_time": "2023-08-15T16:05:24.820059Z"
    }
   }
  },
  {
   "cell_type": "code",
   "execution_count": null,
   "outputs": [],
   "source": [],
   "metadata": {
    "collapsed": false
   }
  }
 ],
 "metadata": {
  "kernelspec": {
   "display_name": "Python 3",
   "language": "python",
   "name": "python3"
  },
  "language_info": {
   "codemirror_mode": {
    "name": "ipython",
    "version": 2
   },
   "file_extension": ".py",
   "mimetype": "text/x-python",
   "name": "python",
   "nbconvert_exporter": "python",
   "pygments_lexer": "ipython2",
   "version": "2.7.6"
  }
 },
 "nbformat": 4,
 "nbformat_minor": 0
}
