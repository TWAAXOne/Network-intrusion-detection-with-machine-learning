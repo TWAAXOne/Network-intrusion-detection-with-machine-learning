{
 "cells": [
  {
   "cell_type": "code",
   "execution_count": 186,
   "metadata": {
    "collapsed": true
   },
   "outputs": [
    {
     "name": "stderr",
     "output_type": "stream",
     "text": [
      "UsageError: Line magic function `%tensorflow_version` not found.\n"
     ]
    }
   ],
   "source": [
    "# Forcer l'utilisation de Tensorflow 2.x\n",
    "%tensorflow_version 2.x"
   ]
  },
  {
   "cell_type": "code",
   "execution_count": 187,
   "outputs": [
    {
     "name": "stdout",
     "output_type": "stream",
     "text": [
      "Requirement already satisfied: bayesian-optimization in ./venv/lib/python3.11/site-packages (1.4.3)\r\n",
      "Requirement already satisfied: numpy>=1.9.0 in ./venv/lib/python3.11/site-packages (from bayesian-optimization) (1.24.3)\r\n",
      "Requirement already satisfied: scipy>=1.0.0 in ./venv/lib/python3.11/site-packages (from bayesian-optimization) (1.11.1)\r\n",
      "Requirement already satisfied: scikit-learn>=0.18.0 in ./venv/lib/python3.11/site-packages (from bayesian-optimization) (1.3.0)\r\n",
      "Requirement already satisfied: colorama>=0.4.6 in ./venv/lib/python3.11/site-packages (from bayesian-optimization) (0.4.6)\r\n",
      "Requirement already satisfied: joblib>=1.1.1 in ./venv/lib/python3.11/site-packages (from scikit-learn>=0.18.0->bayesian-optimization) (1.3.2)\r\n",
      "Requirement already satisfied: threadpoolctl>=2.0.0 in ./venv/lib/python3.11/site-packages (from scikit-learn>=0.18.0->bayesian-optimization) (3.2.0)\r\n",
      "\r\n",
      "\u001B[1m[\u001B[0m\u001B[34;49mnotice\u001B[0m\u001B[1;39;49m]\u001B[0m\u001B[39;49m A new release of pip is available: \u001B[0m\u001B[31;49m23.1.2\u001B[0m\u001B[39;49m -> \u001B[0m\u001B[32;49m23.2.1\u001B[0m\r\n",
      "\u001B[1m[\u001B[0m\u001B[34;49mnotice\u001B[0m\u001B[1;39;49m]\u001B[0m\u001B[39;49m To update, run: \u001B[0m\u001B[32;49mpip install --upgrade pip\u001B[0m\r\n",
      "Requirement already satisfied: mlxtend in ./venv/lib/python3.11/site-packages (0.22.0)\r\n",
      "\r\n",
      "\u001B[1m[\u001B[0m\u001B[34;49mnotice\u001B[0m\u001B[1;39;49m]\u001B[0m\u001B[39;49m A new release of pip is available: \u001B[0m\u001B[31;49m23.1.2\u001B[0m\u001B[39;49m -> \u001B[0m\u001B[32;49m23.2.1\u001B[0m\r\n",
      "\u001B[1m[\u001B[0m\u001B[34;49mnotice\u001B[0m\u001B[1;39;49m]\u001B[0m\u001B[39;49m To update, run: \u001B[0m\u001B[32;49mpip install --upgrade pip\u001B[0m\r\n"
     ]
    }
   ],
   "source": [
    "# Install les packages nécessaires\n",
    "!pip install bayesian-optimization\n",
    "!pip install mlxtend --upgrade --no-deps"
   ],
   "metadata": {
    "collapsed": false,
    "ExecuteTime": {
     "start_time": "2023-08-10T11:16:34.564626Z",
     "end_time": "2023-08-10T11:16:36.584450Z"
    }
   }
  },
  {
   "cell_type": "markdown",
   "source": [
    "### Import des librairies"
   ],
   "metadata": {
    "collapsed": false
   }
  },
  {
   "cell_type": "code",
   "execution_count": 224,
   "outputs": [],
   "source": [
    "import matplotlib.pyplot as plt\n",
    "import numpy as np\n",
    "import pandas as pd\n",
    "from imblearn.over_sampling import SMOTE\n",
    "from keras import backend as K\n",
    "from keras.layers import Input\n",
    "from sklearn import preprocessing\n",
    "from sklearn.model_selection import StratifiedShuffleSplit\n",
    "from sklearn.preprocessing import LabelEncoder\n"
   ],
   "metadata": {
    "collapsed": false,
    "ExecuteTime": {
     "start_time": "2023-08-10T12:44:58.194160Z",
     "end_time": "2023-08-10T12:44:58.197420Z"
    }
   }
  },
  {
   "cell_type": "markdown",
   "source": [
    "### Import des données"
   ],
   "metadata": {
    "collapsed": false
   }
  },
  {
   "cell_type": "code",
   "execution_count": 208,
   "outputs": [],
   "source": [
    "# Import des données\n",
    "data_train = pd.read_csv('Data/UNSW-NB15 - CSV Files/a part of training and testing set/UNSW_NB15_training-set.csv',\n",
    "                         low_memory=False)\n",
    "data_test = pd.read_csv('Data/UNSW-NB15 - CSV Files/a part of training and testing set/UNSW_NB15_testing-set.csv',\n",
    "                        low_memory=False)\n",
    "\n",
    "# On fusionne les deux datasets\n",
    "data = pd.concat([data_train, data_test], axis=0)\n",
    "\n",
    "# On supprime les colonnes inutiles\n",
    "data.drop('id', axis=1, inplace=True)\n",
    "data.drop('label', axis=1, inplace=True)"
   ],
   "metadata": {
    "collapsed": false,
    "ExecuteTime": {
     "start_time": "2023-08-10T12:04:39.495497Z",
     "end_time": "2023-08-10T12:04:40.469255Z"
    }
   }
  },
  {
   "cell_type": "markdown",
   "source": [
    "### Analyse des données"
   ],
   "metadata": {
    "collapsed": false
   }
  },
  {
   "cell_type": "code",
   "execution_count": 209,
   "outputs": [
    {
     "data": {
      "text/plain": "        dur proto service state  spkts  dpkts  sbytes  dbytes         rate  \\\n0  0.000011   udp       -   INT      2      0     496       0   90909.0902   \n1  0.000008   udp       -   INT      2      0    1762       0  125000.0003   \n2  0.000005   udp       -   INT      2      0    1068       0  200000.0051   \n3  0.000006   udp       -   INT      2      0     900       0  166666.6608   \n4  0.000010   udp       -   INT      2      0    2126       0  100000.0025   \n\n   sttl  ...  ct_src_dport_ltm  ct_dst_sport_ltm  ct_dst_src_ltm  \\\n0   254  ...                 1                 1               2   \n1   254  ...                 1                 1               2   \n2   254  ...                 1                 1               3   \n3   254  ...                 2                 1               3   \n4   254  ...                 2                 1               3   \n\n   is_ftp_login  ct_ftp_cmd  ct_flw_http_mthd  ct_src_ltm  ct_srv_dst  \\\n0             0           0                 0           1           2   \n1             0           0                 0           1           2   \n2             0           0                 0           1           3   \n3             0           0                 0           2           3   \n4             0           0                 0           2           3   \n\n   is_sm_ips_ports  attack_cat  \n0                0      Normal  \n1                0      Normal  \n2                0      Normal  \n3                0      Normal  \n4                0      Normal  \n\n[5 rows x 43 columns]",
      "text/html": "<div>\n<style scoped>\n    .dataframe tbody tr th:only-of-type {\n        vertical-align: middle;\n    }\n\n    .dataframe tbody tr th {\n        vertical-align: top;\n    }\n\n    .dataframe thead th {\n        text-align: right;\n    }\n</style>\n<table border=\"1\" class=\"dataframe\">\n  <thead>\n    <tr style=\"text-align: right;\">\n      <th></th>\n      <th>dur</th>\n      <th>proto</th>\n      <th>service</th>\n      <th>state</th>\n      <th>spkts</th>\n      <th>dpkts</th>\n      <th>sbytes</th>\n      <th>dbytes</th>\n      <th>rate</th>\n      <th>sttl</th>\n      <th>...</th>\n      <th>ct_src_dport_ltm</th>\n      <th>ct_dst_sport_ltm</th>\n      <th>ct_dst_src_ltm</th>\n      <th>is_ftp_login</th>\n      <th>ct_ftp_cmd</th>\n      <th>ct_flw_http_mthd</th>\n      <th>ct_src_ltm</th>\n      <th>ct_srv_dst</th>\n      <th>is_sm_ips_ports</th>\n      <th>attack_cat</th>\n    </tr>\n  </thead>\n  <tbody>\n    <tr>\n      <th>0</th>\n      <td>0.000011</td>\n      <td>udp</td>\n      <td>-</td>\n      <td>INT</td>\n      <td>2</td>\n      <td>0</td>\n      <td>496</td>\n      <td>0</td>\n      <td>90909.0902</td>\n      <td>254</td>\n      <td>...</td>\n      <td>1</td>\n      <td>1</td>\n      <td>2</td>\n      <td>0</td>\n      <td>0</td>\n      <td>0</td>\n      <td>1</td>\n      <td>2</td>\n      <td>0</td>\n      <td>Normal</td>\n    </tr>\n    <tr>\n      <th>1</th>\n      <td>0.000008</td>\n      <td>udp</td>\n      <td>-</td>\n      <td>INT</td>\n      <td>2</td>\n      <td>0</td>\n      <td>1762</td>\n      <td>0</td>\n      <td>125000.0003</td>\n      <td>254</td>\n      <td>...</td>\n      <td>1</td>\n      <td>1</td>\n      <td>2</td>\n      <td>0</td>\n      <td>0</td>\n      <td>0</td>\n      <td>1</td>\n      <td>2</td>\n      <td>0</td>\n      <td>Normal</td>\n    </tr>\n    <tr>\n      <th>2</th>\n      <td>0.000005</td>\n      <td>udp</td>\n      <td>-</td>\n      <td>INT</td>\n      <td>2</td>\n      <td>0</td>\n      <td>1068</td>\n      <td>0</td>\n      <td>200000.0051</td>\n      <td>254</td>\n      <td>...</td>\n      <td>1</td>\n      <td>1</td>\n      <td>3</td>\n      <td>0</td>\n      <td>0</td>\n      <td>0</td>\n      <td>1</td>\n      <td>3</td>\n      <td>0</td>\n      <td>Normal</td>\n    </tr>\n    <tr>\n      <th>3</th>\n      <td>0.000006</td>\n      <td>udp</td>\n      <td>-</td>\n      <td>INT</td>\n      <td>2</td>\n      <td>0</td>\n      <td>900</td>\n      <td>0</td>\n      <td>166666.6608</td>\n      <td>254</td>\n      <td>...</td>\n      <td>2</td>\n      <td>1</td>\n      <td>3</td>\n      <td>0</td>\n      <td>0</td>\n      <td>0</td>\n      <td>2</td>\n      <td>3</td>\n      <td>0</td>\n      <td>Normal</td>\n    </tr>\n    <tr>\n      <th>4</th>\n      <td>0.000010</td>\n      <td>udp</td>\n      <td>-</td>\n      <td>INT</td>\n      <td>2</td>\n      <td>0</td>\n      <td>2126</td>\n      <td>0</td>\n      <td>100000.0025</td>\n      <td>254</td>\n      <td>...</td>\n      <td>2</td>\n      <td>1</td>\n      <td>3</td>\n      <td>0</td>\n      <td>0</td>\n      <td>0</td>\n      <td>2</td>\n      <td>3</td>\n      <td>0</td>\n      <td>Normal</td>\n    </tr>\n  </tbody>\n</table>\n<p>5 rows × 43 columns</p>\n</div>"
     },
     "execution_count": 209,
     "metadata": {},
     "output_type": "execute_result"
    }
   ],
   "source": [
    "# Affichage des données\n",
    "data.head()"
   ],
   "metadata": {
    "collapsed": false,
    "ExecuteTime": {
     "start_time": "2023-08-10T12:04:40.473938Z",
     "end_time": "2023-08-10T12:04:40.476714Z"
    }
   }
  },
  {
   "cell_type": "code",
   "execution_count": 210,
   "outputs": [
    {
     "name": "stdout",
     "output_type": "stream",
     "text": [
      "Taille du dataset :  (257673, 43)\n",
      "Nom des colonnes :  Index(['dur', 'proto', 'service', 'state', 'spkts', 'dpkts', 'sbytes',\n",
      "       'dbytes', 'rate', 'sttl', 'dttl', 'sload', 'dload', 'sloss', 'dloss',\n",
      "       'sinpkt', 'dinpkt', 'sjit', 'djit', 'swin', 'stcpb', 'dtcpb', 'dwin',\n",
      "       'tcprtt', 'synack', 'ackdat', 'smean', 'dmean', 'trans_depth',\n",
      "       'response_body_len', 'ct_srv_src', 'ct_state_ttl', 'ct_dst_ltm',\n",
      "       'ct_src_dport_ltm', 'ct_dst_sport_ltm', 'ct_dst_src_ltm',\n",
      "       'is_ftp_login', 'ct_ftp_cmd', 'ct_flw_http_mthd', 'ct_src_ltm',\n",
      "       'ct_srv_dst', 'is_sm_ips_ports', 'attack_cat'],\n",
      "      dtype='object')\n",
      "Nombre de valeurs nulles :  0\n"
     ]
    }
   ],
   "source": [
    "# Taille du dataset\n",
    "print(\"Taille du dataset : \", data.shape)\n",
    "print(\"Nom des colonnes : \", data.columns)\n",
    "print(\"Nombre de valeurs nulles : \", data.isnull().sum().sum())"
   ],
   "metadata": {
    "collapsed": false,
    "ExecuteTime": {
     "start_time": "2023-08-10T12:04:41.128352Z",
     "end_time": "2023-08-10T12:04:41.141393Z"
    }
   }
  },
  {
   "cell_type": "code",
   "execution_count": 211,
   "outputs": [
    {
     "data": {
      "text/plain": "attack_cat\nNormal            93000\nGeneric           58871\nExploits          44525\nFuzzers           24246\nDoS               16353\nReconnaissance    13987\nAnalysis           2677\nBackdoor           2329\nShellcode          1511\nWorms               174\nName: count, dtype: int64"
     },
     "metadata": {},
     "output_type": "display_data"
    },
    {
     "data": {
      "text/plain": "<Figure size 640x480 with 1 Axes>",
      "image/png": "[encoded data removed]"
     },
     "metadata": {},
     "output_type": "display_data"
    }
   ],
   "source": [
    "# Visualisation des données\n",
    "display(data['attack_cat'].value_counts())\n",
    "data_plot = data['attack_cat'].value_counts().plot(kind='bar', title=\"Nombre d'occurences par catégorie d'attaque\")"
   ],
   "metadata": {
    "collapsed": false,
    "ExecuteTime": {
     "start_time": "2023-08-10T12:04:41.755213Z",
     "end_time": "2023-08-10T12:04:41.894423Z"
    }
   }
  },
  {
   "cell_type": "markdown",
   "source": [
    "### Préparation des données\n",
    "Les données ne sont pas prêtes à être utilisées par un réseau de neurones. Il faut donc les préparer."
   ],
   "metadata": {
    "collapsed": false
   }
  },
  {
   "cell_type": "code",
   "execution_count": 212,
   "outputs": [
    {
     "name": "stdout",
     "output_type": "stream",
     "text": [
      "Colonne 'Proto' --> Valeur max : 132 Valeur min : 0\n",
      "Colonne 'State' --> Valeur max : 10 Valeur min : 0\n",
      "Colonne 'Service' --> Valeur max : 12 Valeur min : 0\n"
     ]
    }
   ],
   "source": [
    "# Transformations des valeurs catégorielles en valeurs numériques\n",
    "def encode_string_byte(df, col_name):\n",
    "    encoder = LabelEncoder()  # Outils pour encoder les valeurs catégorielles\n",
    "    # fit → permet d'apprendre les différentes valeurs possibles\n",
    "    # transform → permet de remplacer les valeurs par les valeurs numériques\n",
    "    df[col_name] = encoder.fit_transform(df[col_name])\n",
    "\n",
    "\n",
    "# 3 colonnes catégorielles contenant des valeurs textuelles\n",
    "encode_string_byte(data, 'proto')\n",
    "encode_string_byte(data, 'state')\n",
    "encode_string_byte(data, 'service')\n",
    "\n",
    "print(\"Colonne 'Proto' --> Valeur max : {} Valeur min : {}\".format(max(data['proto']), min(data['proto'])))\n",
    "print(\"Colonne 'State' --> Valeur max : {} Valeur min : {}\".format(max(data['state']), min(data['state'])))\n",
    "print(\"Colonne 'Service' --> Valeur max : {} Valeur min : {}\".format(max(data['service']), min(data['service'])))"
   ],
   "metadata": {
    "collapsed": false,
    "ExecuteTime": {
     "start_time": "2023-08-10T12:04:42.811764Z",
     "end_time": "2023-08-10T12:04:42.927093Z"
    }
   }
  },
  {
   "cell_type": "code",
   "execution_count": 213,
   "outputs": [],
   "source": [
    "# Normalisation des données\n",
    "# Permet de ramener les valeurs entre 0 et 1, pour éviter que certaines valeurs aient plus d'importance que d'autres\n",
    "def normalize(df, col_name):\n",
    "    x = df[col_name].values.astype(float)  # On récupère les valeurs de la colonne, et on les convertit en float\n",
    "    min_max_scaler = preprocessing.MinMaxScaler()  # Outils pour normaliser les valeurs\n",
    "    x_scaled = min_max_scaler.fit_transform(x.reshape(-1, 1))  # On normalise les valeurs\n",
    "    # x.reshape(-1, 1) permet de convertir un vecteur en matrice\n",
    "    df[col_name] = x_scaled\n",
    "\n",
    "\n",
    "normalize(data, 'dur')\n",
    "normalize(data, 'spkts')\n",
    "normalize(data, 'dpkts')\n",
    "normalize(data, 'sbytes')\n",
    "normalize(data, 'dbytes')\n",
    "normalize(data, 'rate')\n",
    "normalize(data, 'sttl')\n",
    "normalize(data, 'dttl')\n",
    "normalize(data, 'sload')\n",
    "normalize(data, 'dload')\n",
    "normalize(data, 'sloss')\n",
    "normalize(data, 'dloss')\n",
    "normalize(data, 'sinpkt')\n",
    "normalize(data, 'dinpkt')\n",
    "normalize(data, 'sjit')\n",
    "normalize(data, 'djit')\n",
    "normalize(data, 'swin')\n",
    "normalize(data, 'stcpb')\n",
    "normalize(data, 'dtcpb')\n",
    "normalize(data, 'dwin')\n",
    "normalize(data, 'tcprtt')\n",
    "normalize(data, 'synack')\n",
    "normalize(data, 'ackdat')\n",
    "normalize(data, 'smean')\n",
    "normalize(data, 'dmean')\n",
    "normalize(data, 'trans_depth')\n",
    "normalize(data, 'response_body_len')\n",
    "normalize(data, 'ct_srv_src')\n",
    "normalize(data, 'ct_state_ttl')\n",
    "normalize(data, 'ct_dst_ltm')\n",
    "normalize(data, 'ct_src_dport_ltm')\n",
    "normalize(data, 'ct_dst_sport_ltm')\n",
    "normalize(data, 'ct_dst_src_ltm')\n",
    "normalize(data, 'is_ftp_login')\n",
    "normalize(data, 'ct_ftp_cmd')\n",
    "normalize(data, 'ct_flw_http_mthd')\n",
    "normalize(data, 'ct_src_ltm')\n",
    "normalize(data, 'ct_srv_dst')\n",
    "normalize(data, 'is_sm_ips_ports')"
   ],
   "metadata": {
    "collapsed": false,
    "ExecuteTime": {
     "start_time": "2023-08-10T12:04:43.349994Z",
     "end_time": "2023-08-10T12:04:43.385148Z"
    }
   }
  },
  {
   "cell_type": "code",
   "execution_count": 214,
   "outputs": [],
   "source": [
    "# Quantification des données\n",
    "# Permet de transformer les valeurs continues en valeurs discrètes (0 à 255)\n",
    "# + Réduction de la complexité des données, + réduction du bruit, + Rapide à calculer, - Perte d'information, - Perte de précision\n",
    "\n",
    "def quantification_0_255(df, col_name):\n",
    "    x = df[col_name].values.astype(float)\n",
    "    min_max_scaler = preprocessing.MinMaxScaler((0, 255))\n",
    "    x_0_255 = min_max_scaler.fit_transform(x.reshape(-1, 1)).astype(int)\n",
    "    df[col_name] = x_0_255\n",
    "\n",
    "\n",
    "quantification_0_255(data, 'dur')\n",
    "quantification_0_255(data, 'spkts')\n",
    "quantification_0_255(data, 'dpkts')\n",
    "quantification_0_255(data, 'sbytes')\n",
    "quantification_0_255(data, 'dbytes')\n",
    "quantification_0_255(data, 'rate')\n",
    "quantification_0_255(data, 'sttl')\n",
    "quantification_0_255(data, 'dttl')\n",
    "quantification_0_255(data, 'sload')\n",
    "quantification_0_255(data, 'dload')\n",
    "quantification_0_255(data, 'sloss')\n",
    "quantification_0_255(data, 'dloss')\n",
    "quantification_0_255(data, 'sinpkt')\n",
    "quantification_0_255(data, 'dinpkt')\n",
    "quantification_0_255(data, 'sjit')\n",
    "quantification_0_255(data, 'djit')\n",
    "quantification_0_255(data, 'swin')\n",
    "quantification_0_255(data, 'stcpb')\n",
    "quantification_0_255(data, 'dtcpb')\n",
    "quantification_0_255(data, 'dwin')\n",
    "quantification_0_255(data, 'tcprtt')\n",
    "quantification_0_255(data, 'synack')\n",
    "quantification_0_255(data, 'ackdat')\n",
    "quantification_0_255(data, 'smean')\n",
    "quantification_0_255(data, 'dmean')\n",
    "quantification_0_255(data, 'trans_depth')\n",
    "quantification_0_255(data, 'response_body_len')\n",
    "quantification_0_255(data, 'ct_srv_src')\n",
    "quantification_0_255(data, 'ct_state_ttl')\n",
    "quantification_0_255(data, 'ct_dst_ltm')\n",
    "quantification_0_255(data, 'ct_src_dport_ltm')\n",
    "quantification_0_255(data, 'ct_dst_sport_ltm')\n",
    "quantification_0_255(data, 'ct_dst_src_ltm')\n",
    "quantification_0_255(data, 'is_ftp_login')\n",
    "quantification_0_255(data, 'ct_ftp_cmd')\n",
    "quantification_0_255(data, 'ct_flw_http_mthd')\n",
    "quantification_0_255(data, 'ct_src_ltm')\n",
    "quantification_0_255(data, 'ct_srv_dst')\n",
    "quantification_0_255(data, 'is_sm_ips_ports')"
   ],
   "metadata": {
    "collapsed": false,
    "ExecuteTime": {
     "start_time": "2023-08-10T12:04:44.065547Z",
     "end_time": "2023-08-10T12:04:44.100830Z"
    }
   }
  },
  {
   "cell_type": "code",
   "execution_count": 215,
   "outputs": [],
   "source": [
    "# Stockage dans la variable y V1\n",
    "# Puisque attack_cat est une variable catégorielle, on va la transformer en variable numérique\n",
    "#label_encoder = LabelEncoder()  # Outils pour encoder les étiquettes textuelles en étiquettes numériques\n",
    "#label_binarizer = LabelBinarizer()  # Outils pour encoder les étiquettes numériques en étiquettes binaires\n",
    "\n",
    "#label = data['attack_cat'].values\n",
    "\n",
    "# Encodage des étiquettes textuelles en étiquettes numériques\n",
    "#label_encoder.fit(label)\n",
    "#y = label_encoder.transform(label)\n",
    "\n",
    "# Transformation des étiquettes numériques en étiquettes binaires\n",
    "#label_binarizer.fit(y)\n",
    "#y = label_binarizer.transform(y)\n",
    "\n",
    "#y = pd.DataFrame(y)"
   ],
   "metadata": {
    "collapsed": false,
    "ExecuteTime": {
     "start_time": "2023-08-10T12:04:44.602618Z",
     "end_time": "2023-08-10T12:04:44.611484Z"
    }
   }
  },
  {
   "cell_type": "code",
   "execution_count": 216,
   "outputs": [
    {
     "data": {
      "text/plain": "   Analysis  Backdoor    DoS  Exploits  Fuzzers  Generic  Normal  \\\n0     False     False  False     False    False    False    True   \n1     False     False  False     False    False    False    True   \n2     False     False  False     False    False    False    True   \n3     False     False  False     False    False    False    True   \n4     False     False  False     False    False    False    True   \n\n   Reconnaissance  Shellcode  Worms  \n0           False      False  False  \n1           False      False  False  \n2           False      False  False  \n3           False      False  False  \n4           False      False  False  ",
      "text/html": "<div>\n<style scoped>\n    .dataframe tbody tr th:only-of-type {\n        vertical-align: middle;\n    }\n\n    .dataframe tbody tr th {\n        vertical-align: top;\n    }\n\n    .dataframe thead th {\n        text-align: right;\n    }\n</style>\n<table border=\"1\" class=\"dataframe\">\n  <thead>\n    <tr style=\"text-align: right;\">\n      <th></th>\n      <th>Analysis</th>\n      <th>Backdoor</th>\n      <th>DoS</th>\n      <th>Exploits</th>\n      <th>Fuzzers</th>\n      <th>Generic</th>\n      <th>Normal</th>\n      <th>Reconnaissance</th>\n      <th>Shellcode</th>\n      <th>Worms</th>\n    </tr>\n  </thead>\n  <tbody>\n    <tr>\n      <th>0</th>\n      <td>False</td>\n      <td>False</td>\n      <td>False</td>\n      <td>False</td>\n      <td>False</td>\n      <td>False</td>\n      <td>True</td>\n      <td>False</td>\n      <td>False</td>\n      <td>False</td>\n    </tr>\n    <tr>\n      <th>1</th>\n      <td>False</td>\n      <td>False</td>\n      <td>False</td>\n      <td>False</td>\n      <td>False</td>\n      <td>False</td>\n      <td>True</td>\n      <td>False</td>\n      <td>False</td>\n      <td>False</td>\n    </tr>\n    <tr>\n      <th>2</th>\n      <td>False</td>\n      <td>False</td>\n      <td>False</td>\n      <td>False</td>\n      <td>False</td>\n      <td>False</td>\n      <td>True</td>\n      <td>False</td>\n      <td>False</td>\n      <td>False</td>\n    </tr>\n    <tr>\n      <th>3</th>\n      <td>False</td>\n      <td>False</td>\n      <td>False</td>\n      <td>False</td>\n      <td>False</td>\n      <td>False</td>\n      <td>True</td>\n      <td>False</td>\n      <td>False</td>\n      <td>False</td>\n    </tr>\n    <tr>\n      <th>4</th>\n      <td>False</td>\n      <td>False</td>\n      <td>False</td>\n      <td>False</td>\n      <td>False</td>\n      <td>False</td>\n      <td>True</td>\n      <td>False</td>\n      <td>False</td>\n      <td>False</td>\n    </tr>\n  </tbody>\n</table>\n</div>"
     },
     "execution_count": 216,
     "metadata": {},
     "output_type": "execute_result"
    }
   ],
   "source": [
    "# Suppression de la colonne 'attack_cat' et stockage dans la variable y\n",
    "y_column = data['attack_cat']\n",
    "data.drop('attack_cat', axis=1, inplace=True)\n",
    "dummies = pd.get_dummies(y_column)\n",
    "y = dummies.values\n",
    "dummies.head()"
   ],
   "metadata": {
    "collapsed": false,
    "ExecuteTime": {
     "start_time": "2023-08-10T12:04:45.190128Z",
     "end_time": "2023-08-10T12:04:45.204703Z"
    }
   }
  },
  {
   "cell_type": "markdown",
   "source": [
    "### Transformation des données en Images\n",
    "Les CNN sont spécialement adapté au traitement des images. Nous allons donc transformer nos données en images pour pouvoir les traiter avec un CNN."
   ],
   "metadata": {
    "collapsed": false
   }
  },
  {
   "cell_type": "code",
   "execution_count": 217,
   "outputs": [
    {
     "name": "stdout",
     "output_type": "stream",
     "text": [
      "(257673, 42)\n"
     ]
    }
   ],
   "source": [
    "# La longueur de notre dataset est de 42 colonnes et de 257673 lignes\n",
    "print(data.shape)"
   ],
   "metadata": {
    "collapsed": false,
    "ExecuteTime": {
     "start_time": "2023-08-10T12:04:46.241260Z",
     "end_time": "2023-08-10T12:04:46.248049Z"
    }
   }
  },
  {
   "cell_type": "code",
   "execution_count": 218,
   "outputs": [
    {
     "name": "stdout",
     "output_type": "stream",
     "text": [
      "(257673, 64)\n"
     ]
    }
   ],
   "source": [
    "# Chaque ligne aura une longueur de 64 valeurs\n",
    "# Actuellement, chaque ligne est composée de 42 valeurs donc nous ajoutons 22 valeurs pour arriver à 64\n",
    "# (0,0) : 0 ligne ajoutée à gauche, 0 ligne ajoutée à droite\n",
    "# (0,22) : 0 colonne ajoutée à gauche, 22 colonnes ajoutées à droite\n",
    "# 'constant' : Les valeurs ajoutées sont des 0\n",
    "byte_images = np.pad(data.to_numpy(), ((0, 0), (0, 22)), 'constant')\n",
    "print(byte_images.shape)"
   ],
   "metadata": {
    "collapsed": false,
    "ExecuteTime": {
     "start_time": "2023-08-10T12:04:46.733629Z",
     "end_time": "2023-08-10T12:04:46.784241Z"
    }
   }
  },
  {
   "cell_type": "code",
   "execution_count": 219,
   "outputs": [
    {
     "name": "stdout",
     "output_type": "stream",
     "text": [
      "Image normale :\n",
      "Normal Output\n"
     ]
    },
    {
     "data": {
      "text/plain": "<Figure size 640x480 with 1 Axes>",
      "image/png": "[encoded data removed]"
     },
     "metadata": {},
     "output_type": "display_data"
    },
    {
     "name": "stdout",
     "output_type": "stream",
     "text": [
      "Generic Output\n"
     ]
    },
    {
     "data": {
      "text/plain": "<Figure size 640x480 with 1 Axes>",
      "image/png": "[encoded data removed]"
     },
     "metadata": {},
     "output_type": "display_data"
    },
    {
     "name": "stdout",
     "output_type": "stream",
     "text": [
      "Exploits Output\n"
     ]
    },
    {
     "data": {
      "text/plain": "<Figure size 640x480 with 1 Axes>",
      "image/png": "[encoded data removed]"
     },
     "metadata": {},
     "output_type": "display_data"
    },
    {
     "name": "stdout",
     "output_type": "stream",
     "text": [
      "Fuzzers Output\n"
     ]
    },
    {
     "data": {
      "text/plain": "<Figure size 640x480 with 1 Axes>",
      "image/png": "[encoded data removed]"
     },
     "metadata": {},
     "output_type": "display_data"
    },
    {
     "name": "stdout",
     "output_type": "stream",
     "text": [
      "DoS Output\n"
     ]
    },
    {
     "data": {
      "text/plain": "<Figure size 640x480 with 1 Axes>",
      "image/png": "[encoded data removed]"
     },
     "metadata": {},
     "output_type": "display_data"
    },
    {
     "name": "stdout",
     "output_type": "stream",
     "text": [
      "Reconnaissance Output\n"
     ]
    },
    {
     "data": {
      "text/plain": "<Figure size 640x480 with 1 Axes>",
      "image/png": "[encoded data removed]"
     },
     "metadata": {},
     "output_type": "display_data"
    },
    {
     "name": "stdout",
     "output_type": "stream",
     "text": [
      "Analysis Output\n"
     ]
    },
    {
     "data": {
      "text/plain": "<Figure size 640x480 with 1 Axes>",
      "image/png": "[encoded data removed]"
     },
     "metadata": {},
     "output_type": "display_data"
    },
    {
     "name": "stdout",
     "output_type": "stream",
     "text": [
      "Backdoor Output\n"
     ]
    },
    {
     "data": {
      "text/plain": "<Figure size 640x480 with 1 Axes>",
      "image/png": "[encoded data removed]"
     },
     "metadata": {},
     "output_type": "display_data"
    },
    {
     "name": "stdout",
     "output_type": "stream",
     "text": [
      "Shellcode Output\n"
     ]
    },
    {
     "data": {
      "text/plain": "<Figure size 640x480 with 1 Axes>",
      "image/png": "[encoded data removed]"
     },
     "metadata": {},
     "output_type": "display_data"
    },
    {
     "name": "stdout",
     "output_type": "stream",
     "text": [
      "Worms Output\n"
     ]
    },
    {
     "data": {
      "text/plain": "<Figure size 640x480 with 1 Axes>",
      "image/png": "[encoded data removed]"
     },
     "metadata": {},
     "output_type": "display_data"
    }
   ],
   "source": [
    "# Plot d'une image\n",
    "def plot_single_image(byte_image):\n",
    "    grayImage = byte_image.reshape(8, 8)  # On redimensionne l'image\n",
    "    plt.imshow(grayImage, cmap=\"gray\")  # On affiche l'image avec une colormap en niveau de gris\n",
    "    plt.show()  # On affiche l'image\n",
    "\n",
    "\n",
    "print(\"Image normale :\")\n",
    "print(\"Normal Output\")\n",
    "plot_single_image(byte_images[0])  # index 0 = Normal\n",
    "print(\"Generic Output\")\n",
    "plot_single_image(byte_images[117204])\n",
    "print(\"Exploits Output\")\n",
    "plot_single_image(byte_images[48932])\n",
    "print(\"Fuzzers Output\")\n",
    "plot_single_image(byte_images[48017])\n",
    "print(\"DoS Output\")\n",
    "plot_single_image(byte_images[48999])\n",
    "print(\"Reconnaissance Output\")\n",
    "plot_single_image(byte_images[48866])\n",
    "print(\"Analysis Output\")\n",
    "plot_single_image(byte_images[47932])\n",
    "print(\"Backdoor Output\")\n",
    "plot_single_image(byte_images[47911])\n",
    "print(\"Shellcode Output\")\n",
    "plot_single_image(byte_images[48813])\n",
    "print(\"Worms Output\")\n",
    "plot_single_image(byte_images[49959])"
   ],
   "metadata": {
    "collapsed": false,
    "ExecuteTime": {
     "start_time": "2023-08-10T12:04:47.258029Z",
     "end_time": "2023-08-10T12:04:47.850577Z"
    }
   }
  },
  {
   "cell_type": "code",
   "execution_count": 220,
   "outputs": [
    {
     "data": {
      "text/plain": "array([  0, 119,   0,   5,   0,   0,   0,   0,  23, 254,   0,   7,   0,\n         0,   0,   0,   0,   0,   0,   0,   0,   0,   0,   0,   0,   0,\n        38,   0,   0,   0,   4,  85,   0,   0,   0,   3,   0,   0,   0,\n         0,   4,   0,   0,   0,   0,   0,   0,   0,   0,   0,   0,   0,\n         0,   0,   0,   0,   0,   0,   0,   0,   0,   0,   0,   0])"
     },
     "execution_count": 220,
     "metadata": {},
     "output_type": "execute_result"
    }
   ],
   "source": [
    "byte_images[0]"
   ],
   "metadata": {
    "collapsed": false,
    "ExecuteTime": {
     "start_time": "2023-08-10T12:04:49.566240Z",
     "end_time": "2023-08-10T12:04:49.572243Z"
    }
   }
  },
  {
   "cell_type": "markdown",
   "source": [
    "- On refait une étape de normalisation pour avoir des valeurs entre -0.5 et 0.5. L'objectif c'est de facilité l'apprentissage du CNN, car les données centrées autour du 0 peuvent améliorer la convergence et la stabilité de l'apprentissage. De plus on évite les valeurs extrêmes.\n",
    "- Réquilibrage avec SMOTE, cela permet d'équilibrer les classes en créant des données synthétiques.\n",
    "- Le CNN prend en entrée des matrices. Actuellement, nos données sont des vecteurs. Nous allons donc les transformer en matrice de taille 8x8x1."
   ],
   "metadata": {
    "collapsed": false
   }
  },
  {
   "cell_type": "code",
   "execution_count": 221,
   "outputs": [
    {
     "name": "stdout",
     "output_type": "stream",
     "text": [
      "(930000, 64)\n",
      "930000\n"
     ]
    }
   ],
   "source": [
    "# Normalisation\n",
    "x = []\n",
    "for image in np.array(byte_images):\n",
    "    x.append((image / 255 - 0.5)) # Normalisation des valeurs entre -0.5 et 0.5\n",
    "\n",
    "# Réquilibrage des classes avec SMOTE\n",
    "sm = SMOTE(random_state=0)\n",
    "x, y = sm.fit_resample(x, y)  # ajuste et applique le rééchantillonnage\n",
    "\n",
    "# Transformation de x en matrice\n",
    "x = np.array(x)\n",
    "# x.shape = (930'000, 64)\n",
    "x = x.reshape(x.shape[0], 8, 8, 1)\n",
    "# Transforme le vecteur x en une matrice 4D de taille (930'000, 8, 8, 1)\n",
    "# chaque element de la liste x est un vecteur de taille 64, nous la transformons en un carré donc 8x8.\n",
    "# 1 car nous avons une seule couleur (niveau de gris)"
   ],
   "metadata": {
    "collapsed": false,
    "ExecuteTime": {
     "start_time": "2023-08-10T12:04:51.665627Z",
     "end_time": "2023-08-10T12:05:04.021824Z"
    }
   }
  },
  {
   "cell_type": "markdown",
   "source": [
    "### Préparation de la création du modèle"
   ],
   "metadata": {
    "collapsed": false
   }
  },
  {
   "cell_type": "code",
   "execution_count": 226,
   "outputs": [],
   "source": [
    "def plot_accuracies(nets, history, names, y_accuracy):\n",
    "    \"\"\"\n",
    "    Affiche un graphique des précisions de validation pour différents modèles\n",
    "    sur plusieurs époques d'entraînement.\n",
    "\n",
    "    :param nets: Nombre total de modèles à afficher.\n",
    "    :param history: Liste contenant l'historique d'entraînement pour chaque modèle.\n",
    "    :param names: Liste des noms des modèles.\n",
    "    :param y_accuracy: Limites pour l'axe des ordonnées (précision).\n",
    "    \"\"\"\n",
    "    # Initialisation de la figure\n",
    "    plt.figure(figsize=(15, 5))\n",
    "    # Liste de couleurs pour les différentes courbes\n",
    "    color = ['red', 'green', 'blue', 'orange', 'purple', 'brown', 'pink', 'gray', 'olive', 'cyan']\n",
    "    # Boucle pour tracer la précision de validation pour chaque modèle\n",
    "    for i in range(nets):\n",
    "        plt.plot(history[i].history['val_accuracy'], linestyle='--', color=color[i])\n",
    "    # Titre et étiquettes pour les axes\n",
    "    plt.title('Précision du modèle')\n",
    "    plt.ylabel('Précision')\n",
    "    plt.xlabel('Époque')\n",
    "    # Légende du graphique\n",
    "    plt.legend(names, loc='upper left')\n",
    "    # Configuration de l'axe des ordonnées et activation de la grille\n",
    "    axes = plt.gca()\n",
    "    axes.set_ylim(y_accuracy)\n",
    "    plt.grid(True)\n",
    "    # Affichage du graphique\n",
    "    plt.show()\n"
   ],
   "metadata": {
    "collapsed": false,
    "ExecuteTime": {
     "start_time": "2023-08-10T12:46:32.514296Z",
     "end_time": "2023-08-10T12:46:32.525472Z"
    }
   }
  },
  {
   "cell_type": "code",
   "execution_count": 227,
   "outputs": [],
   "source": [
    "# Fonction d'activation Swish\n",
    "def swish(x):\n",
    "    return (K.sigmoid(x) * x)\n",
    "\n",
    "# get_custom_objects().update({'swish': Activation(swish)}), je ne trouve pas l'import\n",
    "# A faire: model.add(Dense(64, activation=swish))\n",
    "# model = load_model('path_to_model.h5', custom_objects={'swish': swish})"
   ],
   "metadata": {
    "collapsed": false,
    "ExecuteTime": {
     "start_time": "2023-08-10T12:46:33.203592Z",
     "end_time": "2023-08-10T12:46:33.206277Z"
    }
   }
  },
  {
   "cell_type": "code",
   "execution_count": 228,
   "outputs": [],
   "source": [
    "# Séparation des données en données d'entraînement et données de test\n",
    "# StratifiedShuffleSplit permet de conserver la même proportion de classes dans les données d'entraînement et de test\n",
    "sss = StratifiedShuffleSplit(n_splits=1, test_size=0.25, random_state=42)\n",
    "\n",
    "for train_index, test_index in sss.split(x, y):\n",
    "    x_train, x_test = x[train_index], x[test_index]\n",
    "    y_train, y_test = y[train_index], y[test_index]"
   ],
   "metadata": {
    "collapsed": false,
    "ExecuteTime": {
     "start_time": "2023-08-10T12:46:33.695573Z",
     "end_time": "2023-08-10T12:46:39.101813Z"
    }
   }
  },
  {
   "cell_type": "markdown",
   "source": [
    "### Création du modèle\n",
    "Création de 3 variants de modèles CNN avec des architectures différentes. basée sur le nombre de bloc VGG qu'ils contiennent. Chaque bloc VGG est composé d'une serie de couche de convolution suivies d'une couche de pooling."
   ],
   "metadata": {
    "collapsed": false
   }
  },
  {
   "cell_type": "code",
   "execution_count": null,
   "outputs": [
    {
     "name": "stdout",
     "output_type": "stream",
     "text": [
      "Model: \"model_1\"\n",
      "_________________________________________________________________\n",
      " Layer (type)                Output Shape              Param #   \n",
      "=================================================================\n",
      " input_2 (InputLayer)        [(None, 8, 8, 1)]         0         \n",
      "                                                                 \n",
      " batch_normalization_2 (Bat  (None, 8, 8, 1)           4         \n",
      " chNormalization)                                                \n",
      "                                                                 \n",
      " re_lu_2 (ReLU)              (None, 8, 8, 1)           0         \n",
      "                                                                 \n",
      " conv2d_2 (Conv2D)           (None, 8, 8, 32)          320       \n",
      "                                                                 \n",
      " batch_normalization_3 (Bat  (None, 8, 8, 32)          128       \n",
      " chNormalization)                                                \n",
      "                                                                 \n",
      " re_lu_3 (ReLU)              (None, 8, 8, 32)          0         \n",
      "                                                                 \n",
      " conv2d_3 (Conv2D)           (None, 8, 8, 32)          9248      \n",
      "                                                                 \n",
      " flatten_1 (Flatten)         (None, 2048)              0         \n",
      "                                                                 \n",
      " dense_2 (Dense)             (None, 128)               262272    \n",
      "                                                                 \n",
      " dense_3 (Dense)             (None, 10)                1290      \n",
      "                                                                 \n",
      "=================================================================\n",
      "Total params: 273262 (1.04 MB)\n",
      "Trainable params: 273196 (1.04 MB)\n",
      "Non-trainable params: 66 (264.00 Byte)\n",
      "_________________________________________________________________\n",
      "Epoch 1/20\n",
      "5450/5450 [==============================] - 38s 7ms/step - loss: 0.9257 - accuracy: 0.6355 - val_loss: 0.8064 - val_accuracy: 0.6813\n",
      "Epoch 2/20\n",
      "5450/5450 [==============================] - 37s 7ms/step - loss: 0.7816 - accuracy: 0.6857 - val_loss: 0.7619 - val_accuracy: 0.6921\n",
      "Epoch 3/20\n",
      "4776/5450 [=========================>....] - ETA: 4s - loss: 0.7503 - accuracy: 0.6962"
     ]
    }
   ],
   "source": [
    "from keras import Model\n",
    "from keras.src.layers import BatchNormalization, ReLU, Conv2D, Flatten, Dense, concatenate\n",
    "\n",
    "nets = 3  # Nombre de modèle\n",
    "model = [0] * nets  # Liste des modèles\n",
    "history = [0] * nets  # Liste des historiques d'entraînement pour chaque modèle\n",
    "names = [\"1_block\", \"2_blocks\", \"3_blocks\"]\n",
    "\n",
    "epochs = 20  # Nombre d'époques d'entraînement → nombre de fois qu'il va parcourir l'ensemble des données d'entraînement\n",
    "batch_size = 128  # Nombre d'images à traiter avant de mettre à jour les poids du réseau de neurones\n",
    "\n",
    "# Boucle pour créer les modèles\n",
    "for net in range(nets):\n",
    "    if net == 0:  # modèle 1\n",
    "        input_img = Input(shape=(8, 8, 1))  # Définition de la structure de l'entrée du modèle\n",
    "\n",
    "        ### Block\n",
    "        # BatchNormalization permet de normaliser les activations, ce qui permet d'accélérer l'apprentissage\n",
    "        # Mais est secondaire, car les données d'entrée sont déjà normalisées autour de 0.\n",
    "        block_1 = BatchNormalization()(input_img)\n",
    "\n",
    "        # ReLu ce qui garentie que les valeurs de sortie sont positives\n",
    "        block_1 = ReLU()(block_1)\n",
    "\n",
    "        # Conv2D permet de créer une couche de convolution\n",
    "        # 32 est le nombre de filtres de convolution\n",
    "        # (3,3) est la taille de la fenêtre de convolution\n",
    "        # padding='same' permet de conserver la taille de l'image en sortie\n",
    "        block_1 = Conv2D(32, (3,3), padding='same')(block_1)\n",
    "\n",
    "        block_1 = BatchNormalization()(block_1)  # Permet d'accélérer l'apprentissage\n",
    "        block_1 = ReLU()(block_1)\n",
    "        block_1 = Conv2D(32, (3,3), padding='same')(block_1)\n",
    "        ### Fin block\n",
    "\n",
    "        output = Flatten()(block_1)  # Permet de transformer la matrice en vecteur\n",
    "        output = Dense(128, activation='relu')(output)  # Couche de sortie avec 128 neurones et fonction d'activation relu\n",
    "        out = Dense(10, activation='softmax')(output)  # Couche de sortie avec 10 neurones (1 par classe) et fonction d'activation softmax\n",
    "    if net == 1:\n",
    "        input_img = Input(shape = (8, 8, 1))\n",
    "\n",
    "        ### Block 1\n",
    "        block_1 = BatchNormalization()(input_img)\n",
    "        block_1 = ReLU()(block_1)\n",
    "        block_1 = Conv2D(32, (3,3), padding='same')(block_1)\n",
    "        block_1 = BatchNormalization()(block_1)\n",
    "        block_1 = ReLU()(block_1)\n",
    "        block_1 = Conv2D(32, (3,3), padding='same')(block_1)\n",
    "        ### Fin block 1\n",
    "\n",
    "        concat_1 =concatenate([input_img, block_1], axis = 3)\n",
    "\n",
    "        ### Block 2\n",
    "        block_2 = BatchNormalization()(concat_1)\n",
    "        block_2 = ReLU()(block_2)\n",
    "        block_2 = Conv2D(64, (3,3), padding='same')(block_2)\n",
    "        block_2 = BatchNormalization()(block_2)\n",
    "        block_2 = ReLU()(block_2)\n",
    "        block_2 = Conv2D(64, (3,3), padding='same')(block_2)\n",
    "        ### Fin block 2\n",
    "\n",
    "        output = Flatten()(block_2)\n",
    "        output = Dense(128, activation='relu')(output)\n",
    "        out    = Dense(10, activation='softmax')(output)\n",
    "    if net == 2 :\n",
    "        input_img = Input(shape = (8, 8, 1))\n",
    "\n",
    "        ### Block 1\n",
    "        block_1 = BatchNormalization()(input_img)\n",
    "        block_1 = ReLU()(block_1)\n",
    "        block_1 = Conv2D(32, (3,3), padding='same')(block_1)\n",
    "        block_1 = BatchNormalization()(block_1)\n",
    "        block_1 = ReLU()(block_1)\n",
    "        block_1 = Conv2D(32, (3,3), padding='same')(block_1)\n",
    "        ### Fin block 1\n",
    "\n",
    "        concat_1 =concatenate([input_img, block_1], axis = 3)\n",
    "\n",
    "        ### Block 2\n",
    "        block_2 = BatchNormalization()(concat_1)\n",
    "        block_2 = ReLU()(block_2)\n",
    "        block_2 = Conv2D(64, (3,3), padding='same')(block_2)\n",
    "        block_2 = BatchNormalization()(block_2)\n",
    "        block_2 = ReLU()(block_2)\n",
    "        block_2 = Conv2D(64, (3,3), padding='same')(block_2)\n",
    "        ### Fin block 2\n",
    "\n",
    "        concat_2 =concatenate([input_img, block_1,block_2], axis = 3)\n",
    "\n",
    "        ### Block 3\n",
    "        block_3 = BatchNormalization()(concat_2)\n",
    "        block_3 = ReLU()(block_3)\n",
    "        block_3 = Conv2D(128, (3,3), padding='same')(block_3)\n",
    "        block_3 = BatchNormalization()(block_3)\n",
    "        block_3 = ReLU()(block_3)\n",
    "        block_3 = Conv2D(128, (3,3), padding='same',strides=(2,2))(block_3)\n",
    "        ### Fin block 3\n",
    "\n",
    "        output = Flatten()(block_3)\n",
    "        output = Dense(128, activation='relu')(output)\n",
    "        out    = Dense(10, activation='softmax')(output)\n",
    "\n",
    "    model[net] = Model(inputs = input_img, outputs = out)\n",
    "    model[net].summary()\n",
    "    model[net].compile(optimizer=\"adam\", loss=\"categorical_crossentropy\", metrics=[\"accuracy\"])\n",
    "    history[net] = model[net].fit(x_train,y_train,validation_data=(x_test,y_test),verbose=1,batch_size=batch_size,epochs=epochs)\n",
    "\n",
    "    score = model[net].evaluate(x_test, y_test, verbose=0)\n",
    "    print (\"\")\n",
    "    print(\"CNN: {}, Epochs={}, Batch_size={}, Test loss={}, Test accuracy={}\".format(names[net],epochs,batch_size,score[0],score[1]))\n",
    "    print (\"\")\n"
   ],
   "metadata": {
    "collapsed": false
   }
  },
  {
   "cell_type": "code",
   "execution_count": null,
   "outputs": [],
   "source": [
    "plot_accuracies (nets,history,names,[0.75,0.85])"
   ],
   "metadata": {
    "collapsed": false
   }
  },
  {
   "cell_type": "code",
   "execution_count": 234,
   "outputs": [
    {
     "data": {
      "text/plain": "          0         1        2         3    4    5         6         7\n0 -0.500000 -0.029412 -0.50000 -0.480392 -0.5 -0.5 -0.500000 -0.500000\n1 -0.390196  0.496078 -0.50000 -0.488235 -0.5 -0.5 -0.500000 -0.500000\n2 -0.500000 -0.500000 -0.50000 -0.500000 -0.5 -0.5 -0.500000 -0.500000\n3 -0.500000 -0.500000 -0.44902 -0.500000 -0.5 -0.5 -0.437255 -0.166667\n4 -0.500000 -0.500000 -0.50000 -0.441176 -0.5 -0.5 -0.500000 -0.500000\n5 -0.437255 -0.500000 -0.50000 -0.500000 -0.5 -0.5 -0.500000 -0.500000\n6 -0.500000 -0.500000 -0.50000 -0.500000 -0.5 -0.5 -0.500000 -0.500000\n7 -0.500000 -0.500000 -0.50000 -0.500000 -0.5 -0.5 -0.500000 -0.500000",
      "text/html": "<div>\n<style scoped>\n    .dataframe tbody tr th:only-of-type {\n        vertical-align: middle;\n    }\n\n    .dataframe tbody tr th {\n        vertical-align: top;\n    }\n\n    .dataframe thead th {\n        text-align: right;\n    }\n</style>\n<table border=\"1\" class=\"dataframe\">\n  <thead>\n    <tr style=\"text-align: right;\">\n      <th></th>\n      <th>0</th>\n      <th>1</th>\n      <th>2</th>\n      <th>3</th>\n      <th>4</th>\n      <th>5</th>\n      <th>6</th>\n      <th>7</th>\n    </tr>\n  </thead>\n  <tbody>\n    <tr>\n      <th>0</th>\n      <td>-0.500000</td>\n      <td>-0.029412</td>\n      <td>-0.50000</td>\n      <td>-0.480392</td>\n      <td>-0.5</td>\n      <td>-0.5</td>\n      <td>-0.500000</td>\n      <td>-0.500000</td>\n    </tr>\n    <tr>\n      <th>1</th>\n      <td>-0.390196</td>\n      <td>0.496078</td>\n      <td>-0.50000</td>\n      <td>-0.488235</td>\n      <td>-0.5</td>\n      <td>-0.5</td>\n      <td>-0.500000</td>\n      <td>-0.500000</td>\n    </tr>\n    <tr>\n      <th>2</th>\n      <td>-0.500000</td>\n      <td>-0.500000</td>\n      <td>-0.50000</td>\n      <td>-0.500000</td>\n      <td>-0.5</td>\n      <td>-0.5</td>\n      <td>-0.500000</td>\n      <td>-0.500000</td>\n    </tr>\n    <tr>\n      <th>3</th>\n      <td>-0.500000</td>\n      <td>-0.500000</td>\n      <td>-0.44902</td>\n      <td>-0.500000</td>\n      <td>-0.5</td>\n      <td>-0.5</td>\n      <td>-0.437255</td>\n      <td>-0.166667</td>\n    </tr>\n    <tr>\n      <th>4</th>\n      <td>-0.500000</td>\n      <td>-0.500000</td>\n      <td>-0.50000</td>\n      <td>-0.441176</td>\n      <td>-0.5</td>\n      <td>-0.5</td>\n      <td>-0.500000</td>\n      <td>-0.500000</td>\n    </tr>\n    <tr>\n      <th>5</th>\n      <td>-0.437255</td>\n      <td>-0.500000</td>\n      <td>-0.50000</td>\n      <td>-0.500000</td>\n      <td>-0.5</td>\n      <td>-0.5</td>\n      <td>-0.500000</td>\n      <td>-0.500000</td>\n    </tr>\n    <tr>\n      <th>6</th>\n      <td>-0.500000</td>\n      <td>-0.500000</td>\n      <td>-0.50000</td>\n      <td>-0.500000</td>\n      <td>-0.5</td>\n      <td>-0.5</td>\n      <td>-0.500000</td>\n      <td>-0.500000</td>\n    </tr>\n    <tr>\n      <th>7</th>\n      <td>-0.500000</td>\n      <td>-0.500000</td>\n      <td>-0.50000</td>\n      <td>-0.500000</td>\n      <td>-0.5</td>\n      <td>-0.5</td>\n      <td>-0.500000</td>\n      <td>-0.500000</td>\n    </tr>\n  </tbody>\n</table>\n</div>"
     },
     "execution_count": 234,
     "metadata": {},
     "output_type": "execute_result"
    }
   ],
   "source": [
    "# x_train[0] to dataframe\n",
    "reshaped_array = x_train[0].reshape(8, 8)\n",
    "df = pd.DataFrame(reshaped_array)\n",
    "df"
   ],
   "metadata": {
    "collapsed": false,
    "ExecuteTime": {
     "start_time": "2023-08-10T14:30:10.898469Z",
     "end_time": "2023-08-10T14:30:10.901766Z"
    }
   }
  },
  {
   "cell_type": "code",
   "execution_count": null,
   "outputs": [],
   "source": [],
   "metadata": {
    "collapsed": false
   }
  }
 ],
 "metadata": {
  "kernelspec": {
   "display_name": "Python 3",
   "language": "python",
   "name": "python3"
  },
  "language_info": {
   "codemirror_mode": {
    "name": "ipython",
    "version": 3
   },
   "file_extension": ".py",
   "mimetype": "text/x-python",
   "name": "python",
   "nbconvert_exporter": "python",
   "pygments_lexer": "ipython3",
   "version": "3.11.2"
  }
 },
 "nbformat": 4,
 "nbformat_minor": 0
}
